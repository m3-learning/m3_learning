{
 "cells": [
  {
   "cell_type": "markdown",
   "metadata": {},
   "source": [
    "# Hysteresis Loops Fitting"
   ]
  },
  {
   "cell_type": "code",
   "execution_count": 1,
   "metadata": {},
   "outputs": [],
   "source": [
    "import sys\n",
    "sys.path.append('../../')\n",
    "sys.path.append('../../src')"
   ]
  },
  {
   "cell_type": "code",
   "execution_count": 2,
   "metadata": {},
   "outputs": [
    {
     "name": "stderr",
     "output_type": "stream",
     "text": [
      "2024-08-15 12:05:47.489528: E external/local_xla/xla/stream_executor/cuda/cuda_dnn.cc:9261] Unable to register cuDNN factory: Attempting to register factory for plugin cuDNN when one has already been registered\n",
      "2024-08-15 12:05:47.489570: E external/local_xla/xla/stream_executor/cuda/cuda_fft.cc:607] Unable to register cuFFT factory: Attempting to register factory for plugin cuFFT when one has already been registered\n",
      "2024-08-15 12:05:47.490845: E external/local_xla/xla/stream_executor/cuda/cuda_blas.cc:1515] Unable to register cuBLAS factory: Attempting to register factory for plugin cuBLAS when one has already been registered\n",
      "2024-08-15 12:05:47.497062: I tensorflow/core/platform/cpu_feature_guard.cc:182] This TensorFlow binary is optimized to use available CPU instructions in performance-critical operations.\n",
      "To enable the following instructions: AVX2 FMA, in other operations, rebuild TensorFlow with the appropriate compiler flags.\n",
      "2024-08-15 12:05:48.140488: W tensorflow/compiler/tf2tensorrt/utils/py_utils.cc:38] TF-TRT Warning: Could not find TensorRT\n"
     ]
    },
    {
     "name": "stdout",
     "output_type": "stream",
     "text": [
      "printing set for seaborn\n",
      "Pytorch seed was set to 42\n",
      "Numpy seed was set to 42\n",
      "tensorflow seed was set to 42\n"
     ]
    }
   ],
   "source": [
    "%load_ext autoreload\n",
    "%autoreload 2\n",
    "\n",
    "import h5py\n",
    "import pyUSID as usid\n",
    "\n",
    "from src.m3_learning.be.processing import fit_loop_function, loop_lsqf\n",
    "from m3_learning.be.loop_fitter import loop_fitting_function_torch\n",
    "from m3_learning.viz.layout import subfigures\n",
    "\n",
    "import numpy as np\n",
    "\n",
    "from m3_learning.nn.random import random_seed\n",
    "from m3_learning.viz.style import set_style\n",
    "from m3_learning.viz.printing import printer\n",
    "from m3_learning.be.viz import Viz\n",
    "from m3_learning.be.dataset import BE_Dataset\n",
    "from m3_learning.be.nn import SHO_fit_func_nn, SHO_Model\n",
    "from m3_learning.nn.Fitter1D.Fitter1D import Multiscale1DFitter, Model\n",
    "# from m3_learning.nn.Fitter1D.Fitter1D_new import Multiscale1DFitter, Model\n",
    "from m3_learning.be.filters import clean_interpolate\n",
    "\n",
    "import torch\n",
    "\n",
    "printing = printer(basepath = './Figures/')\n",
    "\n",
    "\n",
    "set_style(\"printing\")\n",
    "random_seed(seed=42)\n",
    "\n",
    "%matplotlib inline"
   ]
  },
  {
   "cell_type": "code",
   "execution_count": 3,
   "metadata": {},
   "outputs": [],
   "source": [
    "from BGlib import be as belib\n"
   ]
  },
  {
   "cell_type": "code",
   "execution_count": 4,
   "metadata": {},
   "outputs": [
    {
     "name": "stderr",
     "output_type": "stream",
     "text": [
      "/tmp/ipykernel_116038/616780478.py:1: DeprecationWarning: pkg_resources is deprecated as an API. See https://setuptools.pypa.io/en/latest/pkg_resources.html\n",
      "  import pkg_resources\n"
     ]
    },
    {
     "data": {
      "text/plain": [
       "'0.0.6'"
      ]
     },
     "execution_count": 4,
     "metadata": {},
     "output_type": "execute_result"
    }
   ],
   "source": [
    "import pkg_resources\n",
    "\n",
    "# Check the version of BGlib\n",
    "bg_version = pkg_resources.get_distribution(\"BGlib\").version\n",
    "bg_version"
   ]
  },
  {
   "cell_type": "code",
   "execution_count": 5,
   "metadata": {},
   "outputs": [
    {
     "data": {
      "text/plain": [
       "'1.26.4'"
      ]
     },
     "execution_count": 5,
     "metadata": {},
     "output_type": "execute_result"
    }
   ],
   "source": [
    "pkg_resources.get_distribution(\"numpy\").version"
   ]
  },
  {
   "cell_type": "code",
   "execution_count": 6,
   "metadata": {},
   "outputs": [
    {
     "data": {
      "text/plain": [
       "'3.11.9 (main, Apr 19 2024, 16:48:06) [GCC 11.2.0]'"
      ]
     },
     "execution_count": 6,
     "metadata": {},
     "output_type": "execute_result"
    }
   ],
   "source": [
    "import sys\n",
    "sys.version"
   ]
  },
  {
   "cell_type": "markdown",
   "metadata": {},
   "source": [
    "## Loads data"
   ]
  },
  {
   "cell_type": "code",
   "execution_count": 7,
   "metadata": {},
   "outputs": [
    {
     "data": {
      "text/html": [
       "\n",
       "<style>\n",
       "    div#notebook-container    { width: 95%; }\n",
       "    div#menubar-container     { width: 65%; }\n",
       "    div#maintoolbar-container { width: 99%; }\n",
       "</style>\n"
      ],
      "text/plain": [
       "<IPython.core.display.HTML object>"
      ]
     },
     "metadata": {},
     "output_type": "display_data"
    },
    {
     "name": "stdout",
     "output_type": "stream",
     "text": [
      "The autoreload extension is already loaded. To reload it, use:\n",
      "  %reload_ext autoreload\n",
      "printing set for seaborn\n",
      "Pytorch seed was set to 42\n",
      "Numpy seed was set to 42\n",
      "tensorflow seed was set to 42\n"
     ]
    }
   ],
   "source": [
    "# Ensure python 3 compatibility\n",
    "from __future__ import division, print_function, absolute_import\n",
    "\n",
    "# Import necessary libraries:\n",
    "# General utilities:\n",
    "import os\n",
    "\n",
    "# Computation:\n",
    "import numpy as np\n",
    "import h5py\n",
    "\n",
    "# Visualization:\n",
    "import matplotlib.pyplot as plt\n",
    "from IPython.display import display, HTML\n",
    "\n",
    "# The engineering components supporting BGlib:\n",
    "import sidpy\n",
    "import pyUSID as usid\n",
    "# Finally, BGlib itself\n",
    "from BGlib import be as belib\n",
    "\n",
    "# Make Notebook take up most of page width\n",
    "display(HTML(data=\"\"\"\n",
    "<style>\n",
    "    div#notebook-container    { width: 95%; }\n",
    "    div#menubar-container     { width: 65%; }\n",
    "    div#maintoolbar-container { width: 99%; }\n",
    "</style>\n",
    "\"\"\"))\n",
    "\n",
    "# For the notebook to work you must have m3_learning installed\n",
    "# pip install m3_learning\n",
    "%load_ext autoreload\n",
    "%autoreload 2\n",
    "\n",
    "import numpy as np\n",
    "\n",
    "from m3_learning.nn.random import random_seed\n",
    "from m3_learning.viz.style import set_style\n",
    "from m3_learning.util.file_IO import download_and_unzip\n",
    "from m3_learning.viz.printing import printer\n",
    "from m3_learning.be.viz import Viz\n",
    "from m3_learning.be.dataset import BE_Dataset\n",
    "from IPython.display import Video\n",
    "\n",
    "\n",
    "# from m3_learning.be.dataset import BE_Dataset\n",
    "printing = printer(basepath = './Figures/')\n",
    "\n",
    "set_style(\"printing\")\n",
    "random_seed(seed=42)\n",
    "\n",
    "%matplotlib inline"
   ]
  },
  {
   "cell_type": "code",
   "execution_count": 8,
   "metadata": {},
   "outputs": [],
   "source": [
    "max_mem = 1024*8  # Maximum memory to use, in Mbs. Default = 1024\n",
    "# Number of logical cores to use in fitting.  None uses all but 2 available cores.\n",
    "max_cores = None\n",
    "results_to_new_file = False"
   ]
  },
  {
   "cell_type": "code",
   "execution_count": 9,
   "metadata": {},
   "outputs": [
    {
     "name": "stdout",
     "output_type": "stream",
     "text": [
      "Using files already downloaded\n"
     ]
    }
   ],
   "source": [
    "# Download the data file from Zenodo\n",
    "url = 'https://zenodo.org/record/7774788/files/PZT_2080_raw_data.h5?download=1'\n",
    "\n",
    "# Specify the filename and the path to save the file\n",
    "filename = '/data_raw_7_25 copy.h5'\n",
    "save_path = './Data'\n",
    "\n",
    "# download the file\n",
    "download_and_unzip(filename, url, save_path)\n",
    "\n",
    "h5_path = save_path + filename"
   ]
  },
  {
   "cell_type": "code",
   "execution_count": 10,
   "metadata": {},
   "outputs": [
    {
     "name": "stdout",
     "output_type": "stream",
     "text": [
      "Working on:\n",
      "./Data/data_raw_7_25 copy.h5\n"
     ]
    }
   ],
   "source": [
    "# h5_path = \"/home/ferroelectric/Documents/m3_learning/m3_learning/papers/2023_Rapid_Fitting/Data/data_raw_manual.h5\"\n",
    "\n",
    "h5_path = save_path + filename\n",
    "\n",
    "folder_path, h5_raw_file_name = os.path.split(h5_path)\n",
    "h5_file = h5py.File(h5_path, 'r+')\n",
    "print('Working on:\\n' + h5_path)\n",
    "\n",
    "h5_main = usid.hdf_utils.find_dataset(h5_file, 'Raw_Data')[0]\n",
    "\n",
    "# h5_main"
   ]
  },
  {
   "cell_type": "code",
   "execution_count": 11,
   "metadata": {},
   "outputs": [
    {
     "name": "stdout",
     "output_type": "stream",
     "text": [
      "Datasets and datagroups within the file:\n",
      "------------------------------------\n",
      "/\n",
      "├ Measurement_000\n",
      "  ---------------\n",
      "  ├ Channel_000\n",
      "    -----------\n",
      "    ├ Bin_FFT\n",
      "    ├ Bin_Frequencies\n",
      "    ├ Bin_Indices\n",
      "    ├ Bin_Step\n",
      "    ├ Bin_Wfm_Type\n",
      "    ├ Excitation_Waveform\n",
      "    ├ Noise_Floor\n",
      "    ├ Noisy_Data_1\n",
      "    ├ Noisy_Data_2\n",
      "    ├ Noisy_Data_3\n",
      "    ├ Noisy_Data_4\n",
      "    ├ Noisy_Data_5\n",
      "    ├ Noisy_Data_6\n",
      "    ├ Noisy_Data_7\n",
      "    ├ Noisy_Data_8\n",
      "    ├ Position_Indices\n",
      "    ├ Position_Values\n",
      "    ├ Raw_Data\n",
      "    ├ Spatially_Averaged_Plot_Group_000\n",
      "      ---------------------------------\n",
      "      ├ Bin_Frequencies\n",
      "      ├ Max_Response\n",
      "      ├ Mean_Spectrogram\n",
      "      ├ Min_Response\n",
      "      ├ Spectroscopic_Parameter\n",
      "      ├ Step_Averaged_Response\n",
      "    ├ Spatially_Averaged_Plot_Group_001\n",
      "      ---------------------------------\n",
      "      ├ Bin_Frequencies\n",
      "      ├ Max_Response\n",
      "      ├ Mean_Spectrogram\n",
      "      ├ Min_Response\n",
      "      ├ Spectroscopic_Parameter\n",
      "      ├ Step_Averaged_Response\n",
      "    ├ Spectroscopic_Indices\n",
      "    ├ Spectroscopic_Values\n",
      "    ├ UDVS\n",
      "    ├ UDVS_Indices\n",
      "  ├ Raw_Data-SHO_Fit_000\n",
      "    --------------------\n",
      "    ├ Fit\n",
      "    ├ Fit-Loop_Fit_000\n",
      "      ----------------\n",
      "      ├ Fit\n",
      "      ├ Fit_Loop_Parameters\n",
      "      ├ Guess\n",
      "      ├ Guess_Loop_Parameters\n",
      "      ├ Loop_Metrics\n",
      "      ├ Loop_Metrics_Indices\n",
      "      ├ Loop_Metrics_Values\n",
      "      ├ Projected_Loops\n",
      "      ├ completed_fit_positions\n",
      "      ├ completed_guess_positions\n",
      "      ├ completed_positions\n",
      "    ├ Guess\n",
      "    ├ Spectroscopic_Indices\n",
      "    ├ Spectroscopic_Values\n",
      "    ├ completed_fit_positions\n",
      "    ├ completed_guess_positions\n",
      "    ├ completed_positions\n",
      "├ Noisy_Data_1_SHO_Fit\n",
      "  --------------------\n",
      "  ├ Noisy_Data_1-SHO_Fit_000\n",
      "    ------------------------\n",
      "    ├ Fit\n",
      "    ├ Guess\n",
      "    ├ Spectroscopic_Indices\n",
      "    ├ Spectroscopic_Values\n",
      "    ├ completed_fit_positions\n",
      "    ├ completed_guess_positions\n",
      "├ Noisy_Data_2_SHO_Fit\n",
      "  --------------------\n",
      "  ├ Noisy_Data_2-SHO_Fit_000\n",
      "    ------------------------\n",
      "    ├ Fit\n",
      "    ├ Guess\n",
      "    ├ Spectroscopic_Indices\n",
      "    ├ Spectroscopic_Values\n",
      "    ├ completed_fit_positions\n",
      "    ├ completed_guess_positions\n",
      "├ Noisy_Data_3_SHO_Fit\n",
      "  --------------------\n",
      "  ├ Noisy_Data_3-SHO_Fit_000\n",
      "    ------------------------\n",
      "    ├ Fit\n",
      "    ├ Guess\n",
      "    ├ Spectroscopic_Indices\n",
      "    ├ Spectroscopic_Values\n",
      "    ├ completed_fit_positions\n",
      "    ├ completed_guess_positions\n",
      "├ Noisy_Data_4_SHO_Fit\n",
      "  --------------------\n",
      "  ├ Noisy_Data_4-SHO_Fit_000\n",
      "    ------------------------\n",
      "    ├ Fit\n",
      "    ├ Guess\n",
      "    ├ Spectroscopic_Indices\n",
      "    ├ Spectroscopic_Values\n",
      "    ├ completed_fit_positions\n",
      "    ├ completed_guess_positions\n",
      "├ Noisy_Data_5_SHO_Fit\n",
      "  --------------------\n",
      "  ├ Noisy_Data_5-SHO_Fit_000\n",
      "    ------------------------\n",
      "    ├ Fit\n",
      "    ├ Guess\n",
      "    ├ Spectroscopic_Indices\n",
      "    ├ Spectroscopic_Values\n",
      "    ├ completed_fit_positions\n",
      "    ├ completed_guess_positions\n",
      "├ Noisy_Data_6_SHO_Fit\n",
      "  --------------------\n",
      "  ├ Noisy_Data_6-SHO_Fit_000\n",
      "    ------------------------\n",
      "    ├ Fit\n",
      "    ├ Guess\n",
      "    ├ Spectroscopic_Indices\n",
      "    ├ Spectroscopic_Values\n",
      "    ├ completed_fit_positions\n",
      "    ├ completed_guess_positions\n",
      "├ Noisy_Data_7_SHO_Fit\n",
      "  --------------------\n",
      "  ├ Noisy_Data_7-SHO_Fit_000\n",
      "    ------------------------\n",
      "    ├ Fit\n",
      "    ├ Guess\n",
      "    ├ Spectroscopic_Indices\n",
      "    ├ Spectroscopic_Values\n",
      "    ├ completed_fit_positions\n",
      "    ├ completed_guess_positions\n",
      "├ Noisy_Data_8_SHO_Fit\n",
      "  --------------------\n",
      "  ├ Noisy_Data_8-SHO_Fit_000\n",
      "    ------------------------\n",
      "    ├ Fit\n",
      "    ├ Guess\n",
      "    ├ Spectroscopic_Indices\n",
      "    ├ Spectroscopic_Values\n",
      "    ├ completed_fit_positions\n",
      "    ├ completed_guess_positions\n",
      "├ Raw_Data-SHO_Fit_000\n",
      "  --------------------\n",
      "  ├ Fit\n",
      "  ├ Guess\n",
      "  ├ Spectroscopic_Indices\n",
      "  ├ Spectroscopic_Values\n",
      "  ├ completed_fit_positions\n",
      "  ├ completed_guess_positions\n",
      "  ├ completed_positions\n",
      "├ Raw_Data_SHO_Fit\n",
      "  ----------------\n",
      "  ├ Raw_Data-SHO_Fit_000\n",
      "    --------------------\n",
      "    ├ Fit\n",
      "    ├ Guess\n",
      "    ├ Spectroscopic_Indices\n",
      "    ├ Spectroscopic_Values\n",
      "    ├ completed_fit_positions\n",
      "    ├ completed_guess_positions\n",
      "\n",
      "The main dataset:\n",
      "------------------------------------\n",
      "<HDF5 dataset \"Raw_Data\": shape (3600, 63360), type \"<c8\">\n",
      "located at: \n",
      "\t/Measurement_000/Channel_000/Raw_Data \n",
      "Data contains: \n",
      "\tPiezoresponse (V) \n",
      "Data dimensions and original shape: \n",
      "Position Dimensions: \n",
      "\tY - size: 60 \n",
      "\tX - size: 60 \n",
      "Spectroscopic Dimensions: \n",
      "\tFrequency - size: 165 \n",
      "\tDC_Offset - size: 96 \n",
      "\tField - size: 2 \n",
      "\tCycle - size: 2\n",
      "Data Type:\n",
      "\tcomplex64\n",
      "\n",
      "Metadata or attributes in the measurement datagroup\n",
      "------------------------------------\n",
      "BE_actual_duration_[s] : 0.004\n",
      "BE_amplitude_[V] : 1\n",
      "BE_auto_smoothing : auto smoothing on\n",
      "BE_band_edge_smoothing_[s] : 4832.1\n",
      "BE_band_edge_trim : 0.094742\n",
      "BE_band_width_[Hz] : 200000\n",
      "BE_bins_per_band : 0\n",
      "BE_center_frequency_[Hz] : 1310000\n",
      "BE_desired_duration_[s] : 0.004\n",
      "BE_phase_content : chirp-sinc hybrid\n",
      "BE_phase_variation : 1\n",
      "BE_points_per_BE_wave : 0\n",
      "BE_repeats : 4\n",
      "FORC_V_high1_[V] : 1\n",
      "FORC_V_high2_[V] : 10\n",
      "FORC_V_low1_[V] : -1\n",
      "FORC_V_low2_[V] : -10\n",
      "FORC_num_of_FORC_cycles : 1\n",
      "FORC_num_of_FORC_repeats : 1\n",
      "File_MDAQ_version : MDAQ_VS_090915_01\n",
      "File_date_and_time : 18-Sep-2015 18:32:14\n",
      "File_file_name : SP128_NSO\n",
      "File_file_path : C:\\Users\\Asylum User\\Documents\\Users\\Agar\\SP128_NSO\\\n",
      "File_file_suffix : 99\n",
      "IO_AO_amplifier : 10\n",
      "IO_AO_range_[V] : +/- 10\n",
      "IO_Analog_Input_1 : +/- .1V, FFT\n",
      "IO_Analog_Input_2 : off\n",
      "IO_Analog_Input_3 : off\n",
      "IO_Analog_Input_4 : off\n",
      "IO_DAQ_platform : NI 6115\n",
      "IO_rate_[Hz] : 4000000\n",
      "VS_amplitude_[V] : 16\n",
      "VS_cycle_fraction : full\n",
      "VS_cycle_phase_shift : 0\n",
      "VS_measure_in_field_loops : in and out-of-field\n",
      "VS_mode : DC modulation mode\n",
      "VS_number_of_cycles : 2\n",
      "VS_offset_[V] : 0\n",
      "VS_read_voltage_[V] : 0\n",
      "VS_set_pulse_amplitude[V] : 0\n",
      "VS_set_pulse_duration[s] : 0.002\n",
      "VS_step_edge_smoothing_[s] : 0.001\n",
      "VS_steps_per_full_cycle : 96\n",
      "data_type : BEPSData\n",
      "grid_/single : grid\n",
      "grid_contact_set_point_[V] : 1\n",
      "grid_current_col : 1\n",
      "grid_current_row : 1\n",
      "grid_cycle_time_[s] : 10\n",
      "grid_measuring : 0\n",
      "grid_moving : 0\n",
      "grid_num_cols : 60\n",
      "grid_num_rows : 60\n",
      "grid_settle_time_[s] : 0.15\n",
      "grid_time_remaining_[h;m;s] : 10\n",
      "grid_total_time_[h;m;s] : 10\n",
      "grid_transit_set_point_[V] : 0.1\n",
      "grid_transit_time_[s] : 0.15\n",
      "num_bins : 165\n",
      "num_pix : 3600\n",
      "num_udvs_steps : 384\n"
     ]
    }
   ],
   "source": [
    "print('Datasets and datagroups within the file:\\n------------------------------------')\n",
    "sidpy.hdf.hdf_utils.print_tree(h5_file)\n",
    "\n",
    "print('\\nThe main dataset:\\n------------------------------------')\n",
    "print(h5_main)\n",
    "\n",
    "print('\\nMetadata or attributes in the measurement datagroup\\n------------------------------------')\n",
    "for key, val in sidpy.hdf.hdf_utils.get_attributes(h5_main.parent.parent).items():\n",
    "    print('{} : {}'.format(key, val))"
   ]
  },
  {
   "cell_type": "code",
   "execution_count": 12,
   "metadata": {},
   "outputs": [
    {
     "name": "stdout",
     "output_type": "stream",
     "text": [
      "No spectroscopic datasets found as attributes of /Measurement_000/Channel_000/Position_Indices\n",
      "No position datasets found as attributes of /Measurement_000/Raw_Data-SHO_Fit_000/Spectroscopic_Values\n"
     ]
    }
   ],
   "source": [
    "# instantiate the dataset object\n",
    "dataset = BE_Dataset(h5_path, SHO_fit_func_LSQF=SHO_fit_func_nn)\n"
   ]
  },
  {
   "cell_type": "code",
   "execution_count": 13,
   "metadata": {},
   "outputs": [
    {
     "name": "stdout",
     "output_type": "stream",
     "text": [
      "/\n",
      "├ Measurement_000\n",
      "  ---------------\n",
      "  ├ Channel_000\n",
      "    -----------\n",
      "    ├ Bin_FFT\n",
      "    ├ Bin_Frequencies\n",
      "    ├ Bin_Indices\n",
      "    ├ Bin_Step\n",
      "    ├ Bin_Wfm_Type\n",
      "    ├ Excitation_Waveform\n",
      "    ├ Noise_Floor\n",
      "    ├ Noisy_Data_1\n",
      "    ├ Noisy_Data_2\n",
      "    ├ Noisy_Data_3\n",
      "    ├ Noisy_Data_4\n",
      "    ├ Noisy_Data_5\n",
      "    ├ Noisy_Data_6\n",
      "    ├ Noisy_Data_7\n",
      "    ├ Noisy_Data_8\n",
      "    ├ Position_Indices\n",
      "    ├ Position_Values\n",
      "    ├ Raw_Data\n",
      "    ├ Spatially_Averaged_Plot_Group_000\n",
      "      ---------------------------------\n",
      "      ├ Bin_Frequencies\n",
      "      ├ Max_Response\n",
      "      ├ Mean_Spectrogram\n",
      "      ├ Min_Response\n",
      "      ├ Spectroscopic_Parameter\n",
      "      ├ Step_Averaged_Response\n",
      "    ├ Spatially_Averaged_Plot_Group_001\n",
      "      ---------------------------------\n",
      "      ├ Bin_Frequencies\n",
      "      ├ Max_Response\n",
      "      ├ Mean_Spectrogram\n",
      "      ├ Min_Response\n",
      "      ├ Spectroscopic_Parameter\n",
      "      ├ Step_Averaged_Response\n",
      "    ├ Spectroscopic_Indices\n",
      "    ├ Spectroscopic_Values\n",
      "    ├ UDVS\n",
      "    ├ UDVS_Indices\n",
      "  ├ Raw_Data-SHO_Fit_000\n",
      "    --------------------\n",
      "    ├ Fit\n",
      "    ├ Fit-Loop_Fit_000\n",
      "      ----------------\n",
      "      ├ Fit\n",
      "      ├ Fit_Loop_Parameters\n",
      "      ├ Guess\n",
      "      ├ Guess_Loop_Parameters\n",
      "      ├ Loop_Metrics\n",
      "      ├ Loop_Metrics_Indices\n",
      "      ├ Loop_Metrics_Values\n",
      "      ├ Projected_Loops\n",
      "      ├ completed_fit_positions\n",
      "      ├ completed_guess_positions\n",
      "      ├ completed_positions\n",
      "    ├ Guess\n",
      "    ├ Spectroscopic_Indices\n",
      "    ├ Spectroscopic_Values\n",
      "    ├ completed_fit_positions\n",
      "    ├ completed_guess_positions\n",
      "    ├ completed_positions\n",
      "├ Noisy_Data_1_SHO_Fit\n",
      "  --------------------\n",
      "  ├ Noisy_Data_1-SHO_Fit_000\n",
      "    ------------------------\n",
      "    ├ Fit\n",
      "    ├ Guess\n",
      "    ├ Spectroscopic_Indices\n",
      "    ├ Spectroscopic_Values\n",
      "    ├ completed_fit_positions\n",
      "    ├ completed_guess_positions\n",
      "├ Noisy_Data_2_SHO_Fit\n",
      "  --------------------\n",
      "  ├ Noisy_Data_2-SHO_Fit_000\n",
      "    ------------------------\n",
      "    ├ Fit\n",
      "    ├ Guess\n",
      "    ├ Spectroscopic_Indices\n",
      "    ├ Spectroscopic_Values\n",
      "    ├ completed_fit_positions\n",
      "    ├ completed_guess_positions\n",
      "├ Noisy_Data_3_SHO_Fit\n",
      "  --------------------\n",
      "  ├ Noisy_Data_3-SHO_Fit_000\n",
      "    ------------------------\n",
      "    ├ Fit\n",
      "    ├ Guess\n",
      "    ├ Spectroscopic_Indices\n",
      "    ├ Spectroscopic_Values\n",
      "    ├ completed_fit_positions\n",
      "    ├ completed_guess_positions\n",
      "├ Noisy_Data_4_SHO_Fit\n",
      "  --------------------\n",
      "  ├ Noisy_Data_4-SHO_Fit_000\n",
      "    ------------------------\n",
      "    ├ Fit\n",
      "    ├ Guess\n",
      "    ├ Spectroscopic_Indices\n",
      "    ├ Spectroscopic_Values\n",
      "    ├ completed_fit_positions\n",
      "    ├ completed_guess_positions\n",
      "├ Noisy_Data_5_SHO_Fit\n",
      "  --------------------\n",
      "  ├ Noisy_Data_5-SHO_Fit_000\n",
      "    ------------------------\n",
      "    ├ Fit\n",
      "    ├ Guess\n",
      "    ├ Spectroscopic_Indices\n",
      "    ├ Spectroscopic_Values\n",
      "    ├ completed_fit_positions\n",
      "    ├ completed_guess_positions\n",
      "├ Noisy_Data_6_SHO_Fit\n",
      "  --------------------\n",
      "  ├ Noisy_Data_6-SHO_Fit_000\n",
      "    ------------------------\n",
      "    ├ Fit\n",
      "    ├ Guess\n",
      "    ├ Spectroscopic_Indices\n",
      "    ├ Spectroscopic_Values\n",
      "    ├ completed_fit_positions\n",
      "    ├ completed_guess_positions\n",
      "├ Noisy_Data_7_SHO_Fit\n",
      "  --------------------\n",
      "  ├ Noisy_Data_7-SHO_Fit_000\n",
      "    ------------------------\n",
      "    ├ Fit\n",
      "    ├ Guess\n",
      "    ├ Spectroscopic_Indices\n",
      "    ├ Spectroscopic_Values\n",
      "    ├ completed_fit_positions\n",
      "    ├ completed_guess_positions\n",
      "├ Noisy_Data_8_SHO_Fit\n",
      "  --------------------\n",
      "  ├ Noisy_Data_8-SHO_Fit_000\n",
      "    ------------------------\n",
      "    ├ Fit\n",
      "    ├ Guess\n",
      "    ├ Spectroscopic_Indices\n",
      "    ├ Spectroscopic_Values\n",
      "    ├ completed_fit_positions\n",
      "    ├ completed_guess_positions\n",
      "├ Raw_Data-SHO_Fit_000\n",
      "  --------------------\n",
      "  ├ Fit\n",
      "  ├ Guess\n",
      "  ├ Spectroscopic_Indices\n",
      "  ├ Spectroscopic_Values\n",
      "  ├ completed_fit_positions\n",
      "  ├ completed_guess_positions\n",
      "  ├ completed_positions\n",
      "├ Raw_Data_SHO_Fit\n",
      "  ----------------\n",
      "  ├ Raw_Data-SHO_Fit_000\n",
      "    --------------------\n",
      "    ├ Fit\n",
      "    ├ Guess\n",
      "    ├ Spectroscopic_Indices\n",
      "    ├ Spectroscopic_Values\n",
      "    ├ completed_fit_positions\n",
      "    ├ completed_guess_positions\n",
      "Datasets and datagroups within the file:\n",
      "------------------------------------\n",
      "/\n",
      "/Measurement_000\n",
      "/Measurement_000/Channel_000\n",
      "/Measurement_000/Channel_000/Bin_FFT\n",
      "/Measurement_000/Channel_000/Bin_Frequencies\n",
      "/Measurement_000/Channel_000/Bin_Indices\n",
      "/Measurement_000/Channel_000/Bin_Step\n",
      "/Measurement_000/Channel_000/Bin_Wfm_Type\n",
      "/Measurement_000/Channel_000/Excitation_Waveform\n",
      "/Measurement_000/Channel_000/Noise_Floor\n",
      "/Measurement_000/Channel_000/Noisy_Data_1\n",
      "/Measurement_000/Channel_000/Noisy_Data_2\n",
      "/Measurement_000/Channel_000/Noisy_Data_3\n",
      "/Measurement_000/Channel_000/Noisy_Data_4\n",
      "/Measurement_000/Channel_000/Noisy_Data_5\n",
      "/Measurement_000/Channel_000/Noisy_Data_6\n",
      "/Measurement_000/Channel_000/Noisy_Data_7\n",
      "/Measurement_000/Channel_000/Noisy_Data_8\n",
      "/Measurement_000/Channel_000/Position_Indices\n",
      "/Measurement_000/Channel_000/Position_Values\n",
      "/Measurement_000/Channel_000/Raw_Data\n",
      "/Measurement_000/Channel_000/Spatially_Averaged_Plot_Group_000\n",
      "/Measurement_000/Channel_000/Spatially_Averaged_Plot_Group_000/Bin_Frequencies\n",
      "/Measurement_000/Channel_000/Spatially_Averaged_Plot_Group_000/Max_Response\n",
      "/Measurement_000/Channel_000/Spatially_Averaged_Plot_Group_000/Mean_Spectrogram\n",
      "/Measurement_000/Channel_000/Spatially_Averaged_Plot_Group_000/Min_Response\n",
      "/Measurement_000/Channel_000/Spatially_Averaged_Plot_Group_000/Spectroscopic_Parameter\n",
      "/Measurement_000/Channel_000/Spatially_Averaged_Plot_Group_000/Step_Averaged_Response\n",
      "/Measurement_000/Channel_000/Spatially_Averaged_Plot_Group_001\n",
      "/Measurement_000/Channel_000/Spatially_Averaged_Plot_Group_001/Bin_Frequencies\n",
      "/Measurement_000/Channel_000/Spatially_Averaged_Plot_Group_001/Max_Response\n",
      "/Measurement_000/Channel_000/Spatially_Averaged_Plot_Group_001/Mean_Spectrogram\n",
      "/Measurement_000/Channel_000/Spatially_Averaged_Plot_Group_001/Min_Response\n",
      "/Measurement_000/Channel_000/Spatially_Averaged_Plot_Group_001/Spectroscopic_Parameter\n",
      "/Measurement_000/Channel_000/Spatially_Averaged_Plot_Group_001/Step_Averaged_Response\n",
      "/Measurement_000/Channel_000/Spectroscopic_Indices\n",
      "/Measurement_000/Channel_000/Spectroscopic_Values\n",
      "/Measurement_000/Channel_000/UDVS\n",
      "/Measurement_000/Channel_000/UDVS_Indices\n",
      "/Measurement_000/Raw_Data-SHO_Fit_000\n",
      "/Measurement_000/Raw_Data-SHO_Fit_000/Fit\n",
      "/Measurement_000/Raw_Data-SHO_Fit_000/Fit-Loop_Fit_000\n",
      "/Measurement_000/Raw_Data-SHO_Fit_000/Fit-Loop_Fit_000/Fit\n",
      "/Measurement_000/Raw_Data-SHO_Fit_000/Fit-Loop_Fit_000/Fit_Loop_Parameters\n",
      "/Measurement_000/Raw_Data-SHO_Fit_000/Fit-Loop_Fit_000/Guess\n",
      "/Measurement_000/Raw_Data-SHO_Fit_000/Fit-Loop_Fit_000/Guess_Loop_Parameters\n",
      "/Measurement_000/Raw_Data-SHO_Fit_000/Fit-Loop_Fit_000/Loop_Metrics\n",
      "/Measurement_000/Raw_Data-SHO_Fit_000/Fit-Loop_Fit_000/Loop_Metrics_Indices\n",
      "/Measurement_000/Raw_Data-SHO_Fit_000/Fit-Loop_Fit_000/Loop_Metrics_Values\n",
      "/Measurement_000/Raw_Data-SHO_Fit_000/Fit-Loop_Fit_000/Projected_Loops\n",
      "/Measurement_000/Raw_Data-SHO_Fit_000/Fit-Loop_Fit_000/completed_fit_positions\n",
      "/Measurement_000/Raw_Data-SHO_Fit_000/Fit-Loop_Fit_000/completed_guess_positions\n",
      "/Measurement_000/Raw_Data-SHO_Fit_000/Fit-Loop_Fit_000/completed_positions\n",
      "/Measurement_000/Raw_Data-SHO_Fit_000/Guess\n",
      "/Measurement_000/Raw_Data-SHO_Fit_000/Spectroscopic_Indices\n",
      "/Measurement_000/Raw_Data-SHO_Fit_000/Spectroscopic_Values\n",
      "/Measurement_000/Raw_Data-SHO_Fit_000/completed_fit_positions\n",
      "/Measurement_000/Raw_Data-SHO_Fit_000/completed_guess_positions\n",
      "/Measurement_000/Raw_Data-SHO_Fit_000/completed_positions\n",
      "/Noisy_Data_1_SHO_Fit\n",
      "/Noisy_Data_1_SHO_Fit/Noisy_Data_1-SHO_Fit_000\n",
      "/Noisy_Data_1_SHO_Fit/Noisy_Data_1-SHO_Fit_000/Fit\n",
      "/Noisy_Data_1_SHO_Fit/Noisy_Data_1-SHO_Fit_000/Guess\n",
      "/Noisy_Data_1_SHO_Fit/Noisy_Data_1-SHO_Fit_000/Spectroscopic_Indices\n",
      "/Noisy_Data_1_SHO_Fit/Noisy_Data_1-SHO_Fit_000/Spectroscopic_Values\n",
      "/Noisy_Data_1_SHO_Fit/Noisy_Data_1-SHO_Fit_000/completed_fit_positions\n",
      "/Noisy_Data_1_SHO_Fit/Noisy_Data_1-SHO_Fit_000/completed_guess_positions\n",
      "/Noisy_Data_2_SHO_Fit\n",
      "/Noisy_Data_2_SHO_Fit/Noisy_Data_2-SHO_Fit_000\n",
      "/Noisy_Data_2_SHO_Fit/Noisy_Data_2-SHO_Fit_000/Fit\n",
      "/Noisy_Data_2_SHO_Fit/Noisy_Data_2-SHO_Fit_000/Guess\n",
      "/Noisy_Data_2_SHO_Fit/Noisy_Data_2-SHO_Fit_000/Spectroscopic_Indices\n",
      "/Noisy_Data_2_SHO_Fit/Noisy_Data_2-SHO_Fit_000/Spectroscopic_Values\n",
      "/Noisy_Data_2_SHO_Fit/Noisy_Data_2-SHO_Fit_000/completed_fit_positions\n",
      "/Noisy_Data_2_SHO_Fit/Noisy_Data_2-SHO_Fit_000/completed_guess_positions\n",
      "/Noisy_Data_3_SHO_Fit\n",
      "/Noisy_Data_3_SHO_Fit/Noisy_Data_3-SHO_Fit_000\n",
      "/Noisy_Data_3_SHO_Fit/Noisy_Data_3-SHO_Fit_000/Fit\n",
      "/Noisy_Data_3_SHO_Fit/Noisy_Data_3-SHO_Fit_000/Guess\n",
      "/Noisy_Data_3_SHO_Fit/Noisy_Data_3-SHO_Fit_000/Spectroscopic_Indices\n",
      "/Noisy_Data_3_SHO_Fit/Noisy_Data_3-SHO_Fit_000/Spectroscopic_Values\n",
      "/Noisy_Data_3_SHO_Fit/Noisy_Data_3-SHO_Fit_000/completed_fit_positions\n",
      "/Noisy_Data_3_SHO_Fit/Noisy_Data_3-SHO_Fit_000/completed_guess_positions\n",
      "/Noisy_Data_4_SHO_Fit\n",
      "/Noisy_Data_4_SHO_Fit/Noisy_Data_4-SHO_Fit_000\n",
      "/Noisy_Data_4_SHO_Fit/Noisy_Data_4-SHO_Fit_000/Fit\n",
      "/Noisy_Data_4_SHO_Fit/Noisy_Data_4-SHO_Fit_000/Guess\n",
      "/Noisy_Data_4_SHO_Fit/Noisy_Data_4-SHO_Fit_000/Spectroscopic_Indices\n",
      "/Noisy_Data_4_SHO_Fit/Noisy_Data_4-SHO_Fit_000/Spectroscopic_Values\n",
      "/Noisy_Data_4_SHO_Fit/Noisy_Data_4-SHO_Fit_000/completed_fit_positions\n",
      "/Noisy_Data_4_SHO_Fit/Noisy_Data_4-SHO_Fit_000/completed_guess_positions\n",
      "/Noisy_Data_5_SHO_Fit\n",
      "/Noisy_Data_5_SHO_Fit/Noisy_Data_5-SHO_Fit_000\n",
      "/Noisy_Data_5_SHO_Fit/Noisy_Data_5-SHO_Fit_000/Fit\n",
      "/Noisy_Data_5_SHO_Fit/Noisy_Data_5-SHO_Fit_000/Guess\n",
      "/Noisy_Data_5_SHO_Fit/Noisy_Data_5-SHO_Fit_000/Spectroscopic_Indices\n",
      "/Noisy_Data_5_SHO_Fit/Noisy_Data_5-SHO_Fit_000/Spectroscopic_Values\n",
      "/Noisy_Data_5_SHO_Fit/Noisy_Data_5-SHO_Fit_000/completed_fit_positions\n",
      "/Noisy_Data_5_SHO_Fit/Noisy_Data_5-SHO_Fit_000/completed_guess_positions\n",
      "/Noisy_Data_6_SHO_Fit\n",
      "/Noisy_Data_6_SHO_Fit/Noisy_Data_6-SHO_Fit_000\n",
      "/Noisy_Data_6_SHO_Fit/Noisy_Data_6-SHO_Fit_000/Fit\n",
      "/Noisy_Data_6_SHO_Fit/Noisy_Data_6-SHO_Fit_000/Guess\n",
      "/Noisy_Data_6_SHO_Fit/Noisy_Data_6-SHO_Fit_000/Spectroscopic_Indices\n",
      "/Noisy_Data_6_SHO_Fit/Noisy_Data_6-SHO_Fit_000/Spectroscopic_Values\n",
      "/Noisy_Data_6_SHO_Fit/Noisy_Data_6-SHO_Fit_000/completed_fit_positions\n",
      "/Noisy_Data_6_SHO_Fit/Noisy_Data_6-SHO_Fit_000/completed_guess_positions\n",
      "/Noisy_Data_7_SHO_Fit\n",
      "/Noisy_Data_7_SHO_Fit/Noisy_Data_7-SHO_Fit_000\n",
      "/Noisy_Data_7_SHO_Fit/Noisy_Data_7-SHO_Fit_000/Fit\n",
      "/Noisy_Data_7_SHO_Fit/Noisy_Data_7-SHO_Fit_000/Guess\n",
      "/Noisy_Data_7_SHO_Fit/Noisy_Data_7-SHO_Fit_000/Spectroscopic_Indices\n",
      "/Noisy_Data_7_SHO_Fit/Noisy_Data_7-SHO_Fit_000/Spectroscopic_Values\n",
      "/Noisy_Data_7_SHO_Fit/Noisy_Data_7-SHO_Fit_000/completed_fit_positions\n",
      "/Noisy_Data_7_SHO_Fit/Noisy_Data_7-SHO_Fit_000/completed_guess_positions\n",
      "/Noisy_Data_8_SHO_Fit\n",
      "/Noisy_Data_8_SHO_Fit/Noisy_Data_8-SHO_Fit_000\n",
      "/Noisy_Data_8_SHO_Fit/Noisy_Data_8-SHO_Fit_000/Fit\n",
      "/Noisy_Data_8_SHO_Fit/Noisy_Data_8-SHO_Fit_000/Guess\n",
      "/Noisy_Data_8_SHO_Fit/Noisy_Data_8-SHO_Fit_000/Spectroscopic_Indices\n",
      "/Noisy_Data_8_SHO_Fit/Noisy_Data_8-SHO_Fit_000/Spectroscopic_Values\n",
      "/Noisy_Data_8_SHO_Fit/Noisy_Data_8-SHO_Fit_000/completed_fit_positions\n",
      "/Noisy_Data_8_SHO_Fit/Noisy_Data_8-SHO_Fit_000/completed_guess_positions\n",
      "/Raw_Data-SHO_Fit_000\n",
      "/Raw_Data-SHO_Fit_000/Fit\n",
      "/Raw_Data-SHO_Fit_000/Guess\n",
      "/Raw_Data-SHO_Fit_000/Spectroscopic_Indices\n",
      "/Raw_Data-SHO_Fit_000/Spectroscopic_Values\n",
      "/Raw_Data-SHO_Fit_000/completed_fit_positions\n",
      "/Raw_Data-SHO_Fit_000/completed_guess_positions\n",
      "/Raw_Data-SHO_Fit_000/completed_positions\n",
      "/Raw_Data_SHO_Fit\n",
      "/Raw_Data_SHO_Fit/Raw_Data-SHO_Fit_000\n",
      "/Raw_Data_SHO_Fit/Raw_Data-SHO_Fit_000/Fit\n",
      "/Raw_Data_SHO_Fit/Raw_Data-SHO_Fit_000/Guess\n",
      "/Raw_Data_SHO_Fit/Raw_Data-SHO_Fit_000/Spectroscopic_Indices\n",
      "/Raw_Data_SHO_Fit/Raw_Data-SHO_Fit_000/Spectroscopic_Values\n",
      "/Raw_Data_SHO_Fit/Raw_Data-SHO_Fit_000/completed_fit_positions\n",
      "/Raw_Data_SHO_Fit/Raw_Data-SHO_Fit_000/completed_guess_positions\n",
      "\n",
      "The main dataset:\n",
      "------------------------------------\n",
      "<HDF5 file \"data_raw_7_25 copy.h5\" (mode r+)>\n",
      "\n",
      "The ancillary datasets:\n",
      "------------------------------------\n",
      "<HDF5 dataset \"Position_Indices\": shape (3600, 2), type \"<u4\">\n",
      "<HDF5 dataset \"Position_Values\": shape (3600, 2), type \"<f4\">\n",
      "<HDF5 dataset \"Spectroscopic_Indices\": shape (4, 63360), type \"<u4\">\n",
      "<HDF5 dataset \"Spectroscopic_Values\": shape (4, 63360), type \"<f4\">\n",
      "\n",
      "Metadata or attributes in a datagroup\n",
      "------------------------------------\n",
      "BE_actual_duration_[s] : 0.004\n",
      "BE_amplitude_[V] : 1\n",
      "BE_auto_smoothing : auto smoothing on\n",
      "BE_band_edge_smoothing_[s] : 4832.1\n",
      "BE_band_edge_trim : 0.094742\n",
      "BE_band_width_[Hz] : 200000\n",
      "BE_bins_per_band : 0\n",
      "BE_center_frequency_[Hz] : 1310000\n",
      "BE_desired_duration_[s] : 0.004\n",
      "BE_phase_content : chirp-sinc hybrid\n",
      "BE_phase_variation : 1\n",
      "BE_points_per_BE_wave : 0\n",
      "BE_repeats : 4\n",
      "FORC_V_high1_[V] : 1\n",
      "FORC_V_high2_[V] : 10\n",
      "FORC_V_low1_[V] : -1\n",
      "FORC_V_low2_[V] : -10\n",
      "FORC_num_of_FORC_cycles : 1\n",
      "FORC_num_of_FORC_repeats : 1\n",
      "File_MDAQ_version : MDAQ_VS_090915_01\n",
      "File_date_and_time : 18-Sep-2015 18:32:14\n",
      "File_file_name : SP128_NSO\n",
      "File_file_path : C:\\Users\\Asylum User\\Documents\\Users\\Agar\\SP128_NSO\\\n",
      "File_file_suffix : 99\n",
      "IO_AO_amplifier : 10\n",
      "IO_AO_range_[V] : +/- 10\n",
      "IO_Analog_Input_1 : +/- .1V, FFT\n",
      "IO_Analog_Input_2 : off\n",
      "IO_Analog_Input_3 : off\n",
      "IO_Analog_Input_4 : off\n",
      "IO_DAQ_platform : NI 6115\n",
      "IO_rate_[Hz] : 4000000\n",
      "VS_amplitude_[V] : 16\n",
      "VS_cycle_fraction : full\n",
      "VS_cycle_phase_shift : 0\n",
      "VS_measure_in_field_loops : in and out-of-field\n",
      "VS_mode : DC modulation mode\n",
      "VS_number_of_cycles : 2\n",
      "VS_offset_[V] : 0\n",
      "VS_read_voltage_[V] : 0\n",
      "VS_set_pulse_amplitude[V] : 0\n",
      "VS_set_pulse_duration[s] : 0.002\n",
      "VS_step_edge_smoothing_[s] : 0.001\n",
      "VS_steps_per_full_cycle : 96\n",
      "data_type : BEPSData\n",
      "grid_/single : grid\n",
      "grid_contact_set_point_[V] : 1\n",
      "grid_current_col : 1\n",
      "grid_current_row : 1\n",
      "grid_cycle_time_[s] : 10\n",
      "grid_measuring : 0\n",
      "grid_moving : 0\n",
      "grid_num_cols : 60\n",
      "grid_num_rows : 60\n",
      "grid_settle_time_[s] : 0.15\n",
      "grid_time_remaining_[h;m;s] : 10\n",
      "grid_total_time_[h;m;s] : 10\n",
      "grid_transit_set_point_[V] : 0.1\n",
      "grid_transit_time_[s] : 0.15\n",
      "num_bins : 165\n",
      "num_pix : 3600\n",
      "num_udvs_steps : 384\n"
     ]
    }
   ],
   "source": [
    "# print the contents of the file\n",
    "dataset.print_be_tree()"
   ]
  },
  {
   "cell_type": "code",
   "execution_count": 14,
   "metadata": {},
   "outputs": [
    {
     "name": "stdout",
     "output_type": "stream",
     "text": [
      "Consider calling test() to check results before calling compute() which computes on the entire dataset and writes results to the HDF5 file\n",
      "\n",
      "Note: SHO_Fit has already been performed with the same parameters before. These results will be returned by compute() by default. Set override to True to force fresh computation\n",
      "\n",
      "[<HDF5 group \"/Measurement_000/Raw_Data-SHO_Fit_000\" (8 members)>]\n",
      "\n",
      "Note: SHO_Fit has already been performed with the same parameters before. These results will be returned by compute() by default. Set override to True to force fresh computation\n",
      "\n",
      "[<HDF5 group \"/Measurement_000/Raw_Data-SHO_Fit_000\" (8 members)>]\n",
      "Returned previously computed results at /Measurement_000/Raw_Data-SHO_Fit_000\n",
      "\n",
      "Note: SHO_Fit has already been performed with the same parameters before. These results will be returned by compute() by default. Set override to True to force fresh computation\n",
      "\n",
      "[<HDF5 group \"/Measurement_000/Raw_Data-SHO_Fit_000\" (8 members)>]\n",
      "Returned previously computed results at /Measurement_000/Raw_Data-SHO_Fit_000\n",
      "Working on:\n",
      "./Data/data_raw_7_25 copy.h5\n",
      "['Y', 'X'] [60, 60]\n",
      "\n",
      "\n",
      "SHO Fits will be written to:\n",
      "./Data/data_raw_7_25 copy.h5\n",
      "\n",
      "\n",
      "Consider calling test() to check results before calling compute() which computes on the entire dataset and writes results to the HDF5 file\n",
      "Group: <HDF5 group \"/Raw_Data_SHO_Fit\" (1 members)> had neither the status HDF5 dataset or the legacy attribute: \"last_pixel\".\n",
      "\n",
      "Note: SHO_Fit has already been performed with the same parameters before. These results will be returned by compute() by default. Set override to True to force fresh computation\n",
      "\n",
      "[<HDF5 group \"/Raw_Data-SHO_Fit_000\" (7 members)>]\n",
      "\n",
      "Note: SHO_Fit has already been performed with the same parameters before. These results will be returned by compute() by default. Set override to True to force fresh computation\n",
      "\n",
      "[<HDF5 group \"/Raw_Data-SHO_Fit_000\" (7 members)>]\n",
      "Returned previously computed results at /Raw_Data-SHO_Fit_000\n",
      "\n",
      "Note: SHO_Fit has already been performed with the same parameters before. These results will be returned by compute() by default. Set override to True to force fresh computation\n",
      "\n",
      "[<HDF5 group \"/Raw_Data-SHO_Fit_000\" (7 members)>]\n",
      "Returned previously computed results at /Raw_Data-SHO_Fit_000\n",
      "LSQF method took 1.6361911296844482 seconds to compute parameters\n",
      "Consider calling test() to check results before calling compute() which computes on the entire dataset and writes results to the HDF5 file\n",
      "\n",
      "Note: Loop_Fit has already been performed with the same parameters before. These results will be returned by compute() by default. Set override to True to force fresh computation\n",
      "\n",
      "[<HDF5 group \"/Measurement_000/Raw_Data-SHO_Fit_000/Fit-Loop_Fit_000\" (11 members)>]\n",
      "\n",
      "Note: Loop_Fit has already been performed with the same parameters before. These results will be returned by compute() by default. Set override to True to force fresh computation\n",
      "\n",
      "[<HDF5 group \"/Measurement_000/Raw_Data-SHO_Fit_000/Fit-Loop_Fit_000\" (11 members)>]\n",
      "Returned previously computed results at /Measurement_000/Raw_Data-SHO_Fit_000/Fit-Loop_Fit_000\n"
     ]
    },
    {
     "name": "stderr",
     "output_type": "stream",
     "text": [
      "/home/ferroelectric/anaconda3/envs/paper/lib/python3.11/site-packages/pyUSID/io/hdf_utils/simple.py:888: UserWarning: A dataset named: Guess_Loop_Parameters already exists in group: /Measurement_000/Raw_Data-SHO_Fit_000/Fit-Loop_Fit_000\n",
      "  warn('A dataset named: {} already exists in group: {}'.format(dset_name, h5_group.name))\n",
      "/home/ferroelectric/anaconda3/envs/paper/lib/python3.11/site-packages/pyUSID/io/hdf_utils/simple.py:888: UserWarning: A dataset named: Fit_Loop_Parameters already exists in group: /Measurement_000/Raw_Data-SHO_Fit_000/Fit-Loop_Fit_000\n",
      "  warn('A dataset named: {} already exists in group: {}'.format(dset_name, h5_group.name))\n"
     ]
    },
    {
     "name": "stdout",
     "output_type": "stream",
     "text": [
      "\n",
      "Note: Loop_Fit has already been performed with the same parameters before. These results will be returned by compute() by default. Set override to True to force fresh computation\n",
      "\n",
      "[<HDF5 group \"/Measurement_000/Raw_Data-SHO_Fit_000/Fit-Loop_Fit_000\" (11 members)>]\n",
      "Returned previously computed results at /Measurement_000/Raw_Data-SHO_Fit_000/Fit-Loop_Fit_000\n"
     ]
    }
   ],
   "source": [
    "h5_loop_fit, h5_loop_group = dataset.LSQF_Loop_Fit(force=False)"
   ]
  },
  {
   "cell_type": "code",
   "execution_count": 85,
   "metadata": {},
   "outputs": [
    {
     "name": "stdout",
     "output_type": "stream",
     "text": [
      "No spectroscopic datasets found as attributes of /Measurement_000/Channel_000/Position_Indices\n",
      "No position datasets found as attributes of /Measurement_000/Raw_Data-SHO_Fit_000/Spectroscopic_Values\n"
     ]
    }
   ],
   "source": [
    "data_path = save_path + '/' + filename\n",
    "\n",
    "dataset = BE_Dataset(data_path, SHO_fit_func_LSQF=SHO_fit_func_nn)\n",
    "\n",
    "# instantiate the visualization object\n",
    "image_scalebar = [2000, 500, \"nm\", \"br\"]\n",
    "\n",
    "\n",
    "BE_viz = Viz(dataset, printing, verbose=True, \n",
    "             SHO_ranges = [(0,1.5e-4), (1.31e6, 1.33e6), (-300, 300), (-np.pi, np.pi)], \n",
    "             image_scalebar = image_scalebar)"
   ]
  },
  {
   "cell_type": "code",
   "execution_count": 75,
   "metadata": {},
   "outputs": [
    {
     "ename": "AttributeError",
     "evalue": "'Viz' object has no attribute 'hysteresis_comparison'",
     "output_type": "error",
     "traceback": [
      "\u001b[0;31m---------------------------------------------------------------------------\u001b[0m",
      "\u001b[0;31mAttributeError\u001b[0m                            Traceback (most recent call last)",
      "Cell \u001b[0;32mIn[75], line 1\u001b[0m\n\u001b[0;32m----> 1\u001b[0m \u001b[43mBE_viz\u001b[49m\u001b[38;5;241;43m.\u001b[39;49m\u001b[43mhysteresis_comparison\u001b[49m(data \u001b[38;5;241m=\u001b[39m [\u001b[38;5;124m'\u001b[39m\u001b[38;5;124mLSQF\u001b[39m\u001b[38;5;124m'\u001b[39m])\n",
      "\u001b[0;31mAttributeError\u001b[0m: 'Viz' object has no attribute 'hysteresis_comparison'"
     ]
    }
   ],
   "source": [
    "BE_viz.hysteresis_comparison(data = ['LSQF'])"
   ]
  },
  {
   "cell_type": "markdown",
   "metadata": {},
   "source": [
    "## Neural Network Fits"
   ]
  },
  {
   "cell_type": "code",
   "execution_count": null,
   "metadata": {},
   "outputs": [],
   "source": []
  },
  {
   "cell_type": "code",
   "execution_count": 116,
   "metadata": {
    "scrolled": true
   },
   "outputs": [
    {
     "name": "stdout",
     "output_type": "stream",
     "text": [
      "No spectroscopic datasets found as attributes of /Measurement_000/Channel_000/Position_Indices\n",
      "No position datasets found as attributes of /Measurement_000/Raw_Data-SHO_Fit_000/Spectroscopic_Values\n",
      "Using GPU NVIDIA GeForce RTX 3090\n"
     ]
    }
   ],
   "source": [
    "from m3_learning.be.loop_fitter import loop_fitting_function_torch\n",
    "from m3_learning.optimizers.TrustRegion import TRCG\n",
    "import torch.optim as optim\n",
    "from sklearn.model_selection import train_test_split\n",
    "\n",
    "\n",
    "data, voltage = dataset.get_hysteresis(scaled=True, loop_interpolated = True)\n",
    "\n",
    "\n",
    "model_ = Multiscale1DFitter(loop_fitting_function_torch, # function \n",
    "                            voltage[:,0].squeeze(), # x data\n",
    "                            1, # input channels\n",
    "                            9, # output parameters\n",
    "                            dataset.loop_param_scaler,\n",
    "                            loops_scaler=dataset.hysteresis_scaler)\n",
    "\n",
    "# instantiate the model\n",
    "model = Model(model_, \n",
    "              dataset,\n",
    "              path='Trained Models/Hysteresis Fitter/', \n",
    "              training=True, \n",
    "              model_basename=\"Hysteresis_Loop_Fitter\")\n",
    "\n",
    "X_train, X_test = train_test_split(data.reshape(-1,96), test_size=0.2, random_state=42, shuffle=True)\n",
    "X_train = np.atleast_3d(X_train)\n",
    "\n",
    "optimizer = {\n",
    "    \"name\": \"TRCG\", \n",
    "    \"optimizer\": TRCG,\n",
    "    \"closure_size\": 1,\n",
    "    \"cgopttol\": 1e-3,\n",
    "    \"c0tr\": 0.2,\n",
    "    \"c1tr\": 0.25,\n",
    "    \"c2tr\": 0.75,\n",
    "    \"t1tr\": 0.75,\n",
    "    \"t2tr\": 2.0,\n",
    "    \"radius_max\": 5.0,  \n",
    "    \"radius_initial\": 1.0,\n",
    "    \"radius\" : 1.0,\n",
    "    \"device\": \"cuda\",\n",
    "    \"ADAM_epochs\": 500}\n",
    "\n",
    "\n",
    "train = False\n",
    "\n",
    "if train:\n",
    "    # fits the model\n",
    "    model.fit(\n",
    "        X_train,\n",
    "        1024,\n",
    "        optimizer=optimizer,\n",
    "        epochs = 600,\n",
    "    )\n",
    "else:\n",
    "    model.load(\n",
    "        \"/home/ferroelectric/Documents/m3_learning/m3_learning/papers/2023_Rapid_Fitting/Trained Models/Hysteresis Fitter/Hysteresis_Loop_Fitter_model_optimizer_Trust Region CG_epoch_599_train_loss_0.006924134410089917.pth\"\n",
    "    )"
   ]
  },
  {
   "cell_type": "code",
   "execution_count": 117,
   "metadata": {},
   "outputs": [],
   "source": [
    "model.training = False"
   ]
  },
  {
   "cell_type": "code",
   "execution_count": 127,
   "metadata": {},
   "outputs": [],
   "source": [
    " predictions, params_scaled, params = model.predict(\n",
    "        torch.Tensor(X_train), is_SHO=False)"
   ]
  },
  {
   "cell_type": "code",
   "execution_count": 132,
   "metadata": {},
   "outputs": [],
   "source": [
    "loop = loop_fitting_function_torch(params, voltage[:,0].squeeze()).to(\n",
    "    'cpu').detach().numpy().squeeze()"
   ]
  },
  {
   "cell_type": "markdown",
   "metadata": {},
   "source": [
    "### Evaluate the Neural Network Results"
   ]
  },
  {
   "cell_type": "code",
   "execution_count": 134,
   "metadata": {},
   "outputs": [
    {
     "data": {
      "text/plain": [
       "array([-16.        , -15.33333302, -14.66666698, -14.        ,\n",
       "       -13.33333302, -12.66666698, -12.        , -11.33333302,\n",
       "       -10.66666698, -10.        ,  -9.33333302,  -8.66666698,\n",
       "        -8.        ,  -7.33333349,  -6.66666651,  -6.        ,\n",
       "        -5.33333349,  -4.66666651,  -4.        ,  -3.33333325,\n",
       "        -2.66666675,  -2.        ,  -1.33333337,  -0.66666669,\n",
       "        -0.        ,   0.66666669,   1.33333337,   2.        ,\n",
       "         2.66666675,   3.33333325,   4.        ,   4.66666651,\n",
       "         5.33333349,   6.        ,   6.66666651,   7.33333349,\n",
       "         8.        ,   8.66666698,   9.33333302,  10.        ,\n",
       "        10.66666698,  11.33333302,  12.        ,  12.66666698,\n",
       "        13.33333302,  14.        ,  14.66666698,  15.33333302,\n",
       "        16.        ,  15.33333302,  14.66666698,  14.        ,\n",
       "        13.33333302,  12.66666698,  12.        ,  11.33333302,\n",
       "        10.66666698,  10.        ,   9.33333302,   8.66666698,\n",
       "         8.        ,   7.33333349,   6.66666651,   6.        ,\n",
       "         5.33333349,   4.66666651,   4.        ,   3.33333325,\n",
       "         2.66666675,   2.        ,   1.33333337,   0.66666669,\n",
       "        -0.        ,  -0.66666669,  -1.33333337,  -2.        ,\n",
       "        -2.66666675,  -3.33333325,  -4.        ,  -4.66666651,\n",
       "        -5.33333349,  -6.        ,  -6.66666651,  -7.33333349,\n",
       "        -8.        ,  -8.66666698,  -9.33333302, -10.        ,\n",
       "       -10.66666698, -11.33333302, -12.        , -12.66666698,\n",
       "       -13.33333302, -14.        , -14.66666698, -15.33333302])"
      ]
     },
     "execution_count": 134,
     "metadata": {},
     "output_type": "execute_result"
    }
   ],
   "source": [
    "voltage[:,0].squeeze()"
   ]
  },
  {
   "cell_type": "code",
   "execution_count": null,
   "metadata": {},
   "outputs": [],
   "source": []
  },
  {
   "cell_type": "code",
   "execution_count": 112,
   "metadata": {},
   "outputs": [
    {
     "name": "stdout",
     "output_type": "stream",
     "text": [
      "No spectroscopic datasets found as attributes of /Measurement_000/Channel_000/Position_Indices\n",
      "No position datasets found as attributes of /Measurement_000/Raw_Data-SHO_Fit_000/Spectroscopic_Values\n"
     ]
    },
    {
     "name": "stderr",
     "output_type": "stream",
     "text": [
      "/home/ferroelectric/Documents/m3_learning/m3_learning/papers/2023_Rapid_Fitting/../../src/m3_learning/be/viz.py:1034: UserWarning: To copy construct from a tensor, it is recommended to use sourceTensor.clone().detach() or sourceTensor.clone().detach().requires_grad_(True), rather than torch.tensor(sourceTensor).\n",
      "  data = torch.tensor(true).float()\n"
     ]
    },
    {
     "ename": "IndexError",
     "evalue": "index 1 is out of bounds for dimension 1 with size 1",
     "output_type": "error",
     "traceback": [
      "\u001b[0;31m---------------------------------------------------------------------------\u001b[0m",
      "\u001b[0;31mIndexError\u001b[0m                                Traceback (most recent call last)",
      "Cell \u001b[0;32mIn[112], line 17\u001b[0m\n\u001b[1;32m      8\u001b[0m d1, d2, x1, x2, index1, mse1, _ \u001b[38;5;241m=\u001b[39m \u001b[38;5;28mself\u001b[39m\u001b[38;5;241m.\u001b[39mget_best_median_worst_hysteresis(\n\u001b[1;32m      9\u001b[0m                 data,\n\u001b[1;32m     10\u001b[0m                 prediction\u001b[38;5;241m=\u001b[39mmodel,\n\u001b[1;32m     11\u001b[0m                 n\u001b[38;5;241m=\u001b[39m\u001b[38;5;241m1\u001b[39m,\n\u001b[1;32m     12\u001b[0m             )\n\u001b[1;32m     15\u001b[0m parms \u001b[38;5;241m=\u001b[39m \u001b[38;5;28mself\u001b[39m\u001b[38;5;241m.\u001b[39mdataset\u001b[38;5;241m.\u001b[39mLSQF_hysteresis_params()\u001b[38;5;241m.\u001b[39mreshape(\u001b[38;5;241m-\u001b[39m\u001b[38;5;241m1\u001b[39m,\u001b[38;5;241m9\u001b[39m)\n\u001b[0;32m---> 17\u001b[0m LSQF_loop \u001b[38;5;241m=\u001b[39m \u001b[43mloop_fitting_function_torch\u001b[49m\u001b[43m(\u001b[49m\u001b[43mparms\u001b[49m\u001b[43m,\u001b[49m\u001b[43m \u001b[49m\u001b[43mvoltage\u001b[49m\u001b[43m[\u001b[49m\u001b[43m:\u001b[49m\u001b[43m,\u001b[49m\u001b[43m \u001b[49m\u001b[38;5;241;43m0\u001b[39;49m\u001b[43m]\u001b[49m\u001b[38;5;241;43m.\u001b[39;49m\u001b[43msqueeze\u001b[49m\u001b[43m(\u001b[49m\u001b[43m)\u001b[49m\u001b[43m)\u001b[49m\u001b[38;5;241m.\u001b[39mto(\n\u001b[1;32m     18\u001b[0m                     \u001b[38;5;124m'\u001b[39m\u001b[38;5;124mcpu\u001b[39m\u001b[38;5;124m'\u001b[39m)\u001b[38;5;241m.\u001b[39mdetach()\u001b[38;5;241m.\u001b[39mnumpy()\u001b[38;5;241m.\u001b[39msqueeze()\n\u001b[1;32m     20\u001b[0m unscaled_true \u001b[38;5;241m=\u001b[39m \u001b[38;5;28mself\u001b[39m\u001b[38;5;241m.\u001b[39mdataset\u001b[38;5;241m.\u001b[39mhystersis_scaler\u001b[38;5;241m.\u001b[39minverse_transform(d1)\n\u001b[1;32m     21\u001b[0m unscaled_predicted \u001b[38;5;241m=\u001b[39m \u001b[38;5;28mself\u001b[39m\u001b[38;5;241m.\u001b[39mdataset\u001b[38;5;241m.\u001b[39mhystersis_scaler\u001b[38;5;241m.\u001b[39minverse_transform(d2)\n",
      "File \u001b[0;32m~/Documents/m3_learning/m3_learning/papers/2023_Rapid_Fitting/../../src/m3_learning/be/loop_fitter.py:40\u001b[0m, in \u001b[0;36mloop_fitting_function_torch\u001b[0;34m(y, V, type, device)\u001b[0m\n\u001b[1;32m     35\u001b[0m \u001b[38;5;66;03m# print(\"y-shape\")\u001b[39;00m\n\u001b[1;32m     36\u001b[0m \u001b[38;5;66;03m# print(y.shape)\u001b[39;00m\n\u001b[1;32m     38\u001b[0m \u001b[38;5;28;01mif\u001b[39;00m (\u001b[38;5;28mtype\u001b[39m \u001b[38;5;241m==\u001b[39m \u001b[38;5;124m'\u001b[39m\u001b[38;5;124m9 parameters\u001b[39m\u001b[38;5;124m'\u001b[39m):\n\u001b[0;32m---> 40\u001b[0m     a0, a1, a2, a3, a4, b0, b1, b2, b3 \u001b[38;5;241m=\u001b[39m \u001b[43m[\u001b[49m\u001b[43my\u001b[49m\u001b[43m[\u001b[49m\u001b[43m:\u001b[49m\u001b[43m,\u001b[49m\u001b[43m \u001b[49m\u001b[43mi\u001b[49m\u001b[43m]\u001b[49m\u001b[43m \u001b[49m\u001b[38;5;28;43;01mfor\u001b[39;49;00m\u001b[43m \u001b[49m\u001b[43mi\u001b[49m\u001b[43m \u001b[49m\u001b[38;5;129;43;01min\u001b[39;49;00m\u001b[43m \u001b[49m\u001b[38;5;28;43mrange\u001b[39;49m\u001b[43m(\u001b[49m\u001b[38;5;241;43m9\u001b[39;49m\u001b[43m)\u001b[49m\u001b[43m]\u001b[49m\n\u001b[1;32m     42\u001b[0m     V1, V2 \u001b[38;5;241m=\u001b[39m V[:half_len], V[half_len:]\n\u001b[1;32m     44\u001b[0m     g1 \u001b[38;5;241m=\u001b[39m (b1 \u001b[38;5;241m-\u001b[39m b0) \u001b[38;5;241m/\u001b[39m \u001b[38;5;241m2\u001b[39m \u001b[38;5;241m*\u001b[39m (torch\u001b[38;5;241m.\u001b[39merf((V1 \u001b[38;5;241m-\u001b[39m a2) \u001b[38;5;241m*\u001b[39m \u001b[38;5;241m1000\u001b[39m) \u001b[38;5;241m+\u001b[39m \u001b[38;5;241m1\u001b[39m) \u001b[38;5;241m+\u001b[39m b0\n",
      "File \u001b[0;32m~/Documents/m3_learning/m3_learning/papers/2023_Rapid_Fitting/../../src/m3_learning/be/loop_fitter.py:40\u001b[0m, in \u001b[0;36m<listcomp>\u001b[0;34m(.0)\u001b[0m\n\u001b[1;32m     35\u001b[0m \u001b[38;5;66;03m# print(\"y-shape\")\u001b[39;00m\n\u001b[1;32m     36\u001b[0m \u001b[38;5;66;03m# print(y.shape)\u001b[39;00m\n\u001b[1;32m     38\u001b[0m \u001b[38;5;28;01mif\u001b[39;00m (\u001b[38;5;28mtype\u001b[39m \u001b[38;5;241m==\u001b[39m \u001b[38;5;124m'\u001b[39m\u001b[38;5;124m9 parameters\u001b[39m\u001b[38;5;124m'\u001b[39m):\n\u001b[0;32m---> 40\u001b[0m     a0, a1, a2, a3, a4, b0, b1, b2, b3 \u001b[38;5;241m=\u001b[39m [\u001b[43my\u001b[49m\u001b[43m[\u001b[49m\u001b[43m:\u001b[49m\u001b[43m,\u001b[49m\u001b[43m \u001b[49m\u001b[43mi\u001b[49m\u001b[43m]\u001b[49m \u001b[38;5;28;01mfor\u001b[39;00m i \u001b[38;5;129;01min\u001b[39;00m \u001b[38;5;28mrange\u001b[39m(\u001b[38;5;241m9\u001b[39m)]\n\u001b[1;32m     42\u001b[0m     V1, V2 \u001b[38;5;241m=\u001b[39m V[:half_len], V[half_len:]\n\u001b[1;32m     44\u001b[0m     g1 \u001b[38;5;241m=\u001b[39m (b1 \u001b[38;5;241m-\u001b[39m b0) \u001b[38;5;241m/\u001b[39m \u001b[38;5;241m2\u001b[39m \u001b[38;5;241m*\u001b[39m (torch\u001b[38;5;241m.\u001b[39merf((V1 \u001b[38;5;241m-\u001b[39m a2) \u001b[38;5;241m*\u001b[39m \u001b[38;5;241m1000\u001b[39m) \u001b[38;5;241m+\u001b[39m \u001b[38;5;241m1\u001b[39m) \u001b[38;5;241m+\u001b[39m b0\n",
      "\u001b[0;31mIndexError\u001b[0m: index 1 is out of bounds for dimension 1 with size 1"
     ]
    }
   ],
   "source": [
    "self = BE_viz\n",
    "BE_viz.dataset.output_shape = 'pixel'\n",
    "\n",
    "data, voltage = dataset.get_hysteresis(scaled=True, loop_interpolated = True)\n",
    "data = torch.atleast_3d(torch.tensor(data.reshape(-1,96)))\n",
    "\n",
    "\n",
    "d1, d2, x1, x2, index1, mse1, _ = self.get_best_median_worst_hysteresis(\n",
    "                data,\n",
    "                prediction=model,\n",
    "                n=1,\n",
    "            )\n",
    "\n",
    "\n",
    "parms = self.dataset.LSQF_hysteresis_params().reshape(-1,9)\n",
    "\n",
    "LSQF_loop = loop_fitting_function_torch(parms, voltage[:, 0].squeeze()).to(\n",
    "                    'cpu').detach().numpy().squeeze()\n",
    "\n",
    "unscaled_true = self.dataset.hystersis_scaler.inverse_transform(d1)\n",
    "unscaled_predicted = self.dataset.hystersis_scaler.inverse_transform(d2)"
   ]
  },
  {
   "cell_type": "code",
   "execution_count": 19,
   "metadata": {},
   "outputs": [
    {
     "data": {
      "text/plain": [
       "[<matplotlib.lines.Line2D at 0x7faf02e58310>]"
      ]
     },
     "execution_count": 19,
     "metadata": {},
     "output_type": "execute_result"
    },
    {
     "data": {
      "image/png": "[encoded data removed]",
      "text/plain": [
       "<Figure size 640x480 with 1 Axes>"
      ]
     },
     "metadata": {},
     "output_type": "display_data"
    }
   ],
   "source": [
    "plt.plot(voltage, unscaled_true[0])\n",
    "plt.plot(voltage, unscaled_predicted[0])\n",
    "plt.plot(voltage, LSQF_loop[index1[0]], 'k--')"
   ]
  },
  {
   "cell_type": "code",
   "execution_count": 20,
   "metadata": {},
   "outputs": [
    {
     "name": "stdout",
     "output_type": "stream",
     "text": [
      "./Figures/Figure_X_NN_validation_Train.png\n",
      "./Figures/Figure_X_NN_validation_Train.svg\n"
     ]
    },
    {
     "data": {
      "image/png": "[encoded data removed]",
      "text/plain": [
       "<Figure size 615x158 with 3 Axes>"
      ]
     },
     "metadata": {},
     "output_type": "display_data"
    }
   ],
   "source": [
    "X_train = torch.atleast_3d(torch.tensor(X_train))\n",
    "\n",
    "d1, d2, index1, mse1 = BE_viz.bmw_nn(\n",
    "    X_train,\n",
    "    prediction=model,\n",
    "    returns=True,\n",
    "    fit_type=\"hysteresis\",\n",
    "    filename=\"Figure_X_NN_validation_Train\",\n",
    ")"
   ]
  },
  {
   "cell_type": "code",
   "execution_count": 21,
   "metadata": {},
   "outputs": [
    {
     "name": "stdout",
     "output_type": "stream",
     "text": [
      "./Figures/Figure_X_NN_validation_Test.png\n",
      "./Figures/Figure_X_NN_validation_Test.svg\n"
     ]
    },
    {
     "data": {
      "image/png": "[encoded data removed]",
      "text/plain": [
       "<Figure size 615x158 with 3 Axes>"
      ]
     },
     "metadata": {},
     "output_type": "display_data"
    }
   ],
   "source": [
    "X_test = torch.atleast_3d(torch.tensor(X_test))\n",
    "\n",
    "d1, d2, index1, mse1 = BE_viz.bmw_nn(\n",
    "    X_test,\n",
    "    prediction=model,\n",
    "    returns=True,\n",
    "    fit_type=\"hysteresis\",\n",
    "    filename=\"Figure_X_NN_validation_Test\",\n",
    ")"
   ]
  },
  {
   "cell_type": "markdown",
   "metadata": {},
   "source": [
    "### Calculate the MSE"
   ]
  },
  {
   "cell_type": "code",
   "execution_count": 22,
   "metadata": {},
   "outputs": [
    {
     "name": "stdout",
     "output_type": "stream",
     "text": [
      "Full Data Mean Squared Error: 0.0069\n",
      "Test Data Mean Squared Error: 0.0066\n",
      "Train Data Mean Squared Error: 0.0070\n"
     ]
    },
    {
     "name": "stderr",
     "output_type": "stream",
     "text": [
      "/tmp/ipykernel_116038/2095398450.py:1: UserWarning: To copy construct from a tensor, it is recommended to use sourceTensor.clone().detach() or sourceTensor.clone().detach().requires_grad_(True), rather than torch.tensor(sourceTensor).\n",
      "  data_ = (torch.atleast_3d(torch.tensor(data.reshape(-1, 96))), X_test, X_train)\n"
     ]
    }
   ],
   "source": [
    "data_ = (torch.atleast_3d(torch.tensor(data.reshape(-1, 96))), X_test, X_train)\n",
    "labels = [\"Full Data\", \"Test Data\", \"Train Data\"]\n",
    "\n",
    "model.print_mse(data_, labels, is_SHO=False)"
   ]
  },
  {
   "cell_type": "markdown",
   "metadata": {},
   "source": [
    "## Comparison of LSQF and Neural Network Fits\n",
    "\n",
    "3 graphs, best, median, worst\n",
    "\n",
    "histograms of parameters.\n"
   ]
  },
  {
   "cell_type": "code",
   "execution_count": 23,
   "metadata": {},
   "outputs": [
    {
     "name": "stdout",
     "output_type": "stream",
     "text": [
      "No spectroscopic datasets found as attributes of /Measurement_000/Channel_000/Position_Indices\n",
      "No position datasets found as attributes of /Measurement_000/Raw_Data-SHO_Fit_000/Spectroscopic_Values\n"
     ]
    }
   ],
   "source": [
    "data_raw, voltage = BE_viz.dataset.get_hysteresis(\n",
    "            scaled=True, loop_interpolated=True)\n",
    "\n",
    "d1, d2, v1, v2, index1, mse1, params = BE_viz.get_best_median_worst_hysteresis(\n",
    "            torch.atleast_3d(torch.tensor(data_raw.reshape(-1, 96))),\n",
    "            prediction=model,\n",
    "            n=1\n",
    "            )"
   ]
  },
  {
   "cell_type": "code",
   "execution_count": 24,
   "metadata": {},
   "outputs": [
    {
     "name": "stdout",
     "output_type": "stream",
     "text": [
      "No spectroscopic datasets found as attributes of /Measurement_000/Channel_000/Position_Indices\n",
      "No position datasets found as attributes of /Measurement_000/Raw_Data-SHO_Fit_000/Spectroscopic_Values\n"
     ]
    }
   ],
   "source": [
    "raw_hysteresis_loop, voltage = self.dataset.get_hysteresis(\n",
    "        loop_interpolated=True, plotting_values=True)"
   ]
  },
  {
   "cell_type": "code",
   "execution_count": 25,
   "metadata": {},
   "outputs": [],
   "source": [
    "def get_hysteresis_from_index(self, idx, nn_model):\n",
    "    data, voltage = dataset.get_hysteresis(scaled=True, loop_interpolated = True)\n",
    "    raw_hysteresis_loop, voltage = dataset.get_hysteresis(scaled=False, loop_interpolated = True)\n",
    "\n",
    "    raw_hysteresis_loop = torch.atleast_3d(torch.tensor(raw_hysteresis_loop.reshape(-1,96)))[idx]\n",
    "    data = torch.atleast_3d(torch.tensor(data.reshape(-1,96))).float()\n",
    "    \n",
    "    parms_LSQF = self.dataset.LSQF_hysteresis_params().reshape(-1,9)\n",
    "\n",
    "    LSQF_loop = loop_fitting_function_torch(parms_LSQF, voltage[:, 0].squeeze()).to(\n",
    "                        'cpu').detach().numpy().squeeze()\n",
    "    \n",
    "    LSQF_loop = LSQF_loop[idx]\n",
    "    \n",
    "    pred_data, scaled_params, params_nn = nn_model.predict(\n",
    "            data, translate_params=False, is_SHO=False)\n",
    "    \n",
    "    NN_loop = loop_fitting_function_torch(params_nn, voltage[:, 0].squeeze()).to(\n",
    "                        'cpu').detach().numpy().squeeze()\n",
    "    \n",
    "    NN_loop = NN_loop[idx]\n",
    "    \n",
    "    return raw_hysteresis_loop, LSQF_loop, NN_loop\n",
    "    "
   ]
  },
  {
   "cell_type": "code",
   "execution_count": 142,
   "metadata": {},
   "outputs": [
    {
     "name": "stdout",
     "output_type": "stream",
     "text": [
      "No spectroscopic datasets found as attributes of /Measurement_000/Channel_000/Position_Indices\n",
      "No position datasets found as attributes of /Measurement_000/Raw_Data-SHO_Fit_000/Spectroscopic_Values\n",
      "No spectroscopic datasets found as attributes of /Measurement_000/Channel_000/Position_Indices\n",
      "No position datasets found as attributes of /Measurement_000/Raw_Data-SHO_Fit_000/Spectroscopic_Values\n"
     ]
    }
   ],
   "source": [
    "raw_hysteresis_loop, voltage = self.dataset.get_hysteresis(\n",
    "            loop_interpolated=True, plotting_values=True)\n",
    "\n",
    "parms = BE_viz.dataset.LSQF_hysteresis_params().reshape(-1, 9)\n",
    "loop = loop_fitting_function_torch(parms, voltage[:,0].squeeze()).to(\n",
    "    'cpu').detach().numpy().squeeze()\n",
    "\n",
    "raw_hysteresis_loop, voltage = self.dataset.get_hysteresis(\n",
    "            loop_interpolated=True, plotting_values=True)\n",
    "\n",
    "raw_hysteresis_loop = raw_hysteresis_loop.reshape(-1,96)"
   ]
  },
  {
   "cell_type": "code",
   "execution_count": 143,
   "metadata": {},
   "outputs": [
    {
     "data": {
      "text/plain": [
       "(14400, 96)"
      ]
     },
     "execution_count": 143,
     "metadata": {},
     "output_type": "execute_result"
    }
   ],
   "source": [
    "raw_hysteresis_loop.shape"
   ]
  },
  {
   "cell_type": "code",
   "execution_count": 80,
   "metadata": {},
   "outputs": [
    {
     "name": "stdout",
     "output_type": "stream",
     "text": [
      "[(-4.88653860e-05, 0.00010824, -11.20834219, 11.55157625, -3.25724534e-07, 3.20114794, 3.73635397,  6.46054046, 3.73366793, 0.16489662)\n",
      " (-5.65830426e-05, 0.00012579,  -6.91322193, 10.05445704,  1.27866102e-06, 6.20515055, 5.28672812, 10.2675601 , 4.64151401, 0.0714212 )\n",
      " (-5.44819453e-05, 0.00011817,  -7.0726301 ,  7.01991656,  4.56644023e-07, 6.4190714 , 2.62622511,  2.96439562, 6.68107104, 0.02402982)\n",
      " (-5.65830426e-05, 0.00012579,  -6.91322193, 10.05445704,  1.27866102e-06, 6.20515055, 5.28672812, 10.2675601 , 4.64151401, 0.03209226)]\n"
     ]
    }
   ],
   "source": [
    "with h5py.File(self.dataset.file, \"r+\") as h5_f:\n",
    "    # gets the path where the hysteresis loops are located\n",
    "    h5_path = self.dataset.get_loop_path()\n",
    "\n",
    "    h5_projected_loops = h5_f[ h5_path + '/Fit'][0]\n",
    "\n",
    "    print(h5_projected_loops)"
   ]
  },
  {
   "cell_type": "code",
   "execution_count": 163,
   "metadata": {},
   "outputs": [
    {
     "data": {
      "text/plain": [
       "[<matplotlib.lines.Line2D at 0x7faf080f4a90>]"
      ]
     },
     "execution_count": 163,
     "metadata": {},
     "output_type": "execute_result"
    },
    {
     "data": {
      "image/png": "[encoded data removed]",
      "text/plain": [
       "<Figure size 640x480 with 1 Axes>"
      ]
     },
     "metadata": {},
     "output_type": "display_data"
    }
   ],
   "source": [
    "plt.plot(voltage)"
   ]
  },
  {
   "cell_type": "code",
   "execution_count": 187,
   "metadata": {},
   "outputs": [],
   "source": [
    "rolled = np.roll(loop, 3, axis=0)"
   ]
  },
  {
   "cell_type": "code",
   "execution_count": 188,
   "metadata": {},
   "outputs": [
    {
     "data": {
      "text/plain": [
       "[<matplotlib.lines.Line2D at 0x7faf05cda010>]"
      ]
     },
     "execution_count": 188,
     "metadata": {},
     "output_type": "execute_result"
    },
    {
     "data": {
      "image/png": "[encoded data removed]",
      "text/plain": [
       "<Figure size 640x480 with 1 Axes>"
      ]
     },
     "metadata": {},
     "output_type": "display_data"
    }
   ],
   "source": [
    "\n",
    "index = np.random.randint(0,14400)\n",
    "plt.plot(raw_hysteresis_loop[index])\n",
    "plt.plot(rolled[index], 'g')"
   ]
  },
  {
   "cell_type": "code",
   "execution_count": 78,
   "metadata": {},
   "outputs": [
    {
     "data": {
      "text/plain": [
       "'Measurement_000/Raw_Data-SHO_Fit_000/Fit-Loop_Fit_000'"
      ]
     },
     "execution_count": 78,
     "metadata": {},
     "output_type": "execute_result"
    }
   ],
   "source": [
    "\n",
    "# # gets the projected loops\n",
    "# h5_projected_loops = h5_f[ h5_path + '/Fit-Loop_Fit_000/Fit']\n",
    "\n",
    "h5_path"
   ]
  },
  {
   "cell_type": "code",
   "execution_count": 64,
   "metadata": {},
   "outputs": [],
   "source": [
    "# gets the path where the hysteresis loops are locate\n",
    "h5_path = self.dataset.get_loop_path()"
   ]
  },
  {
   "cell_type": "code",
   "execution_count": 59,
   "metadata": {
    "editable": true,
    "slideshow": {
     "slide_type": ""
    },
    "tags": []
   },
   "outputs": [],
   "source": [
    "def hysteresis_comparison(self,\n",
    "                              data,\n",
    "                              row=None,\n",
    "                              col=None,\n",
    "                              cycle=None,\n",
    "                              size=(1.25, 1.25),\n",
    "                              gaps=(0.8, 0.33),\n",
    "                              nn_model=None,\n",
    "                              measurement_state=None,\n",
    "                              filename=\"hysteresis_comparison\"):\n",
    "        \"\"\"\n",
    "        hysteresis_comparison function to plot a comparison of the hysteresis loop\n",
    "\n",
    "        Args:\n",
    "            data (list): List of data types to plot\n",
    "            row (int, optional): row to plot. Defaults to None.\n",
    "            col (int, optional): column to plot. Defaults to None.\n",
    "            cycle (int, optional): cycle to plot. Defaults to None.\n",
    "            size (tuple, optional): size of the image to plot. Defaults to (1.25,1.25).\n",
    "            measurement_state (str, optional): measurement state to plot. Defaults to None.\n",
    "        \"\"\"\n",
    "\n",
    "        # if not isinstance(models, list):\n",
    "        #     models = [models]\n",
    "\n",
    "        # sets the measurement state\n",
    "        if self.dataset.measurement_state is not None:\n",
    "            self.dataset.measurement_state = measurement_state\n",
    "\n",
    "        # gets the raw data\n",
    "        raw_hysteresis_loop, voltage = self.dataset.get_hysteresis(\n",
    "            loop_interpolated=True, plotting_values=True)\n",
    "\n",
    "        # if only the LSQF is to be plotted\n",
    "        if 'LSQF' in data and 'NN' not in data:\n",
    "\n",
    "            # selects a point to plot\n",
    "            row, col, cycle = self.get_selected_hysteresis(\n",
    "                raw_hysteresis_loop, row, col, cycle)\n",
    "    \n",
    "            self.random_hysteresis(raw_hysteresis_loop,\n",
    "                          voltage,\n",
    "                          filename,\n",
    "                          size,\n",
    "                          row, col, cycle)\n",
    "            return\n",
    "\n",
    "        # if we are plotting the NN and LSQF results\n",
    "        fig, ax = subfigures(3, len(data), gaps=gaps, size=size)\n",
    "\n",
    "        # # gets the NN object from the list\n",
    "        # NN_model = next((model for model in models_list if isinstance(model, Fitter1D.Model)), None)\n",
    "        \n",
    "        # loops around the models provided\n",
    "        for j, model in enumerate(data):\n",
    "\n",
    "            if data == 'LSQF':\n",
    "                prediction = self.dataset.get_hysteresis(loop_interpolated=True, plotting_values=True)[0]\n",
    "            \n",
    "            d1, d2, v1, v2, index1, mse1, params = BE_viz.get_best_median_worst_hysteresis(\n",
    "            torch.atleast_3d(torch.tensor(raw_hysteresis_loop.reshape(-1, 96))),\n",
    "            prediction=nn_model,\n",
    "            n=1\n",
    "            )\n",
    "            \n",
    "            for i, index in enumerate(index1):\n",
    "                \n",
    "                # sets the index for the plots\n",
    "                plot_idx = i * 2 + j\n",
    "\n",
    "                raw_hysteresis_loop, LSQF_loop, NN_loop = get_hysteresis_from_index(self, \n",
    "                                                                                index, nn_model)\n",
    "\n",
    "                # # MSE between raw data and LSQF model\n",
    "                # mse_LSQF = np.mean((raw_hysteresis_loop - torch.Tensor(LSQF_loop)) ** 2)\n",
    "                \n",
    "                # # MSE between raw data and NN model\n",
    "                # mse_NN = np.mean((raw_hysteresis_loop - NN_loop) ** 2)\n",
    "\n",
    "                ax[plot_idx].plot(voltage,\n",
    "                                 raw_hysteresis_loop, 'o', label=\"Raw Data\")\n",
    "\n",
    "                ax[plot_idx].plot(voltage,\n",
    "                                 LSQF_loop, 'r', label='LSQF')\n",
    "\n",
    "                ax[plot_idx].plot(voltage,\n",
    "                                 NN_loop, 'g', label='NN')\n",
    "                \n",
    "\n",
    "            #     # plot the raw data for LSQF\n",
    "            #     ax[plot_idx].plot(voltage.squeeze()*-1,\n",
    "            #                     raw_hysteresis_loop.reshape(-1, 96)[index1[i], :], 'o', label=\"Raw Data\")\n",
    "\n",
    "            #     # true_unscaled = self.dataset.hystersis_scaler.inverse_transform(\n",
    "            #     #     true.reshape(-1, 1))\n",
    "\n",
    "            #     # ax[plot_idx + 1].plot(voltage.squeeze(),\n",
    "            #     #                     true_unscaled, 'o', label=\"Raw Data\")\n",
    "\n",
    "            #     # plot the NN prediction\n",
    "            #     loop = loop_fitting_function_torch(parms.reshape(-1, 9), voltage[:, 0].squeeze()).to(\n",
    "            #         'cpu').detach().numpy().squeeze()\n",
    "            #     ax[plot_idx + 1].plot(v1.squeeze(),\n",
    "            #                         loop.squeeze(), 'g', label='NN')\n",
    "\n",
    "            #     # plot the LSQF prediction\n",
    "                \n",
    "            #     loop = loop_fitting_function_torch(parms_lsqf, voltage[:, 0].squeeze()).to(\n",
    "            #         'cpu').detach().numpy().squeeze()\n",
    "            #     ax[plot_idx].plot(\n",
    "            #         v1.squeeze(),\n",
    "            #         loop.squeeze(),\n",
    "            #         \"r\",\n",
    "            #         label='LSQF',\n",
    "            #     )\n",
    "\n",
    "            #     ax[plot_idx].set_xlabel(\"Voltage (V)\")\n",
    "            #     ax[plot_idx + 1].set_xlabel(\"Voltage (V)\")\n",
    "\n",
    "            #     # Position text at (1 inch, 2 inches) from the bottom left corner of the figure\n",
    "            #     text_position_in_inches = (\n",
    "            #         -1 * (gaps[0] + size[0]) * ((2 - i) % 3) + size[0] / 2,\n",
    "            #         (gaps[1] + size[1]) * (1.25 - i // 3 - 1.25) - gaps[1],\n",
    "            #     )\n",
    "\n",
    "            #     # gets the axis position in inches - gets the bottom center\n",
    "            #     center = get_axis_pos_inches(fig, ax[plot_idx + 1])\n",
    "\n",
    "            #     # selects the text position as an offset from the bottom center\n",
    "            #     text_position_in_inches = (center[0], center[1] - 0.33)\n",
    "\n",
    "            #     error_string = f\"MSE: {error:0.4f}\"\n",
    "\n",
    "            #     add_text_to_figure(\n",
    "            #         fig,\n",
    "            #         error_string,\n",
    "            #         text_position_in_inches,\n",
    "            #         fontsize=6,\n",
    "            #         ha=\"center\",\n",
    "            #         # va=\"top\",\n",
    "            #     )\n",
    "\n",
    "            #     ax[plot_idx].set_ylabel(\"(Arb. U.)\")\n",
    "            #     ax[plot_idx + 1].set_ylabel(\"(Arb. U.)\")\n",
    "\n",
    "            # add a legend just for the last one\n",
    "            lines, labels = ax[plot_idx].get_legend_handles_labels()\n",
    "            ax[plot_idx].legend(lines, labels, loc=\"upper right\")\n",
    "            lines, labels = ax[plot_idx+1].get_legend_handles_labels()\n",
    "            ax[plot_idx+1].legend(lines, labels, loc=\"upper right\")\n",
    "\n",
    "            # # prints the figure\n",
    "            # if self.Printer is not None and filename is not None:\n",
    "            #     self.Printer.savefig(fig, filename, label_figs=ax, style=\"b\")"
   ]
  },
  {
   "cell_type": "code",
   "execution_count": 48,
   "metadata": {},
   "outputs": [
    {
     "name": "stdout",
     "output_type": "stream",
     "text": [
      "No spectroscopic datasets found as attributes of /Measurement_000/Channel_000/Position_Indices\n",
      "No position datasets found as attributes of /Measurement_000/Raw_Data-SHO_Fit_000/Spectroscopic_Values\n"
     ]
    },
    {
     "name": "stderr",
     "output_type": "stream",
     "text": [
      "/home/ferroelectric/Documents/m3_learning/m3_learning/papers/2023_Rapid_Fitting/../../src/m3_learning/be/viz.py:1034: UserWarning: To copy construct from a tensor, it is recommended to use sourceTensor.clone().detach() or sourceTensor.clone().detach().requires_grad_(True), rather than torch.tensor(sourceTensor).\n",
      "  data = torch.tensor(true).float()\n"
     ]
    },
    {
     "name": "stdout",
     "output_type": "stream",
     "text": [
      "No spectroscopic datasets found as attributes of /Measurement_000/Channel_000/Position_Indices\n",
      "No position datasets found as attributes of /Measurement_000/Raw_Data-SHO_Fit_000/Spectroscopic_Values\n",
      "No spectroscopic datasets found as attributes of /Measurement_000/Channel_000/Position_Indices\n",
      "No position datasets found as attributes of /Measurement_000/Raw_Data-SHO_Fit_000/Spectroscopic_Values\n",
      "No spectroscopic datasets found as attributes of /Measurement_000/Channel_000/Position_Indices\n",
      "No position datasets found as attributes of /Measurement_000/Raw_Data-SHO_Fit_000/Spectroscopic_Values\n",
      "No spectroscopic datasets found as attributes of /Measurement_000/Channel_000/Position_Indices\n",
      "No position datasets found as attributes of /Measurement_000/Raw_Data-SHO_Fit_000/Spectroscopic_Values\n",
      "No spectroscopic datasets found as attributes of /Measurement_000/Channel_000/Position_Indices\n",
      "No position datasets found as attributes of /Measurement_000/Raw_Data-SHO_Fit_000/Spectroscopic_Values\n",
      "No spectroscopic datasets found as attributes of /Measurement_000/Channel_000/Position_Indices\n",
      "No position datasets found as attributes of /Measurement_000/Raw_Data-SHO_Fit_000/Spectroscopic_Values\n"
     ]
    },
    {
     "name": "stderr",
     "output_type": "stream",
     "text": [
      "/tmp/ipykernel_116038/1619529457.py:58: UserWarning: To copy construct from a tensor, it is recommended to use sourceTensor.clone().detach() or sourceTensor.clone().detach().requires_grad_(True), rather than torch.tensor(sourceTensor).\n",
      "  torch.atleast_3d(torch.tensor(raw_hysteresis_loop.reshape(-1, 96))),\n",
      "/home/ferroelectric/Documents/m3_learning/m3_learning/papers/2023_Rapid_Fitting/../../src/m3_learning/be/viz.py:1034: UserWarning: To copy construct from a tensor, it is recommended to use sourceTensor.clone().detach() or sourceTensor.clone().detach().requires_grad_(True), rather than torch.tensor(sourceTensor).\n",
      "  data = torch.tensor(true).float()\n"
     ]
    },
    {
     "ename": "TypeError",
     "evalue": "'float' object is not subscriptable",
     "output_type": "error",
     "traceback": [
      "\u001b[0;31m---------------------------------------------------------------------------\u001b[0m",
      "\u001b[0;31mTypeError\u001b[0m                                 Traceback (most recent call last)",
      "Cell \u001b[0;32mIn[48], line 1\u001b[0m\n\u001b[0;32m----> 1\u001b[0m \u001b[43mhysteresis_comparison\u001b[49m\u001b[43m(\u001b[49m\u001b[38;5;28;43mself\u001b[39;49m\u001b[43m,\u001b[49m\n\u001b[1;32m      2\u001b[0m \u001b[43m                              \u001b[49m\u001b[43m[\u001b[49m\u001b[38;5;124;43m'\u001b[39;49m\u001b[38;5;124;43mLSQF\u001b[39;49m\u001b[38;5;124;43m'\u001b[39;49m\u001b[43m,\u001b[49m\u001b[38;5;124;43m'\u001b[39;49m\u001b[38;5;124;43mNN\u001b[39;49m\u001b[38;5;124;43m'\u001b[39;49m\u001b[43m]\u001b[49m\u001b[43m,\u001b[49m\n\u001b[1;32m      3\u001b[0m \u001b[43m                              \u001b[49m\u001b[43mrow\u001b[49m\u001b[38;5;241;43m=\u001b[39;49m\u001b[38;5;28;43;01mNone\u001b[39;49;00m\u001b[43m,\u001b[49m\n\u001b[1;32m      4\u001b[0m \u001b[43m                              \u001b[49m\u001b[43mcol\u001b[49m\u001b[38;5;241;43m=\u001b[39;49m\u001b[38;5;28;43;01mNone\u001b[39;49;00m\u001b[43m,\u001b[49m\n\u001b[1;32m      5\u001b[0m \u001b[43m                              \u001b[49m\u001b[43mcycle\u001b[49m\u001b[38;5;241;43m=\u001b[39;49m\u001b[38;5;28;43;01mNone\u001b[39;49;00m\u001b[43m,\u001b[49m\n\u001b[1;32m      6\u001b[0m \u001b[43m                              \u001b[49m\u001b[43msize\u001b[49m\u001b[38;5;241;43m=\u001b[39;49m\u001b[43m(\u001b[49m\u001b[38;5;241;43m1.25\u001b[39;49m\u001b[43m,\u001b[49m\u001b[43m \u001b[49m\u001b[38;5;241;43m1.25\u001b[39;49m\u001b[43m)\u001b[49m\u001b[43m,\u001b[49m\n\u001b[1;32m      7\u001b[0m \u001b[43m                              \u001b[49m\u001b[43mgaps\u001b[49m\u001b[38;5;241;43m=\u001b[39;49m\u001b[43m(\u001b[49m\u001b[38;5;241;43m0.8\u001b[39;49m\u001b[43m,\u001b[49m\u001b[43m \u001b[49m\u001b[38;5;241;43m0.33\u001b[39;49m\u001b[43m)\u001b[49m\u001b[43m,\u001b[49m\n\u001b[1;32m      8\u001b[0m \u001b[43m                              \u001b[49m\u001b[43mnn_model\u001b[49m\u001b[38;5;241;43m=\u001b[39;49m\u001b[43mmodel\u001b[49m\u001b[43m,\u001b[49m\n\u001b[1;32m      9\u001b[0m \u001b[43m                              \u001b[49m\u001b[43mmeasurement_state\u001b[49m\u001b[38;5;241;43m=\u001b[39;49m\u001b[38;5;28;43;01mNone\u001b[39;49;00m\u001b[43m,\u001b[49m\n\u001b[1;32m     10\u001b[0m \u001b[43m                              \u001b[49m\u001b[43mfilename\u001b[49m\u001b[38;5;241;43m=\u001b[39;49m\u001b[38;5;124;43m\"\u001b[39;49m\u001b[38;5;124;43mhysteresis_comparison\u001b[39;49m\u001b[38;5;124;43m\"\u001b[39;49m\u001b[43m)\u001b[49m\n",
      "Cell \u001b[0;32mIn[47], line 57\u001b[0m, in \u001b[0;36mhysteresis_comparison\u001b[0;34m(self, data, row, col, cycle, size, gaps, nn_model, measurement_state, filename)\u001b[0m\n\u001b[1;32m     51\u001b[0m \u001b[38;5;66;03m# # gets the NN object from the list\u001b[39;00m\n\u001b[1;32m     52\u001b[0m \u001b[38;5;66;03m# NN_model = next((model for model in models_list if isinstance(model, Fitter1D.Model)), None)\u001b[39;00m\n\u001b[1;32m     53\u001b[0m \n\u001b[1;32m     54\u001b[0m \u001b[38;5;66;03m# loops around the models provided\u001b[39;00m\n\u001b[1;32m     55\u001b[0m \u001b[38;5;28;01mfor\u001b[39;00m j, model \u001b[38;5;129;01min\u001b[39;00m \u001b[38;5;28menumerate\u001b[39m(data):\n\u001b[0;32m---> 57\u001b[0m     d1, d2, v1, v2, index1, mse1, params \u001b[38;5;241m=\u001b[39m \u001b[43mBE_viz\u001b[49m\u001b[38;5;241;43m.\u001b[39;49m\u001b[43mget_best_median_worst_hysteresis\u001b[49m\u001b[43m(\u001b[49m\n\u001b[1;32m     58\u001b[0m \u001b[43m    \u001b[49m\u001b[43mtorch\u001b[49m\u001b[38;5;241;43m.\u001b[39;49m\u001b[43matleast_3d\u001b[49m\u001b[43m(\u001b[49m\u001b[43mtorch\u001b[49m\u001b[38;5;241;43m.\u001b[39;49m\u001b[43mtensor\u001b[49m\u001b[43m(\u001b[49m\u001b[43mraw_hysteresis_loop\u001b[49m\u001b[38;5;241;43m.\u001b[39;49m\u001b[43mreshape\u001b[49m\u001b[43m(\u001b[49m\u001b[38;5;241;43m-\u001b[39;49m\u001b[38;5;241;43m1\u001b[39;49m\u001b[43m,\u001b[49m\u001b[43m \u001b[49m\u001b[38;5;241;43m96\u001b[39;49m\u001b[43m)\u001b[49m\u001b[43m)\u001b[49m\u001b[43m)\u001b[49m\u001b[43m,\u001b[49m\n\u001b[1;32m     59\u001b[0m \u001b[43m    \u001b[49m\u001b[43mprediction\u001b[49m\u001b[38;5;241;43m=\u001b[39;49m\u001b[43mnn_model\u001b[49m\u001b[43m,\u001b[49m\n\u001b[1;32m     60\u001b[0m \u001b[43m    \u001b[49m\u001b[43mn\u001b[49m\u001b[38;5;241;43m=\u001b[39;49m\u001b[38;5;241;43m1\u001b[39;49m\n\u001b[1;32m     61\u001b[0m \u001b[43m    \u001b[49m\u001b[43m)\u001b[49m\n\u001b[1;32m     63\u001b[0m     \u001b[38;5;28;01mfor\u001b[39;00m i, index \u001b[38;5;129;01min\u001b[39;00m \u001b[38;5;28menumerate\u001b[39m(index1):\n\u001b[1;32m     64\u001b[0m         \n\u001b[1;32m     65\u001b[0m         \u001b[38;5;66;03m# sets the index for the plots\u001b[39;00m\n\u001b[1;32m     66\u001b[0m         plot_idx \u001b[38;5;241m=\u001b[39m i \u001b[38;5;241m*\u001b[39m \u001b[38;5;241m2\u001b[39m \u001b[38;5;241m+\u001b[39m j\n",
      "File \u001b[0;32m~/Documents/m3_learning/m3_learning/papers/2023_Rapid_Fitting/../../src/m3_learning/be/viz.py:149\u001b[0m, in \u001b[0;36mViz.static_state_decorator.<locals>.wrapper\u001b[0;34m(*args, **kwargs)\u001b[0m\n\u001b[1;32m    147\u001b[0m \u001b[38;5;28;01mdef\u001b[39;00m \u001b[38;5;21mwrapper\u001b[39m(\u001b[38;5;241m*\u001b[39margs, \u001b[38;5;241m*\u001b[39m\u001b[38;5;241m*\u001b[39mkwargs):\n\u001b[1;32m    148\u001b[0m     current_state \u001b[38;5;241m=\u001b[39m args[\u001b[38;5;241m0\u001b[39m]\u001b[38;5;241m.\u001b[39mdataset\u001b[38;5;241m.\u001b[39mget_state\n\u001b[0;32m--> 149\u001b[0m     out \u001b[38;5;241m=\u001b[39m \u001b[43mfunc\u001b[49m\u001b[43m(\u001b[49m\u001b[38;5;241;43m*\u001b[39;49m\u001b[43margs\u001b[49m\u001b[43m,\u001b[49m\u001b[43m \u001b[49m\u001b[38;5;241;43m*\u001b[39;49m\u001b[38;5;241;43m*\u001b[39;49m\u001b[43mkwargs\u001b[49m\u001b[43m)\u001b[49m\n\u001b[1;32m    150\u001b[0m     args[\u001b[38;5;241m0\u001b[39m]\u001b[38;5;241m.\u001b[39mdataset\u001b[38;5;241m.\u001b[39mset_attributes(\u001b[38;5;241m*\u001b[39m\u001b[38;5;241m*\u001b[39mcurrent_state)\n\u001b[1;32m    151\u001b[0m     \u001b[38;5;28;01mreturn\u001b[39;00m out\n",
      "File \u001b[0;32m~/Documents/m3_learning/m3_learning/papers/2023_Rapid_Fitting/../../src/m3_learning/be/viz.py:1055\u001b[0m, in \u001b[0;36mViz.get_best_median_worst_hysteresis\u001b[0;34m(self, true_state, prediction, out_state, n, index, compare_state, **kwargs)\u001b[0m\n\u001b[1;32m   1052\u001b[0m true \u001b[38;5;241m=\u001b[39m np\u001b[38;5;241m.\u001b[39mrollaxis(true, \u001b[38;5;241m0\u001b[39m, true\u001b[38;5;241m.\u001b[39mndim \u001b[38;5;241m-\u001b[39m \u001b[38;5;241m1\u001b[39m)\n\u001b[1;32m   1054\u001b[0m \u001b[38;5;66;03m# this must take the scaled data\u001b[39;00m\n\u001b[0;32m-> 1055\u001b[0m index1, mse1, d1, d2 \u001b[38;5;241m=\u001b[39m \u001b[43mModel\u001b[49m\u001b[38;5;241;43m.\u001b[39;49m\u001b[43mget_rankings\u001b[49m\u001b[43m(\u001b[49m\n\u001b[1;32m   1056\u001b[0m \u001b[43m    \u001b[49m\u001b[43mtrue\u001b[49m\u001b[43m,\u001b[49m\u001b[43m \u001b[49m\u001b[43mprediction\u001b[49m\u001b[43m,\u001b[49m\u001b[43m \u001b[49m\u001b[43mn\u001b[49m\u001b[38;5;241;43m=\u001b[39;49m\u001b[43mn\u001b[49m\u001b[43m)\u001b[49m\n\u001b[1;32m   1058\u001b[0m \u001b[38;5;66;03m# saves just the parameters that are needed\u001b[39;00m\n\u001b[1;32m   1059\u001b[0m params \u001b[38;5;241m=\u001b[39m params[index1]\n",
      "File \u001b[0;32m~/Documents/m3_learning/m3_learning/papers/2023_Rapid_Fitting/../../src/m3_learning/nn/Fitter1D/Fitter1D.py:591\u001b[0m, in \u001b[0;36mModel.get_rankings\u001b[0;34m(raw_data, pred, n, curves)\u001b[0m\n\u001b[1;32m    577\u001b[0m \u001b[38;5;129m@staticmethod\u001b[39m\n\u001b[1;32m    578\u001b[0m \u001b[38;5;28;01mdef\u001b[39;00m \u001b[38;5;21mget_rankings\u001b[39m(raw_data, pred, n\u001b[38;5;241m=\u001b[39m\u001b[38;5;241m1\u001b[39m, curves\u001b[38;5;241m=\u001b[39m\u001b[38;5;28;01mTrue\u001b[39;00m):\n\u001b[1;32m    579\u001b[0m \u001b[38;5;250m    \u001b[39m\u001b[38;5;124;03m\"\"\"simple function to get the best, median and worst reconstructions\u001b[39;00m\n\u001b[1;32m    580\u001b[0m \n\u001b[1;32m    581\u001b[0m \u001b[38;5;124;03m    Args:\u001b[39;00m\n\u001b[0;32m   (...)\u001b[0m\n\u001b[1;32m    589\u001b[0m \u001b[38;5;124;03m        mse: mse of the best, median and worst reconstructions\u001b[39;00m\n\u001b[1;32m    590\u001b[0m \u001b[38;5;124;03m    \"\"\"\u001b[39;00m\n\u001b[0;32m--> 591\u001b[0m     index, mse, d1, d2 \u001b[38;5;241m=\u001b[39m \u001b[43mModel\u001b[49m\u001b[38;5;241;43m.\u001b[39;49m\u001b[43mmse_rankings\u001b[49m\u001b[43m(\u001b[49m\n\u001b[1;32m    592\u001b[0m \u001b[43m        \u001b[49m\u001b[43mraw_data\u001b[49m\u001b[43m,\u001b[49m\u001b[43m \u001b[49m\u001b[43mpred\u001b[49m\u001b[43m,\u001b[49m\u001b[43m \u001b[49m\u001b[43mcurves\u001b[49m\u001b[38;5;241;43m=\u001b[39;49m\u001b[43mcurves\u001b[49m\u001b[43m)\u001b[49m\n\u001b[1;32m    593\u001b[0m     middle_index \u001b[38;5;241m=\u001b[39m \u001b[38;5;28mlen\u001b[39m(index) \u001b[38;5;241m/\u001b[39m\u001b[38;5;241m/\u001b[39m \u001b[38;5;241m2\u001b[39m\n\u001b[1;32m    594\u001b[0m     start_index \u001b[38;5;241m=\u001b[39m middle_index \u001b[38;5;241m-\u001b[39m n \u001b[38;5;241m/\u001b[39m\u001b[38;5;241m/\u001b[39m \u001b[38;5;241m2\u001b[39m\n",
      "File \u001b[0;32m~/Documents/m3_learning/m3_learning/papers/2023_Rapid_Fitting/../../src/m3_learning/nn/Fitter1D/Fitter1D.py:560\u001b[0m, in \u001b[0;36mModel.mse_rankings\u001b[0;34m(true, prediction, curves)\u001b[0m\n\u001b[1;32m    556\u001b[0m index \u001b[38;5;241m=\u001b[39m np\u001b[38;5;241m.\u001b[39margsort(errors)\n\u001b[1;32m    558\u001b[0m \u001b[38;5;28;01mif\u001b[39;00m curves:\n\u001b[1;32m    559\u001b[0m     \u001b[38;5;66;03m# true will be in the form [ranked error, channel, timestep]\u001b[39;00m\n\u001b[0;32m--> 560\u001b[0m     \u001b[38;5;28;01mreturn\u001b[39;00m index, \u001b[43merrors\u001b[49m\u001b[43m[\u001b[49m\u001b[43mindex\u001b[49m\u001b[43m]\u001b[49m, true[index], prediction[index]\n\u001b[1;32m    562\u001b[0m \u001b[38;5;28;01mreturn\u001b[39;00m index, errors[index]\n",
      "\u001b[0;31mTypeError\u001b[0m: 'float' object is not subscriptable"
     ]
    },
    {
     "data": {
      "image/png": "[encoded data removed]",
      "text/plain": [
       "<Figure size 410x474 with 6 Axes>"
      ]
     },
     "metadata": {},
     "output_type": "display_data"
    }
   ],
   "source": [
    "hysteresis_comparison(self,\n",
    "                              ['LSQF','NN'],\n",
    "                              row=None,\n",
    "                              col=None,\n",
    "                              cycle=None,\n",
    "                              size=(1.25, 1.25),\n",
    "                              gaps=(0.8, 0.33),\n",
    "                              nn_model=model,\n",
    "                              measurement_state=None,\n",
    "                              filename=\"hysteresis_comparison\")"
   ]
  },
  {
   "cell_type": "code",
   "execution_count": 106,
   "metadata": {},
   "outputs": [
    {
     "name": "stdout",
     "output_type": "stream",
     "text": [
      "No spectroscopic datasets found as attributes of /Measurement_000/Channel_000/Position_Indices\n",
      "No position datasets found as attributes of /Measurement_000/Raw_Data-SHO_Fit_000/Spectroscopic_Values\n",
      "No spectroscopic datasets found as attributes of /Measurement_000/Channel_000/Position_Indices\n",
      "No position datasets found as attributes of /Measurement_000/Raw_Data-SHO_Fit_000/Spectroscopic_Values\n"
     ]
    },
    {
     "data": {
      "text/plain": [
       "[<matplotlib.lines.Line2D at 0x7fce36130510>]"
      ]
     },
     "execution_count": 106,
     "metadata": {},
     "output_type": "execute_result"
    },
    {
     "data": {
      "image/png": "[encoded data removed]",
      "text/plain": [
       "<Figure size 640x480 with 1 Axes>"
      ]
     },
     "metadata": {},
     "output_type": "display_data"
    }
   ],
   "source": [
    "raw_hysteresis_loop, LSQF_loop, NN_loop = get_hysteresis_from_index(self, index1[1], model)\n",
    "plt.plot(voltage, raw_hysteresis_loop, 'b')\n",
    "plt.plot(voltage, LSQF_loop, 'r')\n",
    "plt.plot(voltage, NN_loop, 'g')"
   ]
  },
  {
   "cell_type": "code",
   "execution_count": null,
   "metadata": {},
   "outputs": [],
   "source": [
    "def hysteresis_comparison(self, models, )\n",
    "\n",
    "\n",
    "\n",
    "\n",
    "\n",
    "\n",
    "\n",
    "d1, d2, x1, x2, index1, mse1, _ = self.get_best_median_worst_hysteresis(\n",
    "                data,\n",
    "                prediction=model,\n",
    "                n=1,\n",
    "            )\n",
    "\n",
    "\n",
    "\n",
    "\n",
    "unscaled_true = self.dataset.hystersis_scaler.inverse_transform(d1)\n",
    "unscaled_predicted = self.dataset.hystersis_scaler.inverse_transform(d2)"
   ]
  },
  {
   "cell_type": "code",
   "execution_count": 67,
   "metadata": {},
   "outputs": [],
   "source": [
    "self = BE_viz\n",
    "\n",
    "def get_hysteresis_prediction_from_ind(idx, model):\n",
    "    # gets the raw data\n",
    "    raw_hysteresis_loop, voltage = self.dataset.get_hysteresis(\n",
    "        loop_interpolated=True, plotting_values=True)\n",
    "    \n",
    "    raw_hysteresis_loop = raw_hysteresis_loop.reshape(-1, 96)[idx, :]\n",
    "    \n",
    "    parms_lsqf = self.dataset.LSQF_hysteresis_params(\n",
    "                ).reshape(-1, 9)[idx, :]\n",
    "    \n",
    "    data_raw, voltage = self.dataset.get_hysteresis(\n",
    "        loop_interpolated=True, plotting_values=True)\n",
    "    \n",
    "    pred_data, scaled_params, params = model.predict(\n",
    "            torch.atleast_3d(torch.tensor(data_raw.reshape(-1, 96))).float(), translate_params=False, is_SHO=False)\n",
    "    \n",
    "    params = params[idx, :].to(\n",
    "                    'cpu').detach().numpy().squeeze()\n",
    "    print(params.shape)\n",
    "    print(type(parms_lsqf))\n",
    "    \n",
    "    LSQF_loop = loop_fitting_function_torch(parms_lsqf, voltage[:, 0].squeeze()).to(\n",
    "                    'cpu').detach().numpy().squeeze()\n",
    "    \n",
    "    NN_loop = loop_fitting_function_torch(params, voltage[:, 0].squeeze()).to(\n",
    "                    'cpu').detach().numpy().squeeze()\n",
    "    \n",
    "    return raw_hysteresis_loop, LSQF_loop, NN_loop"
   ]
  },
  {
   "cell_type": "code",
   "execution_count": null,
   "metadata": {},
   "outputs": [],
   "source": []
  },
  {
   "cell_type": "code",
   "execution_count": 70,
   "metadata": {},
   "outputs": [
    {
     "name": "stdout",
     "output_type": "stream",
     "text": [
      "No spectroscopic datasets found as attributes of /Measurement_000/Channel_000/Position_Indices\n",
      "No position datasets found as attributes of /Measurement_000/Raw_Data-SHO_Fit_000/Spectroscopic_Values\n",
      "No spectroscopic datasets found as attributes of /Measurement_000/Channel_000/Position_Indices\n",
      "No position datasets found as attributes of /Measurement_000/Raw_Data-SHO_Fit_000/Spectroscopic_Values\n",
      "(9,)\n",
      "<class 'numpy.ndarray'>\n"
     ]
    }
   ],
   "source": [
    "raw_hysteresis_loop, LSQF_loop, NN_loop = get_hysteresis_prediction_from_ind(index1[0], model)"
   ]
  },
  {
   "cell_type": "code",
   "execution_count": null,
   "metadata": {},
   "outputs": [],
   "source": []
  },
  {
   "cell_type": "code",
   "execution_count": 1,
   "metadata": {},
   "outputs": [
    {
     "ename": "NameError",
     "evalue": "name 'plt' is not defined",
     "output_type": "error",
     "traceback": [
      "\u001b[0;31m---------------------------------------------------------------------------\u001b[0m",
      "\u001b[0;31mNameError\u001b[0m                                 Traceback (most recent call last)",
      "Cell \u001b[0;32mIn[1], line 1\u001b[0m\n\u001b[0;32m----> 1\u001b[0m \u001b[43mplt\u001b[49m\u001b[38;5;241m.\u001b[39mplot(voltage\u001b[38;5;241m.\u001b[39msqueeze()\u001b[38;5;241m*\u001b[39m\u001b[38;5;241m-\u001b[39m\u001b[38;5;241m1\u001b[39m, raw_hysteresis_loop, \u001b[38;5;124m'\u001b[39m\u001b[38;5;124mr\u001b[39m\u001b[38;5;124m'\u001b[39m, label\u001b[38;5;241m=\u001b[39m\u001b[38;5;124m\"\u001b[39m\u001b[38;5;124mRaw Data\u001b[39m\u001b[38;5;124m\"\u001b[39m)\n\u001b[1;32m      2\u001b[0m plt\u001b[38;5;241m.\u001b[39mplot(voltage\u001b[38;5;241m.\u001b[39msqueeze(), LSQF_loop, \u001b[38;5;124m'\u001b[39m\u001b[38;5;124mb\u001b[39m\u001b[38;5;124m'\u001b[39m, label\u001b[38;5;241m=\u001b[39m\u001b[38;5;124m\"\u001b[39m\u001b[38;5;124mRaw Data\u001b[39m\u001b[38;5;124m\"\u001b[39m)\n\u001b[1;32m      3\u001b[0m plt\u001b[38;5;241m.\u001b[39mplot(voltage\u001b[38;5;241m.\u001b[39msqueeze(), NN_loop, \u001b[38;5;124m'\u001b[39m\u001b[38;5;124mg\u001b[39m\u001b[38;5;124m'\u001b[39m, label\u001b[38;5;241m=\u001b[39m\u001b[38;5;124m\"\u001b[39m\u001b[38;5;124mRaw Data\u001b[39m\u001b[38;5;124m\"\u001b[39m)\n",
      "\u001b[0;31mNameError\u001b[0m: name 'plt' is not defined"
     ]
    }
   ],
   "source": [
    "plt.plot(voltage.squeeze()*-1, raw_hysteresis_loop, 'r', label=\"Raw Data\")\n",
    "plt.plot(voltage.squeeze(), LSQF_loop, 'b', label=\"Raw Data\")\n",
    "plt.plot(voltage.squeeze(), NN_loop, 'g', label=\"Raw Data\")\n",
    "plt.plot(voltage.squeeze(), d2[0], 'o', label=\"Raw Data\")\n",
    "plt.plot(voltage.squeeze(), d1[0], 'o', label=\"Raw Data\")"
   ]
  },
  {
   "cell_type": "code",
   "execution_count": 42,
   "metadata": {},
   "outputs": [
    {
     "data": {
      "text/plain": [
       "(60, 60, 4, 96)"
      ]
     },
     "execution_count": 42,
     "metadata": {},
     "output_type": "execute_result"
    }
   ],
   "source": [
    "raw_hysteresis_loop.shape"
   ]
  },
  {
   "cell_type": "code",
   "execution_count": null,
   "metadata": {},
   "outputs": [],
   "source": [
    "def bmw_nn(\n",
    "        self,\n",
    "        true_state,\n",
    "        prediction=None,\n",
    "        model=None,\n",
    "        out_state=None,\n",
    "        n=1,\n",
    "        gaps=(0.8, 0.33),\n",
    "        size=(1.25, 1.25),\n",
    "        filename=None,\n",
    "        compare_state=None,\n",
    "        fit_type='hysteresis',\n",
    "        **kwargs,\n",
    "    ):"
   ]
  },
  {
   "cell_type": "code",
   "execution_count": 24,
   "metadata": {},
   "outputs": [
    {
     "name": "stdout",
     "output_type": "stream",
     "text": [
      "No spectroscopic datasets found as attributes of /Measurement_000/Channel_000/Position_Indices\n",
      "No position datasets found as attributes of /Measurement_000/Raw_Data-SHO_Fit_000/Spectroscopic_Values\n",
      "No spectroscopic datasets found as attributes of /Measurement_000/Channel_000/Position_Indices\n",
      "No position datasets found as attributes of /Measurement_000/Raw_Data-SHO_Fit_000/Spectroscopic_Values\n",
      "./Figures/Figure_XX_LSQF_NN_bmw_comparison.png\n",
      "./Figures/Figure_XX_LSQF_NN_bmw_comparison.svg\n"
     ]
    },
    {
     "data": {
      "image/png": "[encoded data removed]",
      "text/plain": [
       "<Figure size 410x474 with 6 Axes>"
      ]
     },
     "execution_count": 24,
     "metadata": {},
     "output_type": "execute_result"
    },
    {
     "data": {
      "image/png": "[encoded data removed]",
      "text/plain": [
       "<Figure size 410x474 with 6 Axes>"
      ]
     },
     "metadata": {},
     "output_type": "display_data"
    }
   ],
   "source": [
    "n = 1\n",
    "\n",
    "data = (\"LSQF\", \"NN\")\n",
    "# names = [\"LSQF\", \"NN\"]\n",
    "\n",
    "BE_viz.get(\n",
    "    data,\n",
    "    model=model,\n",
    "    filename=\"Figure_XX_LSQF_NN_bmw_comparison\",\n",
    ")"
   ]
  },
  {
   "cell_type": "markdown",
   "metadata": {},
   "source": [
    "### Statistics of the Results for Training, Validation, and Entire Dataset"
   ]
  },
  {
   "cell_type": "code",
   "execution_count": 1,
   "metadata": {},
   "outputs": [
    {
     "ename": "NameError",
     "evalue": "name 'dataset' is not defined",
     "output_type": "error",
     "traceback": [
      "\u001b[0;31m---------------------------------------------------------------------------\u001b[0m",
      "\u001b[0;31mNameError\u001b[0m                                 Traceback (most recent call last)",
      "Cell \u001b[0;32mIn[1], line 1\u001b[0m\n\u001b[0;32m----> 1\u001b[0m data, voltage \u001b[38;5;241m=\u001b[39m \u001b[43mdataset\u001b[49m\u001b[38;5;241m.\u001b[39mget_hysteresis(scaled\u001b[38;5;241m=\u001b[39m\u001b[38;5;28;01mTrue\u001b[39;00m, loop_interpolated \u001b[38;5;241m=\u001b[39m \u001b[38;5;28;01mTrue\u001b[39;00m)\n\u001b[1;32m      3\u001b[0m BE_viz\u001b[38;5;241m.\u001b[39mviolin_plot_comparison_hysteresis(model,\n\u001b[1;32m      4\u001b[0m                                          torch\u001b[38;5;241m.\u001b[39matleast_3d(torch\u001b[38;5;241m.\u001b[39mtensor(data\u001b[38;5;241m.\u001b[39mreshape(\u001b[38;5;241m-\u001b[39m\u001b[38;5;241m1\u001b[39m, \u001b[38;5;241m96\u001b[39m))),\n\u001b[1;32m      5\u001b[0m                                          filename\u001b[38;5;241m=\u001b[39m\u001b[38;5;124m\"\u001b[39m\u001b[38;5;124mFigure_XX_Violin\u001b[39m\u001b[38;5;124m\"\u001b[39m) \n",
      "\u001b[0;31mNameError\u001b[0m: name 'dataset' is not defined"
     ]
    }
   ],
   "source": [
    "data, voltage = dataset.get_hysteresis(scaled=True, loop_interpolated = True)\n",
    "\n",
    "BE_viz.violin_plot_comparison_hysteresis(model,\n",
    "                                         torch.atleast_3d(torch.tensor(data.reshape(-1, 96))),\n",
    "                                         filename=\"Figure_XX_Violin\") "
   ]
  },
  {
   "cell_type": "markdown",
   "metadata": {},
   "source": [
    "### Color Maps of Parameters"
   ]
  },
  {
   "cell_type": "code",
   "execution_count": null,
   "metadata": {},
   "outputs": [],
   "source": [
    "data, voltage = dataset.get_hysteresis(scaled=True, loop_interpolated = True)\n",
    "data = torch.atleast_3d(torch.tensor(data.reshape(-1, 96)))\n",
    "\n",
    "pred_recon, pred_params_scaled, pred_params = model.predict(\n",
    "    data,\n",
    "    1024,\n",
    "    translate_params=False,\n",
    "    is_SHO=False\n",
    ")\n",
    "\n",
    "BE_viz.hysteresis_maps(pred_params, filename=\"Figure_XX_NN_Hysteresis_Maps\")"
   ]
  },
  {
   "cell_type": "code",
   "execution_count": null,
   "metadata": {},
   "outputs": [],
   "source": []
  },
  {
   "cell_type": "code",
   "execution_count": null,
   "metadata": {},
   "outputs": [],
   "source": []
  }
 ],
 "metadata": {
  "kernelspec": {
   "display_name": "Python 3 (ipykernel)",
   "language": "python",
   "name": "python3"
  },
  "language_info": {
   "codemirror_mode": {
    "name": "ipython",
    "version": 3
   },
   "file_extension": ".py",
   "mimetype": "text/x-python",
   "name": "python",
   "nbconvert_exporter": "python",
   "pygments_lexer": "ipython3",
   "version": "3.11.9"
  }
 },
 "nbformat": 4,
 "nbformat_minor": 4
}
