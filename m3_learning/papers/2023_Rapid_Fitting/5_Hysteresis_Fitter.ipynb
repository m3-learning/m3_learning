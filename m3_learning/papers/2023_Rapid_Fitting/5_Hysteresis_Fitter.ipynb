{
 "cells": [
  {
   "cell_type": "markdown",
   "metadata": {},
   "source": [
    "# Hysteresis Loops Fitting"
   ]
  },
  {
   "cell_type": "code",
   "execution_count": 1,
   "metadata": {},
   "outputs": [],
   "source": [
    "import sys\n",
    "sys.path.append('../../')\n",
    "sys.path.append('../../src')"
   ]
  },
  {
   "cell_type": "code",
   "execution_count": 2,
   "metadata": {},
   "outputs": [
    {
     "name": "stderr",
     "output_type": "stream",
     "text": [
      "2024-08-16 21:08:09.030372: E external/local_xla/xla/stream_executor/cuda/cuda_dnn.cc:9261] Unable to register cuDNN factory: Attempting to register factory for plugin cuDNN when one has already been registered\n",
      "2024-08-16 21:08:09.030466: E external/local_xla/xla/stream_executor/cuda/cuda_fft.cc:607] Unable to register cuFFT factory: Attempting to register factory for plugin cuFFT when one has already been registered\n",
      "2024-08-16 21:08:09.080939: E external/local_xla/xla/stream_executor/cuda/cuda_blas.cc:1515] Unable to register cuBLAS factory: Attempting to register factory for plugin cuBLAS when one has already been registered\n",
      "2024-08-16 21:08:09.189624: I tensorflow/core/platform/cpu_feature_guard.cc:182] This TensorFlow binary is optimized to use available CPU instructions in performance-critical operations.\n",
      "To enable the following instructions: AVX2 FMA, in other operations, rebuild TensorFlow with the appropriate compiler flags.\n",
      "2024-08-16 21:08:10.162901: W tensorflow/compiler/tf2tensorrt/utils/py_utils.cc:38] TF-TRT Warning: Could not find TensorRT\n"
     ]
    },
    {
     "name": "stdout",
     "output_type": "stream",
     "text": [
      "printing set for seaborn\n",
      "Pytorch seed was set to 42\n",
      "Numpy seed was set to 42\n",
      "tensorflow seed was set to 42\n"
     ]
    }
   ],
   "source": [
    "%load_ext autoreload\n",
    "%autoreload 2\n",
    "\n",
    "import h5py\n",
    "import pyUSID as usid\n",
    "\n",
    "from src.m3_learning.be.processing import fit_loop_function, loop_lsqf\n",
    "from m3_learning.be.loop_fitter import loop_fitting_function_torch\n",
    "from m3_learning.viz.layout import subfigures\n",
    "\n",
    "import numpy as np\n",
    "\n",
    "from m3_learning.nn.random import random_seed\n",
    "from m3_learning.viz.style import set_style\n",
    "from m3_learning.viz.printing import printer\n",
    "from m3_learning.be.viz import Viz\n",
    "from m3_learning.be.dataset import BE_Dataset\n",
    "from m3_learning.be.nn import SHO_fit_func_nn, SHO_Model\n",
    "from m3_learning.nn.Fitter1D.Fitter1D import Multiscale1DFitter, Model\n",
    "# from m3_learning.nn.Fitter1D.Fitter1D_new import Multiscale1DFitter, Model\n",
    "from m3_learning.be.filters import clean_interpolate\n",
    "\n",
    "import torch\n",
    "\n",
    "printing = printer(basepath = './Figures/')\n",
    "\n",
    "\n",
    "set_style(\"printing\")\n",
    "random_seed(seed=42)\n",
    "\n",
    "%matplotlib inline"
   ]
  },
  {
   "cell_type": "code",
   "execution_count": 3,
   "metadata": {},
   "outputs": [],
   "source": [
    "from BGlib import be as belib\n"
   ]
  },
  {
   "cell_type": "code",
   "execution_count": 4,
   "metadata": {},
   "outputs": [
    {
     "name": "stderr",
     "output_type": "stream",
     "text": [
      "/tmp/ipykernel_5374/616780478.py:1: DeprecationWarning: pkg_resources is deprecated as an API. See https://setuptools.pypa.io/en/latest/pkg_resources.html\n",
      "  import pkg_resources\n"
     ]
    },
    {
     "data": {
      "text/plain": [
       "'0.0.6'"
      ]
     },
     "execution_count": 4,
     "metadata": {},
     "output_type": "execute_result"
    }
   ],
   "source": [
    "import pkg_resources\n",
    "\n",
    "# Check the version of BGlib\n",
    "bg_version = pkg_resources.get_distribution(\"BGlib\").version\n",
    "bg_version"
   ]
  },
  {
   "cell_type": "code",
   "execution_count": 5,
   "metadata": {},
   "outputs": [
    {
     "data": {
      "text/plain": [
       "'1.26.4'"
      ]
     },
     "execution_count": 5,
     "metadata": {},
     "output_type": "execute_result"
    }
   ],
   "source": [
    "pkg_resources.get_distribution(\"numpy\").version"
   ]
  },
  {
   "cell_type": "code",
   "execution_count": 6,
   "metadata": {},
   "outputs": [
    {
     "data": {
      "text/plain": [
       "'3.11.9 (main, Apr 19 2024, 16:48:06) [GCC 11.2.0]'"
      ]
     },
     "execution_count": 6,
     "metadata": {},
     "output_type": "execute_result"
    }
   ],
   "source": [
    "import sys\n",
    "sys.version"
   ]
  },
  {
   "cell_type": "markdown",
   "metadata": {},
   "source": [
    "## Loads data"
   ]
  },
  {
   "cell_type": "code",
   "execution_count": 7,
   "metadata": {},
   "outputs": [
    {
     "data": {
      "text/html": [
       "\n",
       "<style>\n",
       "    div#notebook-container    { width: 95%; }\n",
       "    div#menubar-container     { width: 65%; }\n",
       "    div#maintoolbar-container { width: 99%; }\n",
       "</style>\n"
      ],
      "text/plain": [
       "<IPython.core.display.HTML object>"
      ]
     },
     "metadata": {},
     "output_type": "display_data"
    },
    {
     "name": "stdout",
     "output_type": "stream",
     "text": [
      "The autoreload extension is already loaded. To reload it, use:\n",
      "  %reload_ext autoreload\n",
      "printing set for seaborn\n",
      "Pytorch seed was set to 42\n",
      "Numpy seed was set to 42\n",
      "tensorflow seed was set to 42\n"
     ]
    }
   ],
   "source": [
    "# Ensure python 3 compatibility\n",
    "from __future__ import division, print_function, absolute_import\n",
    "\n",
    "# Import necessary libraries:\n",
    "# General utilities:\n",
    "import os\n",
    "\n",
    "# Computation:\n",
    "import numpy as np\n",
    "import h5py\n",
    "\n",
    "# Visualization:\n",
    "import matplotlib.pyplot as plt\n",
    "from IPython.display import display, HTML\n",
    "\n",
    "# The engineering components supporting BGlib:\n",
    "import sidpy\n",
    "import pyUSID as usid\n",
    "# Finally, BGlib itself\n",
    "from BGlib import be as belib\n",
    "\n",
    "# Make Notebook take up most of page width\n",
    "display(HTML(data=\"\"\"\n",
    "<style>\n",
    "    div#notebook-container    { width: 95%; }\n",
    "    div#menubar-container     { width: 65%; }\n",
    "    div#maintoolbar-container { width: 99%; }\n",
    "</style>\n",
    "\"\"\"))\n",
    "\n",
    "# For the notebook to work you must have m3_learning installed\n",
    "# pip install m3_learning\n",
    "%load_ext autoreload\n",
    "%autoreload 2\n",
    "\n",
    "import numpy as np\n",
    "\n",
    "from m3_learning.nn.random import random_seed\n",
    "from m3_learning.viz.style import set_style\n",
    "from m3_learning.util.file_IO import download_and_unzip\n",
    "from m3_learning.viz.printing import printer\n",
    "from m3_learning.be.viz import Viz\n",
    "from m3_learning.be.dataset import BE_Dataset\n",
    "from IPython.display import Video\n",
    "\n",
    "\n",
    "# from m3_learning.be.dataset import BE_Dataset\n",
    "printing = printer(basepath = './Figures/')\n",
    "\n",
    "set_style(\"printing\")\n",
    "random_seed(seed=42)\n",
    "\n",
    "%matplotlib inline"
   ]
  },
  {
   "cell_type": "code",
   "execution_count": 8,
   "metadata": {},
   "outputs": [],
   "source": [
    "max_mem = 1024*8  # Maximum memory to use, in Mbs. Default = 1024\n",
    "# Number of logical cores to use in fitting.  None uses all but 2 available cores.\n",
    "max_cores = None\n",
    "results_to_new_file = False"
   ]
  },
  {
   "cell_type": "code",
   "execution_count": 9,
   "metadata": {},
   "outputs": [
    {
     "name": "stdout",
     "output_type": "stream",
     "text": [
      "Using files already downloaded\n"
     ]
    }
   ],
   "source": [
    "# Download the data file from Zenodo\n",
    "url = 'https://zenodo.org/record/7774788/files/PZT_2080_raw_data.h5?download=1'\n",
    "\n",
    "# Specify the filename and the path to save the file\n",
    "filename = '/data_raw_7_25 copy.h5'\n",
    "save_path = './Data'\n",
    "\n",
    "# download the file\n",
    "download_and_unzip(filename, url, save_path)\n",
    "\n",
    "h5_path = save_path + filename"
   ]
  },
  {
   "cell_type": "code",
   "execution_count": 10,
   "metadata": {},
   "outputs": [
    {
     "name": "stdout",
     "output_type": "stream",
     "text": [
      "Working on:\n",
      "./Data/data_raw_7_25 copy.h5\n"
     ]
    }
   ],
   "source": [
    "# h5_path = \"/home/ferroelectric/Documents/m3_learning/m3_learning/papers/2023_Rapid_Fitting/Data/data_raw_manual.h5\"\n",
    "\n",
    "h5_path = save_path + filename\n",
    "\n",
    "folder_path, h5_raw_file_name = os.path.split(h5_path)\n",
    "h5_file = h5py.File(h5_path, 'r+')\n",
    "print('Working on:\\n' + h5_path)\n",
    "\n",
    "h5_main = usid.hdf_utils.find_dataset(h5_file, 'Raw_Data')[0]\n",
    "\n",
    "# h5_main"
   ]
  },
  {
   "cell_type": "code",
   "execution_count": 11,
   "metadata": {},
   "outputs": [
    {
     "name": "stdout",
     "output_type": "stream",
     "text": [
      "Datasets and datagroups within the file:\n",
      "------------------------------------\n",
      "/\n",
      "├ Measurement_000\n",
      "  ---------------\n",
      "  ├ Channel_000\n",
      "    -----------\n",
      "    ├ Bin_FFT\n",
      "    ├ Bin_Frequencies\n",
      "    ├ Bin_Indices\n",
      "    ├ Bin_Step\n",
      "    ├ Bin_Wfm_Type\n",
      "    ├ Excitation_Waveform\n",
      "    ├ Noise_Floor\n",
      "    ├ Noisy_Data_1\n",
      "    ├ Noisy_Data_2\n",
      "    ├ Noisy_Data_3\n",
      "    ├ Noisy_Data_4\n",
      "    ├ Noisy_Data_5\n",
      "    ├ Noisy_Data_6\n",
      "    ├ Noisy_Data_7\n",
      "    ├ Noisy_Data_8\n",
      "    ├ Position_Indices\n",
      "    ├ Position_Values\n",
      "    ├ Raw_Data\n",
      "    ├ Spatially_Averaged_Plot_Group_000\n",
      "      ---------------------------------\n",
      "      ├ Bin_Frequencies\n",
      "      ├ Max_Response\n",
      "      ├ Mean_Spectrogram\n",
      "      ├ Min_Response\n",
      "      ├ Spectroscopic_Parameter\n",
      "      ├ Step_Averaged_Response\n",
      "    ├ Spatially_Averaged_Plot_Group_001\n",
      "      ---------------------------------\n",
      "      ├ Bin_Frequencies\n",
      "      ├ Max_Response\n",
      "      ├ Mean_Spectrogram\n",
      "      ├ Min_Response\n",
      "      ├ Spectroscopic_Parameter\n",
      "      ├ Step_Averaged_Response\n",
      "    ├ Spectroscopic_Indices\n",
      "    ├ Spectroscopic_Values\n",
      "    ├ UDVS\n",
      "    ├ UDVS_Indices\n",
      "  ├ Raw_Data-SHO_Fit_000\n",
      "    --------------------\n",
      "    ├ Fit\n",
      "    ├ Fit-Loop_Fit_000\n",
      "      ----------------\n",
      "      ├ Fit\n",
      "      ├ Fit_Loop_Parameters\n",
      "      ├ Guess\n",
      "      ├ Guess_Loop_Parameters\n",
      "      ├ Loop_Metrics\n",
      "      ├ Loop_Metrics_Indices\n",
      "      ├ Loop_Metrics_Values\n",
      "      ├ Projected_Loops\n",
      "      ├ completed_fit_positions\n",
      "      ├ completed_guess_positions\n",
      "      ├ completed_positions\n",
      "    ├ Guess\n",
      "    ├ Spectroscopic_Indices\n",
      "    ├ Spectroscopic_Values\n",
      "    ├ completed_fit_positions\n",
      "    ├ completed_guess_positions\n",
      "    ├ completed_positions\n",
      "├ Noisy_Data_1_SHO_Fit\n",
      "  --------------------\n",
      "  ├ Noisy_Data_1-SHO_Fit_000\n",
      "    ------------------------\n",
      "    ├ Fit\n",
      "    ├ Guess\n",
      "    ├ Spectroscopic_Indices\n",
      "    ├ Spectroscopic_Values\n",
      "    ├ completed_fit_positions\n",
      "    ├ completed_guess_positions\n",
      "├ Noisy_Data_2_SHO_Fit\n",
      "  --------------------\n",
      "  ├ Noisy_Data_2-SHO_Fit_000\n",
      "    ------------------------\n",
      "    ├ Fit\n",
      "    ├ Guess\n",
      "    ├ Spectroscopic_Indices\n",
      "    ├ Spectroscopic_Values\n",
      "    ├ completed_fit_positions\n",
      "    ├ completed_guess_positions\n",
      "├ Noisy_Data_3_SHO_Fit\n",
      "  --------------------\n",
      "  ├ Noisy_Data_3-SHO_Fit_000\n",
      "    ------------------------\n",
      "    ├ Fit\n",
      "    ├ Guess\n",
      "    ├ Spectroscopic_Indices\n",
      "    ├ Spectroscopic_Values\n",
      "    ├ completed_fit_positions\n",
      "    ├ completed_guess_positions\n",
      "├ Noisy_Data_4_SHO_Fit\n",
      "  --------------------\n",
      "  ├ Noisy_Data_4-SHO_Fit_000\n",
      "    ------------------------\n",
      "    ├ Fit\n",
      "    ├ Guess\n",
      "    ├ Spectroscopic_Indices\n",
      "    ├ Spectroscopic_Values\n",
      "    ├ completed_fit_positions\n",
      "    ├ completed_guess_positions\n",
      "├ Noisy_Data_5_SHO_Fit\n",
      "  --------------------\n",
      "  ├ Noisy_Data_5-SHO_Fit_000\n",
      "    ------------------------\n",
      "    ├ Fit\n",
      "    ├ Guess\n",
      "    ├ Spectroscopic_Indices\n",
      "    ├ Spectroscopic_Values\n",
      "    ├ completed_fit_positions\n",
      "    ├ completed_guess_positions\n",
      "├ Noisy_Data_6_SHO_Fit\n",
      "  --------------------\n",
      "  ├ Noisy_Data_6-SHO_Fit_000\n",
      "    ------------------------\n",
      "    ├ Fit\n",
      "    ├ Guess\n",
      "    ├ Spectroscopic_Indices\n",
      "    ├ Spectroscopic_Values\n",
      "    ├ completed_fit_positions\n",
      "    ├ completed_guess_positions\n",
      "├ Noisy_Data_7_SHO_Fit\n",
      "  --------------------\n",
      "  ├ Noisy_Data_7-SHO_Fit_000\n",
      "    ------------------------\n",
      "    ├ Fit\n",
      "    ├ Guess\n",
      "    ├ Spectroscopic_Indices\n",
      "    ├ Spectroscopic_Values\n",
      "    ├ completed_fit_positions\n",
      "    ├ completed_guess_positions\n",
      "├ Noisy_Data_8_SHO_Fit\n",
      "  --------------------\n",
      "  ├ Noisy_Data_8-SHO_Fit_000\n",
      "    ------------------------\n",
      "    ├ Fit\n",
      "    ├ Guess\n",
      "    ├ Spectroscopic_Indices\n",
      "    ├ Spectroscopic_Values\n",
      "    ├ completed_fit_positions\n",
      "    ├ completed_guess_positions\n",
      "├ Raw_Data-SHO_Fit_000\n",
      "  --------------------\n",
      "  ├ Fit\n",
      "  ├ Guess\n",
      "  ├ Spectroscopic_Indices\n",
      "  ├ Spectroscopic_Values\n",
      "  ├ completed_fit_positions\n",
      "  ├ completed_guess_positions\n",
      "  ├ completed_positions\n",
      "├ Raw_Data_SHO_Fit\n",
      "  ----------------\n",
      "  ├ Raw_Data-SHO_Fit_000\n",
      "    --------------------\n",
      "    ├ Fit\n",
      "    ├ Guess\n",
      "    ├ Spectroscopic_Indices\n",
      "    ├ Spectroscopic_Values\n",
      "    ├ completed_fit_positions\n",
      "    ├ completed_guess_positions\n",
      "\n",
      "The main dataset:\n",
      "------------------------------------\n",
      "<HDF5 dataset \"Raw_Data\": shape (3600, 63360), type \"<c8\">\n",
      "located at: \n",
      "\t/Measurement_000/Channel_000/Raw_Data \n",
      "Data contains: \n",
      "\tPiezoresponse (V) \n",
      "Data dimensions and original shape: \n",
      "Position Dimensions: \n",
      "\tY - size: 60 \n",
      "\tX - size: 60 \n",
      "Spectroscopic Dimensions: \n",
      "\tFrequency - size: 165 \n",
      "\tDC_Offset - size: 96 \n",
      "\tField - size: 2 \n",
      "\tCycle - size: 2\n",
      "Data Type:\n",
      "\tcomplex64\n",
      "\n",
      "Metadata or attributes in the measurement datagroup\n",
      "------------------------------------\n",
      "BE_actual_duration_[s] : 0.004\n",
      "BE_amplitude_[V] : 1\n",
      "BE_auto_smoothing : auto smoothing on\n",
      "BE_band_edge_smoothing_[s] : 4832.1\n",
      "BE_band_edge_trim : 0.094742\n",
      "BE_band_width_[Hz] : 200000\n",
      "BE_bins_per_band : 0\n",
      "BE_center_frequency_[Hz] : 1310000\n",
      "BE_desired_duration_[s] : 0.004\n",
      "BE_phase_content : chirp-sinc hybrid\n",
      "BE_phase_variation : 1\n",
      "BE_points_per_BE_wave : 0\n",
      "BE_repeats : 4\n",
      "FORC_V_high1_[V] : 1\n",
      "FORC_V_high2_[V] : 10\n",
      "FORC_V_low1_[V] : -1\n",
      "FORC_V_low2_[V] : -10\n",
      "FORC_num_of_FORC_cycles : 1\n",
      "FORC_num_of_FORC_repeats : 1\n",
      "File_MDAQ_version : MDAQ_VS_090915_01\n",
      "File_date_and_time : 18-Sep-2015 18:32:14\n",
      "File_file_name : SP128_NSO\n",
      "File_file_path : C:\\Users\\Asylum User\\Documents\\Users\\Agar\\SP128_NSO\\\n",
      "File_file_suffix : 99\n",
      "IO_AO_amplifier : 10\n",
      "IO_AO_range_[V] : +/- 10\n",
      "IO_Analog_Input_1 : +/- .1V, FFT\n",
      "IO_Analog_Input_2 : off\n",
      "IO_Analog_Input_3 : off\n",
      "IO_Analog_Input_4 : off\n",
      "IO_DAQ_platform : NI 6115\n",
      "IO_rate_[Hz] : 4000000\n",
      "VS_amplitude_[V] : 16\n",
      "VS_cycle_fraction : full\n",
      "VS_cycle_phase_shift : 0\n",
      "VS_measure_in_field_loops : in and out-of-field\n",
      "VS_mode : DC modulation mode\n",
      "VS_number_of_cycles : 2\n",
      "VS_offset_[V] : 0\n",
      "VS_read_voltage_[V] : 0\n",
      "VS_set_pulse_amplitude[V] : 0\n",
      "VS_set_pulse_duration[s] : 0.002\n",
      "VS_step_edge_smoothing_[s] : 0.001\n",
      "VS_steps_per_full_cycle : 96\n",
      "data_type : BEPSData\n",
      "grid_/single : grid\n",
      "grid_contact_set_point_[V] : 1\n",
      "grid_current_col : 1\n",
      "grid_current_row : 1\n",
      "grid_cycle_time_[s] : 10\n",
      "grid_measuring : 0\n",
      "grid_moving : 0\n",
      "grid_num_cols : 60\n",
      "grid_num_rows : 60\n",
      "grid_settle_time_[s] : 0.15\n",
      "grid_time_remaining_[h;m;s] : 10\n",
      "grid_total_time_[h;m;s] : 10\n",
      "grid_transit_set_point_[V] : 0.1\n",
      "grid_transit_time_[s] : 0.15\n",
      "num_bins : 165\n",
      "num_pix : 3600\n",
      "num_udvs_steps : 384\n"
     ]
    }
   ],
   "source": [
    "print('Datasets and datagroups within the file:\\n------------------------------------')\n",
    "sidpy.hdf.hdf_utils.print_tree(h5_file)\n",
    "\n",
    "print('\\nThe main dataset:\\n------------------------------------')\n",
    "print(h5_main)\n",
    "\n",
    "print('\\nMetadata or attributes in the measurement datagroup\\n------------------------------------')\n",
    "for key, val in sidpy.hdf.hdf_utils.get_attributes(h5_main.parent.parent).items():\n",
    "    print('{} : {}'.format(key, val))"
   ]
  },
  {
   "cell_type": "code",
   "execution_count": 12,
   "metadata": {},
   "outputs": [
    {
     "name": "stdout",
     "output_type": "stream",
     "text": [
      "No spectroscopic datasets found as attributes of /Measurement_000/Channel_000/Position_Indices\n",
      "No position datasets found as attributes of /Measurement_000/Raw_Data-SHO_Fit_000/Spectroscopic_Values\n"
     ]
    }
   ],
   "source": [
    "# instantiate the dataset object\n",
    "dataset = BE_Dataset(h5_path, SHO_fit_func_LSQF=SHO_fit_func_nn)\n"
   ]
  },
  {
   "cell_type": "code",
   "execution_count": 13,
   "metadata": {},
   "outputs": [
    {
     "name": "stdout",
     "output_type": "stream",
     "text": [
      "/\n",
      "├ Measurement_000\n",
      "  ---------------\n",
      "  ├ Channel_000\n",
      "    -----------\n",
      "    ├ Bin_FFT\n",
      "    ├ Bin_Frequencies\n",
      "    ├ Bin_Indices\n",
      "    ├ Bin_Step\n",
      "    ├ Bin_Wfm_Type\n",
      "    ├ Excitation_Waveform\n",
      "    ├ Noise_Floor\n",
      "    ├ Noisy_Data_1\n",
      "    ├ Noisy_Data_2\n",
      "    ├ Noisy_Data_3\n",
      "    ├ Noisy_Data_4\n",
      "    ├ Noisy_Data_5\n",
      "    ├ Noisy_Data_6\n",
      "    ├ Noisy_Data_7\n",
      "    ├ Noisy_Data_8\n",
      "    ├ Position_Indices\n",
      "    ├ Position_Values\n",
      "    ├ Raw_Data\n",
      "    ├ Spatially_Averaged_Plot_Group_000\n",
      "      ---------------------------------\n",
      "      ├ Bin_Frequencies\n",
      "      ├ Max_Response\n",
      "      ├ Mean_Spectrogram\n",
      "      ├ Min_Response\n",
      "      ├ Spectroscopic_Parameter\n",
      "      ├ Step_Averaged_Response\n",
      "    ├ Spatially_Averaged_Plot_Group_001\n",
      "      ---------------------------------\n",
      "      ├ Bin_Frequencies\n",
      "      ├ Max_Response\n",
      "      ├ Mean_Spectrogram\n",
      "      ├ Min_Response\n",
      "      ├ Spectroscopic_Parameter\n",
      "      ├ Step_Averaged_Response\n",
      "    ├ Spectroscopic_Indices\n",
      "    ├ Spectroscopic_Values\n",
      "    ├ UDVS\n",
      "    ├ UDVS_Indices\n",
      "  ├ Raw_Data-SHO_Fit_000\n",
      "    --------------------\n",
      "    ├ Fit\n",
      "    ├ Fit-Loop_Fit_000\n",
      "      ----------------\n",
      "      ├ Fit\n",
      "      ├ Fit_Loop_Parameters\n",
      "      ├ Guess\n",
      "      ├ Guess_Loop_Parameters\n",
      "      ├ Loop_Metrics\n",
      "      ├ Loop_Metrics_Indices\n",
      "      ├ Loop_Metrics_Values\n",
      "      ├ Projected_Loops\n",
      "      ├ completed_fit_positions\n",
      "      ├ completed_guess_positions\n",
      "      ├ completed_positions\n",
      "    ├ Guess\n",
      "    ├ Spectroscopic_Indices\n",
      "    ├ Spectroscopic_Values\n",
      "    ├ completed_fit_positions\n",
      "    ├ completed_guess_positions\n",
      "    ├ completed_positions\n",
      "├ Noisy_Data_1_SHO_Fit\n",
      "  --------------------\n",
      "  ├ Noisy_Data_1-SHO_Fit_000\n",
      "    ------------------------\n",
      "    ├ Fit\n",
      "    ├ Guess\n",
      "    ├ Spectroscopic_Indices\n",
      "    ├ Spectroscopic_Values\n",
      "    ├ completed_fit_positions\n",
      "    ├ completed_guess_positions\n",
      "├ Noisy_Data_2_SHO_Fit\n",
      "  --------------------\n",
      "  ├ Noisy_Data_2-SHO_Fit_000\n",
      "    ------------------------\n",
      "    ├ Fit\n",
      "    ├ Guess\n",
      "    ├ Spectroscopic_Indices\n",
      "    ├ Spectroscopic_Values\n",
      "    ├ completed_fit_positions\n",
      "    ├ completed_guess_positions\n",
      "├ Noisy_Data_3_SHO_Fit\n",
      "  --------------------\n",
      "  ├ Noisy_Data_3-SHO_Fit_000\n",
      "    ------------------------\n",
      "    ├ Fit\n",
      "    ├ Guess\n",
      "    ├ Spectroscopic_Indices\n",
      "    ├ Spectroscopic_Values\n",
      "    ├ completed_fit_positions\n",
      "    ├ completed_guess_positions\n",
      "├ Noisy_Data_4_SHO_Fit\n",
      "  --------------------\n",
      "  ├ Noisy_Data_4-SHO_Fit_000\n",
      "    ------------------------\n",
      "    ├ Fit\n",
      "    ├ Guess\n",
      "    ├ Spectroscopic_Indices\n",
      "    ├ Spectroscopic_Values\n",
      "    ├ completed_fit_positions\n",
      "    ├ completed_guess_positions\n",
      "├ Noisy_Data_5_SHO_Fit\n",
      "  --------------------\n",
      "  ├ Noisy_Data_5-SHO_Fit_000\n",
      "    ------------------------\n",
      "    ├ Fit\n",
      "    ├ Guess\n",
      "    ├ Spectroscopic_Indices\n",
      "    ├ Spectroscopic_Values\n",
      "    ├ completed_fit_positions\n",
      "    ├ completed_guess_positions\n",
      "├ Noisy_Data_6_SHO_Fit\n",
      "  --------------------\n",
      "  ├ Noisy_Data_6-SHO_Fit_000\n",
      "    ------------------------\n",
      "    ├ Fit\n",
      "    ├ Guess\n",
      "    ├ Spectroscopic_Indices\n",
      "    ├ Spectroscopic_Values\n",
      "    ├ completed_fit_positions\n",
      "    ├ completed_guess_positions\n",
      "├ Noisy_Data_7_SHO_Fit\n",
      "  --------------------\n",
      "  ├ Noisy_Data_7-SHO_Fit_000\n",
      "    ------------------------\n",
      "    ├ Fit\n",
      "    ├ Guess\n",
      "    ├ Spectroscopic_Indices\n",
      "    ├ Spectroscopic_Values\n",
      "    ├ completed_fit_positions\n",
      "    ├ completed_guess_positions\n",
      "├ Noisy_Data_8_SHO_Fit\n",
      "  --------------------\n",
      "  ├ Noisy_Data_8-SHO_Fit_000\n",
      "    ------------------------\n",
      "    ├ Fit\n",
      "    ├ Guess\n",
      "    ├ Spectroscopic_Indices\n",
      "    ├ Spectroscopic_Values\n",
      "    ├ completed_fit_positions\n",
      "    ├ completed_guess_positions\n",
      "├ Raw_Data-SHO_Fit_000\n",
      "  --------------------\n",
      "  ├ Fit\n",
      "  ├ Guess\n",
      "  ├ Spectroscopic_Indices\n",
      "  ├ Spectroscopic_Values\n",
      "  ├ completed_fit_positions\n",
      "  ├ completed_guess_positions\n",
      "  ├ completed_positions\n",
      "├ Raw_Data_SHO_Fit\n",
      "  ----------------\n",
      "  ├ Raw_Data-SHO_Fit_000\n",
      "    --------------------\n",
      "    ├ Fit\n",
      "    ├ Guess\n",
      "    ├ Spectroscopic_Indices\n",
      "    ├ Spectroscopic_Values\n",
      "    ├ completed_fit_positions\n",
      "    ├ completed_guess_positions\n",
      "Datasets and datagroups within the file:\n",
      "------------------------------------\n",
      "/\n",
      "/Measurement_000\n",
      "/Measurement_000/Channel_000\n",
      "/Measurement_000/Channel_000/Bin_FFT\n",
      "/Measurement_000/Channel_000/Bin_Frequencies\n",
      "/Measurement_000/Channel_000/Bin_Indices\n",
      "/Measurement_000/Channel_000/Bin_Step\n",
      "/Measurement_000/Channel_000/Bin_Wfm_Type\n",
      "/Measurement_000/Channel_000/Excitation_Waveform\n",
      "/Measurement_000/Channel_000/Noise_Floor\n",
      "/Measurement_000/Channel_000/Noisy_Data_1\n",
      "/Measurement_000/Channel_000/Noisy_Data_2\n",
      "/Measurement_000/Channel_000/Noisy_Data_3\n",
      "/Measurement_000/Channel_000/Noisy_Data_4\n",
      "/Measurement_000/Channel_000/Noisy_Data_5\n",
      "/Measurement_000/Channel_000/Noisy_Data_6\n",
      "/Measurement_000/Channel_000/Noisy_Data_7\n",
      "/Measurement_000/Channel_000/Noisy_Data_8\n",
      "/Measurement_000/Channel_000/Position_Indices\n",
      "/Measurement_000/Channel_000/Position_Values\n",
      "/Measurement_000/Channel_000/Raw_Data\n",
      "/Measurement_000/Channel_000/Spatially_Averaged_Plot_Group_000\n",
      "/Measurement_000/Channel_000/Spatially_Averaged_Plot_Group_000/Bin_Frequencies\n",
      "/Measurement_000/Channel_000/Spatially_Averaged_Plot_Group_000/Max_Response\n",
      "/Measurement_000/Channel_000/Spatially_Averaged_Plot_Group_000/Mean_Spectrogram\n",
      "/Measurement_000/Channel_000/Spatially_Averaged_Plot_Group_000/Min_Response\n",
      "/Measurement_000/Channel_000/Spatially_Averaged_Plot_Group_000/Spectroscopic_Parameter\n",
      "/Measurement_000/Channel_000/Spatially_Averaged_Plot_Group_000/Step_Averaged_Response\n",
      "/Measurement_000/Channel_000/Spatially_Averaged_Plot_Group_001\n",
      "/Measurement_000/Channel_000/Spatially_Averaged_Plot_Group_001/Bin_Frequencies\n",
      "/Measurement_000/Channel_000/Spatially_Averaged_Plot_Group_001/Max_Response\n",
      "/Measurement_000/Channel_000/Spatially_Averaged_Plot_Group_001/Mean_Spectrogram\n",
      "/Measurement_000/Channel_000/Spatially_Averaged_Plot_Group_001/Min_Response\n",
      "/Measurement_000/Channel_000/Spatially_Averaged_Plot_Group_001/Spectroscopic_Parameter\n",
      "/Measurement_000/Channel_000/Spatially_Averaged_Plot_Group_001/Step_Averaged_Response\n",
      "/Measurement_000/Channel_000/Spectroscopic_Indices\n",
      "/Measurement_000/Channel_000/Spectroscopic_Values\n",
      "/Measurement_000/Channel_000/UDVS\n",
      "/Measurement_000/Channel_000/UDVS_Indices\n",
      "/Measurement_000/Raw_Data-SHO_Fit_000\n",
      "/Measurement_000/Raw_Data-SHO_Fit_000/Fit\n",
      "/Measurement_000/Raw_Data-SHO_Fit_000/Fit-Loop_Fit_000\n",
      "/Measurement_000/Raw_Data-SHO_Fit_000/Fit-Loop_Fit_000/Fit\n",
      "/Measurement_000/Raw_Data-SHO_Fit_000/Fit-Loop_Fit_000/Fit_Loop_Parameters\n",
      "/Measurement_000/Raw_Data-SHO_Fit_000/Fit-Loop_Fit_000/Guess\n",
      "/Measurement_000/Raw_Data-SHO_Fit_000/Fit-Loop_Fit_000/Guess_Loop_Parameters\n",
      "/Measurement_000/Raw_Data-SHO_Fit_000/Fit-Loop_Fit_000/Loop_Metrics\n",
      "/Measurement_000/Raw_Data-SHO_Fit_000/Fit-Loop_Fit_000/Loop_Metrics_Indices\n",
      "/Measurement_000/Raw_Data-SHO_Fit_000/Fit-Loop_Fit_000/Loop_Metrics_Values\n",
      "/Measurement_000/Raw_Data-SHO_Fit_000/Fit-Loop_Fit_000/Projected_Loops\n",
      "/Measurement_000/Raw_Data-SHO_Fit_000/Fit-Loop_Fit_000/completed_fit_positions\n",
      "/Measurement_000/Raw_Data-SHO_Fit_000/Fit-Loop_Fit_000/completed_guess_positions\n",
      "/Measurement_000/Raw_Data-SHO_Fit_000/Fit-Loop_Fit_000/completed_positions\n",
      "/Measurement_000/Raw_Data-SHO_Fit_000/Guess\n",
      "/Measurement_000/Raw_Data-SHO_Fit_000/Spectroscopic_Indices\n",
      "/Measurement_000/Raw_Data-SHO_Fit_000/Spectroscopic_Values\n",
      "/Measurement_000/Raw_Data-SHO_Fit_000/completed_fit_positions\n",
      "/Measurement_000/Raw_Data-SHO_Fit_000/completed_guess_positions\n",
      "/Measurement_000/Raw_Data-SHO_Fit_000/completed_positions\n",
      "/Noisy_Data_1_SHO_Fit\n",
      "/Noisy_Data_1_SHO_Fit/Noisy_Data_1-SHO_Fit_000\n",
      "/Noisy_Data_1_SHO_Fit/Noisy_Data_1-SHO_Fit_000/Fit\n",
      "/Noisy_Data_1_SHO_Fit/Noisy_Data_1-SHO_Fit_000/Guess\n",
      "/Noisy_Data_1_SHO_Fit/Noisy_Data_1-SHO_Fit_000/Spectroscopic_Indices\n",
      "/Noisy_Data_1_SHO_Fit/Noisy_Data_1-SHO_Fit_000/Spectroscopic_Values\n",
      "/Noisy_Data_1_SHO_Fit/Noisy_Data_1-SHO_Fit_000/completed_fit_positions\n",
      "/Noisy_Data_1_SHO_Fit/Noisy_Data_1-SHO_Fit_000/completed_guess_positions\n",
      "/Noisy_Data_2_SHO_Fit\n",
      "/Noisy_Data_2_SHO_Fit/Noisy_Data_2-SHO_Fit_000\n",
      "/Noisy_Data_2_SHO_Fit/Noisy_Data_2-SHO_Fit_000/Fit\n",
      "/Noisy_Data_2_SHO_Fit/Noisy_Data_2-SHO_Fit_000/Guess\n",
      "/Noisy_Data_2_SHO_Fit/Noisy_Data_2-SHO_Fit_000/Spectroscopic_Indices\n",
      "/Noisy_Data_2_SHO_Fit/Noisy_Data_2-SHO_Fit_000/Spectroscopic_Values\n",
      "/Noisy_Data_2_SHO_Fit/Noisy_Data_2-SHO_Fit_000/completed_fit_positions\n",
      "/Noisy_Data_2_SHO_Fit/Noisy_Data_2-SHO_Fit_000/completed_guess_positions\n",
      "/Noisy_Data_3_SHO_Fit\n",
      "/Noisy_Data_3_SHO_Fit/Noisy_Data_3-SHO_Fit_000\n",
      "/Noisy_Data_3_SHO_Fit/Noisy_Data_3-SHO_Fit_000/Fit\n",
      "/Noisy_Data_3_SHO_Fit/Noisy_Data_3-SHO_Fit_000/Guess\n",
      "/Noisy_Data_3_SHO_Fit/Noisy_Data_3-SHO_Fit_000/Spectroscopic_Indices\n",
      "/Noisy_Data_3_SHO_Fit/Noisy_Data_3-SHO_Fit_000/Spectroscopic_Values\n",
      "/Noisy_Data_3_SHO_Fit/Noisy_Data_3-SHO_Fit_000/completed_fit_positions\n",
      "/Noisy_Data_3_SHO_Fit/Noisy_Data_3-SHO_Fit_000/completed_guess_positions\n",
      "/Noisy_Data_4_SHO_Fit\n",
      "/Noisy_Data_4_SHO_Fit/Noisy_Data_4-SHO_Fit_000\n",
      "/Noisy_Data_4_SHO_Fit/Noisy_Data_4-SHO_Fit_000/Fit\n",
      "/Noisy_Data_4_SHO_Fit/Noisy_Data_4-SHO_Fit_000/Guess\n",
      "/Noisy_Data_4_SHO_Fit/Noisy_Data_4-SHO_Fit_000/Spectroscopic_Indices\n",
      "/Noisy_Data_4_SHO_Fit/Noisy_Data_4-SHO_Fit_000/Spectroscopic_Values\n",
      "/Noisy_Data_4_SHO_Fit/Noisy_Data_4-SHO_Fit_000/completed_fit_positions\n",
      "/Noisy_Data_4_SHO_Fit/Noisy_Data_4-SHO_Fit_000/completed_guess_positions\n",
      "/Noisy_Data_5_SHO_Fit\n",
      "/Noisy_Data_5_SHO_Fit/Noisy_Data_5-SHO_Fit_000\n",
      "/Noisy_Data_5_SHO_Fit/Noisy_Data_5-SHO_Fit_000/Fit\n",
      "/Noisy_Data_5_SHO_Fit/Noisy_Data_5-SHO_Fit_000/Guess\n",
      "/Noisy_Data_5_SHO_Fit/Noisy_Data_5-SHO_Fit_000/Spectroscopic_Indices\n",
      "/Noisy_Data_5_SHO_Fit/Noisy_Data_5-SHO_Fit_000/Spectroscopic_Values\n",
      "/Noisy_Data_5_SHO_Fit/Noisy_Data_5-SHO_Fit_000/completed_fit_positions\n",
      "/Noisy_Data_5_SHO_Fit/Noisy_Data_5-SHO_Fit_000/completed_guess_positions\n",
      "/Noisy_Data_6_SHO_Fit\n",
      "/Noisy_Data_6_SHO_Fit/Noisy_Data_6-SHO_Fit_000\n",
      "/Noisy_Data_6_SHO_Fit/Noisy_Data_6-SHO_Fit_000/Fit\n",
      "/Noisy_Data_6_SHO_Fit/Noisy_Data_6-SHO_Fit_000/Guess\n",
      "/Noisy_Data_6_SHO_Fit/Noisy_Data_6-SHO_Fit_000/Spectroscopic_Indices\n",
      "/Noisy_Data_6_SHO_Fit/Noisy_Data_6-SHO_Fit_000/Spectroscopic_Values\n",
      "/Noisy_Data_6_SHO_Fit/Noisy_Data_6-SHO_Fit_000/completed_fit_positions\n",
      "/Noisy_Data_6_SHO_Fit/Noisy_Data_6-SHO_Fit_000/completed_guess_positions\n",
      "/Noisy_Data_7_SHO_Fit\n",
      "/Noisy_Data_7_SHO_Fit/Noisy_Data_7-SHO_Fit_000\n",
      "/Noisy_Data_7_SHO_Fit/Noisy_Data_7-SHO_Fit_000/Fit\n",
      "/Noisy_Data_7_SHO_Fit/Noisy_Data_7-SHO_Fit_000/Guess\n",
      "/Noisy_Data_7_SHO_Fit/Noisy_Data_7-SHO_Fit_000/Spectroscopic_Indices\n",
      "/Noisy_Data_7_SHO_Fit/Noisy_Data_7-SHO_Fit_000/Spectroscopic_Values\n",
      "/Noisy_Data_7_SHO_Fit/Noisy_Data_7-SHO_Fit_000/completed_fit_positions\n",
      "/Noisy_Data_7_SHO_Fit/Noisy_Data_7-SHO_Fit_000/completed_guess_positions\n",
      "/Noisy_Data_8_SHO_Fit\n",
      "/Noisy_Data_8_SHO_Fit/Noisy_Data_8-SHO_Fit_000\n",
      "/Noisy_Data_8_SHO_Fit/Noisy_Data_8-SHO_Fit_000/Fit\n",
      "/Noisy_Data_8_SHO_Fit/Noisy_Data_8-SHO_Fit_000/Guess\n",
      "/Noisy_Data_8_SHO_Fit/Noisy_Data_8-SHO_Fit_000/Spectroscopic_Indices\n",
      "/Noisy_Data_8_SHO_Fit/Noisy_Data_8-SHO_Fit_000/Spectroscopic_Values\n",
      "/Noisy_Data_8_SHO_Fit/Noisy_Data_8-SHO_Fit_000/completed_fit_positions\n",
      "/Noisy_Data_8_SHO_Fit/Noisy_Data_8-SHO_Fit_000/completed_guess_positions\n",
      "/Raw_Data-SHO_Fit_000\n",
      "/Raw_Data-SHO_Fit_000/Fit\n",
      "/Raw_Data-SHO_Fit_000/Guess\n",
      "/Raw_Data-SHO_Fit_000/Spectroscopic_Indices\n",
      "/Raw_Data-SHO_Fit_000/Spectroscopic_Values\n",
      "/Raw_Data-SHO_Fit_000/completed_fit_positions\n",
      "/Raw_Data-SHO_Fit_000/completed_guess_positions\n",
      "/Raw_Data-SHO_Fit_000/completed_positions\n",
      "/Raw_Data_SHO_Fit\n",
      "/Raw_Data_SHO_Fit/Raw_Data-SHO_Fit_000\n",
      "/Raw_Data_SHO_Fit/Raw_Data-SHO_Fit_000/Fit\n",
      "/Raw_Data_SHO_Fit/Raw_Data-SHO_Fit_000/Guess\n",
      "/Raw_Data_SHO_Fit/Raw_Data-SHO_Fit_000/Spectroscopic_Indices\n",
      "/Raw_Data_SHO_Fit/Raw_Data-SHO_Fit_000/Spectroscopic_Values\n",
      "/Raw_Data_SHO_Fit/Raw_Data-SHO_Fit_000/completed_fit_positions\n",
      "/Raw_Data_SHO_Fit/Raw_Data-SHO_Fit_000/completed_guess_positions\n",
      "\n",
      "The main dataset:\n",
      "------------------------------------\n",
      "<HDF5 file \"data_raw_7_25 copy.h5\" (mode r+)>\n",
      "\n",
      "The ancillary datasets:\n",
      "------------------------------------\n",
      "<HDF5 dataset \"Position_Indices\": shape (3600, 2), type \"<u4\">\n",
      "<HDF5 dataset \"Position_Values\": shape (3600, 2), type \"<f4\">\n",
      "<HDF5 dataset \"Spectroscopic_Indices\": shape (4, 63360), type \"<u4\">\n",
      "<HDF5 dataset \"Spectroscopic_Values\": shape (4, 63360), type \"<f4\">\n",
      "\n",
      "Metadata or attributes in a datagroup\n",
      "------------------------------------\n",
      "BE_actual_duration_[s] : 0.004\n",
      "BE_amplitude_[V] : 1\n",
      "BE_auto_smoothing : auto smoothing on\n",
      "BE_band_edge_smoothing_[s] : 4832.1\n",
      "BE_band_edge_trim : 0.094742\n",
      "BE_band_width_[Hz] : 200000\n",
      "BE_bins_per_band : 0\n",
      "BE_center_frequency_[Hz] : 1310000\n",
      "BE_desired_duration_[s] : 0.004\n",
      "BE_phase_content : chirp-sinc hybrid\n",
      "BE_phase_variation : 1\n",
      "BE_points_per_BE_wave : 0\n",
      "BE_repeats : 4\n",
      "FORC_V_high1_[V] : 1\n",
      "FORC_V_high2_[V] : 10\n",
      "FORC_V_low1_[V] : -1\n",
      "FORC_V_low2_[V] : -10\n",
      "FORC_num_of_FORC_cycles : 1\n",
      "FORC_num_of_FORC_repeats : 1\n",
      "File_MDAQ_version : MDAQ_VS_090915_01\n",
      "File_date_and_time : 18-Sep-2015 18:32:14\n",
      "File_file_name : SP128_NSO\n",
      "File_file_path : C:\\Users\\Asylum User\\Documents\\Users\\Agar\\SP128_NSO\\\n",
      "File_file_suffix : 99\n",
      "IO_AO_amplifier : 10\n",
      "IO_AO_range_[V] : +/- 10\n",
      "IO_Analog_Input_1 : +/- .1V, FFT\n",
      "IO_Analog_Input_2 : off\n",
      "IO_Analog_Input_3 : off\n",
      "IO_Analog_Input_4 : off\n",
      "IO_DAQ_platform : NI 6115\n",
      "IO_rate_[Hz] : 4000000\n",
      "VS_amplitude_[V] : 16\n",
      "VS_cycle_fraction : full\n",
      "VS_cycle_phase_shift : 0\n",
      "VS_measure_in_field_loops : in and out-of-field\n",
      "VS_mode : DC modulation mode\n",
      "VS_number_of_cycles : 2\n",
      "VS_offset_[V] : 0\n",
      "VS_read_voltage_[V] : 0\n",
      "VS_set_pulse_amplitude[V] : 0\n",
      "VS_set_pulse_duration[s] : 0.002\n",
      "VS_step_edge_smoothing_[s] : 0.001\n",
      "VS_steps_per_full_cycle : 96\n",
      "data_type : BEPSData\n",
      "grid_/single : grid\n",
      "grid_contact_set_point_[V] : 1\n",
      "grid_current_col : 1\n",
      "grid_current_row : 1\n",
      "grid_cycle_time_[s] : 10\n",
      "grid_measuring : 0\n",
      "grid_moving : 0\n",
      "grid_num_cols : 60\n",
      "grid_num_rows : 60\n",
      "grid_settle_time_[s] : 0.15\n",
      "grid_time_remaining_[h;m;s] : 10\n",
      "grid_total_time_[h;m;s] : 10\n",
      "grid_transit_set_point_[V] : 0.1\n",
      "grid_transit_time_[s] : 0.15\n",
      "num_bins : 165\n",
      "num_pix : 3600\n",
      "num_udvs_steps : 384\n"
     ]
    }
   ],
   "source": [
    "# print the contents of the file\n",
    "dataset.print_be_tree()"
   ]
  },
  {
   "cell_type": "code",
   "execution_count": 172,
   "metadata": {},
   "outputs": [
    {
     "name": "stdout",
     "output_type": "stream",
     "text": [
      "Consider calling test() to check results before calling compute() which computes on the entire dataset and writes results to the HDF5 file\n",
      "\n",
      "Note: SHO_Fit has already been performed with the same parameters before. These results will be returned by compute() by default. Set override to True to force fresh computation\n",
      "\n",
      "[<HDF5 group \"/Measurement_000/Raw_Data-SHO_Fit_000\" (8 members)>]\n",
      "\n",
      "Note: SHO_Fit has already been performed with the same parameters before. These results will be returned by compute() by default. Set override to True to force fresh computation\n",
      "\n",
      "[<HDF5 group \"/Measurement_000/Raw_Data-SHO_Fit_000\" (8 members)>]\n",
      "Returned previously computed results at /Measurement_000/Raw_Data-SHO_Fit_000\n",
      "\n",
      "Note: SHO_Fit has already been performed with the same parameters before. These results will be returned by compute() by default. Set override to True to force fresh computation\n",
      "\n",
      "[<HDF5 group \"/Measurement_000/Raw_Data-SHO_Fit_000\" (8 members)>]\n",
      "Returned previously computed results at /Measurement_000/Raw_Data-SHO_Fit_000\n",
      "Working on:\n",
      "./Data//data_raw_7_25 copy.h5\n",
      "['Y', 'X'] [60, 60]\n",
      "\n",
      "\n",
      "SHO Fits will be written to:\n",
      "./Data/data_raw_7_25 copy.h5\n",
      "\n",
      "\n",
      "Consider calling test() to check results before calling compute() which computes on the entire dataset and writes results to the HDF5 file\n",
      "Group: <HDF5 group \"/Raw_Data_SHO_Fit\" (1 members)> had neither the status HDF5 dataset or the legacy attribute: \"last_pixel\".\n",
      "\n",
      "Note: SHO_Fit has already been performed with the same parameters before. These results will be returned by compute() by default. Set override to True to force fresh computation\n",
      "\n",
      "[<HDF5 group \"/Raw_Data-SHO_Fit_000\" (7 members)>]\n",
      "\n",
      "Note: SHO_Fit has already been performed with the same parameters before. These results will be returned by compute() by default. Set override to True to force fresh computation\n",
      "\n",
      "[<HDF5 group \"/Raw_Data-SHO_Fit_000\" (7 members)>]\n",
      "Returned previously computed results at /Raw_Data-SHO_Fit_000\n",
      "\n",
      "Note: SHO_Fit has already been performed with the same parameters before. These results will be returned by compute() by default. Set override to True to force fresh computation\n",
      "\n",
      "[<HDF5 group \"/Raw_Data-SHO_Fit_000\" (7 members)>]\n",
      "Returned previously computed results at /Raw_Data-SHO_Fit_000\n",
      "LSQF method took 1.6681103706359863 seconds to compute parameters\n",
      "Consider calling test() to check results before calling compute() which computes on the entire dataset and writes results to the HDF5 file\n",
      "\n",
      "Note: Loop_Fit has already been performed with the same parameters before. These results will be returned by compute() by default. Set override to True to force fresh computation\n",
      "\n",
      "[<HDF5 group \"/Measurement_000/Raw_Data-SHO_Fit_000/Fit-Loop_Fit_000\" (11 members)>]\n",
      "\n",
      "Note: Loop_Fit has already been performed with the same parameters before. These results will be returned by compute() by default. Set override to True to force fresh computation\n",
      "\n",
      "[<HDF5 group \"/Measurement_000/Raw_Data-SHO_Fit_000/Fit-Loop_Fit_000\" (11 members)>]\n",
      "\tThis class (likely) supports interruption and resuming of computations!\n",
      "\tIf you are operating in a python console, press Ctrl+C or Cmd+C to abort\n",
      "\tIf you are in a Jupyter notebook, click on \"Kernel\">>\"Interrupt\"\n",
      "\tIf you are operating on a cluster and your job gets killed, re-run the job to resume\n",
      "\n"
     ]
    },
    {
     "name": "stderr",
     "output_type": "stream",
     "text": [
      "/home/ferroelectric/anaconda3/envs/paper/lib/python3.11/site-packages/sklearn/cluster/_kmeans.py:870: FutureWarning: The default value of `n_init` will change from 10 to 'auto' in 1.4. Set the value of `n_init` explicitly to suppress the warning\n",
      "  warnings.warn(\n"
     ]
    },
    {
     "name": "stdout",
     "output_type": "stream",
     "text": [
      "Rank 0 - 100% complete. Time remaining: 0.0 msec\n",
      "Finished processing the entire dataset!\n",
      "\n",
      "Note: Loop_Fit has already been performed with the same parameters before. These results will be returned by compute() by default. Set override to True to force fresh computation\n",
      "\n",
      "[<HDF5 group \"/Measurement_000/Raw_Data-SHO_Fit_000/Fit-Loop_Fit_000\" (11 members)>]\n",
      "Resuming computation. 0% completed already\n",
      "\tThis class (likely) supports interruption and resuming of computations!\n",
      "\tIf you are operating in a python console, press Ctrl+C or Cmd+C to abort\n",
      "\tIf you are in a Jupyter notebook, click on \"Kernel\">>\"Interrupt\"\n",
      "\tIf you are operating on a cluster and your job gets killed, re-run the job to resume\n",
      "\n"
     ]
    },
    {
     "name": "stderr",
     "output_type": "stream",
     "text": [
      "/home/ferroelectric/anaconda3/envs/paper/lib/python3.11/site-packages/BGlib/be/analysis/fitter.py:140: UserWarning: status dataset not created yet\n",
      "  warn('status dataset not created yet')\n",
      "/home/ferroelectric/anaconda3/envs/paper/lib/python3.11/site-packages/BGlib/be/analysis/utils/be_loop.py:497: RuntimeWarning: invalid value encountered in divide\n",
      "  nuc_v01a = bnv[2] * erfinv((nuc_threshold * bnv[2] + nuc_threshold * bnv[3] - bnv[2]) / bnv[2]) + anv[3]\n",
      "/home/ferroelectric/anaconda3/envs/paper/lib/python3.11/site-packages/BGlib/be/analysis/utils/be_loop.py:498: RuntimeWarning: invalid value encountered in divide\n",
      "  nuc_v01b = bnv[3] * erfinv((nuc_threshold * bnv[2] + nuc_threshold * bnv[3] - bnv[2]) / bnv[3]) + anv[3]\n",
      "/home/ferroelectric/anaconda3/envs/paper/lib/python3.11/site-packages/BGlib/be/analysis/utils/be_loop.py:503: RuntimeWarning: invalid value encountered in divide\n",
      "  nuc_v02a = bnv[0] * erfinv(((1 - nuc_threshold) * bnv[0] + (1 - nuc_threshold) * bnv[1] - bnv[0]) / bnv[0]) + anv[2]\n",
      "/home/ferroelectric/anaconda3/envs/paper/lib/python3.11/site-packages/BGlib/be/analysis/utils/be_loop.py:504: RuntimeWarning: invalid value encountered in divide\n",
      "  nuc_v02b = bnv[1] * erfinv(((1 - nuc_threshold) * bnv[0] + (1 - nuc_threshold) * bnv[1] - bnv[0]) / bnv[1]) + anv[2]\n"
     ]
    },
    {
     "name": "stdout",
     "output_type": "stream",
     "text": [
      "Rank 0 - 100% complete. Time remaining: 0.0 msec\n",
      "Finished processing the entire dataset!\n"
     ]
    },
    {
     "name": "stderr",
     "output_type": "stream",
     "text": [
      "/home/ferroelectric/anaconda3/envs/paper/lib/python3.11/site-packages/pyUSID/io/hdf_utils/simple.py:888: UserWarning: A dataset named: Fit_Loop_Parameters already exists in group: /Measurement_000/Raw_Data-SHO_Fit_000/Fit-Loop_Fit_001\n",
      "  warn('A dataset named: {} already exists in group: {}'.format(dset_name, h5_group.name))\n"
     ]
    }
   ],
   "source": [
    "h5_loop_fit, h5_loop_group = dataset.LSQF_Loop_Fit(force=True, max_cores=20)"
   ]
  },
  {
   "cell_type": "code",
   "execution_count": 15,
   "metadata": {},
   "outputs": [
    {
     "name": "stdout",
     "output_type": "stream",
     "text": [
      "No spectroscopic datasets found as attributes of /Measurement_000/Channel_000/Position_Indices\n",
      "No position datasets found as attributes of /Measurement_000/Raw_Data-SHO_Fit_000/Spectroscopic_Values\n"
     ]
    }
   ],
   "source": [
    "data_path = save_path + '/' + filename\n",
    "\n",
    "dataset = BE_Dataset(data_path, SHO_fit_func_LSQF=SHO_fit_func_nn)\n",
    "\n",
    "# instantiate the visualization object\n",
    "image_scalebar = [2000, 500, \"nm\", \"br\"]\n",
    "\n",
    "\n",
    "BE_viz = Viz(dataset, printing, verbose=True, \n",
    "             SHO_ranges = [(0,1.5e-4), (1.31e6, 1.33e6), (-300, 300), (-np.pi, np.pi)], \n",
    "             image_scalebar = image_scalebar)"
   ]
  },
  {
   "cell_type": "code",
   "execution_count": null,
   "metadata": {},
   "outputs": [],
   "source": []
  },
  {
   "cell_type": "code",
   "execution_count": 75,
   "metadata": {},
   "outputs": [
    {
     "ename": "AttributeError",
     "evalue": "'Viz' object has no attribute 'hysteresis_comparison'",
     "output_type": "error",
     "traceback": [
      "\u001b[0;31m---------------------------------------------------------------------------\u001b[0m",
      "\u001b[0;31mAttributeError\u001b[0m                            Traceback (most recent call last)",
      "Cell \u001b[0;32mIn[75], line 1\u001b[0m\n\u001b[0;32m----> 1\u001b[0m \u001b[43mBE_viz\u001b[49m\u001b[38;5;241;43m.\u001b[39;49m\u001b[43mhysteresis_comparison\u001b[49m(data \u001b[38;5;241m=\u001b[39m [\u001b[38;5;124m'\u001b[39m\u001b[38;5;124mLSQF\u001b[39m\u001b[38;5;124m'\u001b[39m])\n",
      "\u001b[0;31mAttributeError\u001b[0m: 'Viz' object has no attribute 'hysteresis_comparison'"
     ]
    }
   ],
   "source": [
    "BE_viz.hysteresis_comparison(data = ['LSQF'])"
   ]
  },
  {
   "cell_type": "markdown",
   "metadata": {},
   "source": [
    "## Neural Network Fits"
   ]
  },
  {
   "cell_type": "code",
   "execution_count": 16,
   "metadata": {
    "scrolled": true
   },
   "outputs": [
    {
     "name": "stdout",
     "output_type": "stream",
     "text": [
      "No spectroscopic datasets found as attributes of /Measurement_000/Channel_000/Position_Indices\n",
      "No position datasets found as attributes of /Measurement_000/Raw_Data-SHO_Fit_000/Spectroscopic_Values\n",
      "Using GPU NVIDIA GeForce RTX 3090\n"
     ]
    }
   ],
   "source": [
    "from m3_learning.be.loop_fitter import loop_fitting_function_torch\n",
    "from m3_learning.optimizers.TrustRegion import TRCG\n",
    "import torch.optim as optim\n",
    "from sklearn.model_selection import train_test_split\n",
    "\n",
    "\n",
    "data, voltage = dataset.get_hysteresis(scaled=True, loop_interpolated = True)\n",
    "\n",
    "\n",
    "model_ = Multiscale1DFitter(loop_fitting_function_torch, # function \n",
    "                            voltage[:,0].squeeze(), # x data\n",
    "                            1, # input channels\n",
    "                            9, # output parameters\n",
    "                            dataset.loop_param_scaler,\n",
    "                            loops_scaler=dataset.hysteresis_scaler)\n",
    "\n",
    "# instantiate the model\n",
    "model = Model(model_, \n",
    "              dataset,\n",
    "              path='Trained Models/Hysteresis Fitter/', \n",
    "              training=True, \n",
    "              model_basename=\"Hysteresis_Loop_Fitter\")\n",
    "\n",
    "X_train, X_test = train_test_split(data.reshape(-1,96), test_size=0.2, random_state=42, shuffle=True)\n",
    "X_train = np.atleast_3d(X_train)\n",
    "\n",
    "optimizer = {\n",
    "    \"name\": \"TRCG\", \n",
    "    \"optimizer\": TRCG,\n",
    "    \"closure_size\": 1,\n",
    "    \"cgopttol\": 1e-3,\n",
    "    \"c0tr\": 0.2,\n",
    "    \"c1tr\": 0.25,\n",
    "    \"c2tr\": 0.75,\n",
    "    \"t1tr\": 0.75,\n",
    "    \"t2tr\": 2.0,\n",
    "    \"radius_max\": 5.0,  \n",
    "    \"radius_initial\": 1.0,\n",
    "    \"radius\" : 1.0,\n",
    "    \"device\": \"cuda\",\n",
    "    \"ADAM_epochs\": 500}\n",
    "\n",
    "\n",
    "train = False\n",
    "\n",
    "if train:\n",
    "    # fits the model\n",
    "    model.fit(\n",
    "        X_train,\n",
    "        1024,\n",
    "        optimizer=optimizer,\n",
    "        epochs = 600,\n",
    "    )\n",
    "else:\n",
    "    model.load(\n",
    "        \"/home/ferroelectric/Documents/m3_learning/m3_learning/papers/2023_Rapid_Fitting/Trained Models/Hysteresis Fitter/Hysteresis_Loop_Fitter_model_optimizer_Trust Region CG_epoch_599_train_loss_0.006924134410089917.pth\"\n",
    "    )"
   ]
  },
  {
   "cell_type": "code",
   "execution_count": 17,
   "metadata": {},
   "outputs": [],
   "source": [
    "# model.training = False"
   ]
  },
  {
   "cell_type": "code",
   "execution_count": 18,
   "metadata": {},
   "outputs": [],
   "source": [
    " # predictions, params_scaled, params = model.predict(\n",
    " #        torch.Tensor(X_train), is_SHO=False)"
   ]
  },
  {
   "cell_type": "code",
   "execution_count": 19,
   "metadata": {},
   "outputs": [],
   "source": [
    "# loop = loop_fitting_function_torch(params, voltage[:,0].squeeze()).to(\n",
    "#     'cpu').detach().numpy().squeeze()"
   ]
  },
  {
   "cell_type": "markdown",
   "metadata": {},
   "source": [
    "### Evaluate the Neural Network Results"
   ]
  },
  {
   "cell_type": "code",
   "execution_count": 21,
   "metadata": {},
   "outputs": [],
   "source": [
    "# self = BE_viz\n",
    "# BE_viz.dataset.output_shape = 'pixel'\n",
    "\n",
    "# data, voltage = dataset.get_hysteresis(scaled=True, loop_interpolated = True)\n",
    "# data = torch.atleast_3d(torch.tensor(data.reshape(-1,96)))\n",
    "\n",
    "\n",
    "# d1, d2, x1, x2, index1, mse1, _ = self.get_best_median_worst_hysteresis(\n",
    "#                 data,\n",
    "#                 prediction=model,\n",
    "#                 n=1,\n",
    "#             )\n",
    "\n",
    "\n",
    "# parms = self.dataset.LSQF_hysteresis_params().reshape(-1,9)\n",
    "\n",
    "# LSQF_loop = loop_fitting_function_torch(parms, voltage[:, 0].squeeze()).to(\n",
    "#                     'cpu').detach().numpy().squeeze()\n",
    "\n",
    "# unscaled_true = self.dataset.hystersis_scaler.inverse_transform(d1)\n",
    "# unscaled_predicted = self.dataset.hystersis_scaler.inverse_transform(d2)"
   ]
  },
  {
   "cell_type": "code",
   "execution_count": 22,
   "metadata": {},
   "outputs": [],
   "source": [
    "# plt.plot(voltage, unscaled_true[0])\n",
    "# plt.plot(voltage, unscaled_predicted[0])\n",
    "# plt.plot(voltage, LSQF_loop[index1[0]], 'k--')"
   ]
  },
  {
   "cell_type": "code",
   "execution_count": null,
   "metadata": {},
   "outputs": [],
   "source": []
  },
  {
   "cell_type": "code",
   "execution_count": null,
   "metadata": {},
   "outputs": [],
   "source": []
  },
  {
   "cell_type": "code",
   "execution_count": null,
   "metadata": {},
   "outputs": [],
   "source": []
  },
  {
   "cell_type": "code",
   "execution_count": 139,
   "metadata": {},
   "outputs": [
    {
     "data": {
      "text/plain": [
       "torch.Size([14400, 96, 1])"
      ]
     },
     "execution_count": 139,
     "metadata": {},
     "output_type": "execute_result"
    }
   ],
   "source": [
    "data.shape"
   ]
  },
  {
   "cell_type": "code",
   "execution_count": 138,
   "metadata": {},
   "outputs": [
    {
     "data": {
      "text/plain": [
       "array([ 7467, 10109,  8714])"
      ]
     },
     "execution_count": 138,
     "metadata": {},
     "output_type": "execute_result"
    }
   ],
   "source": [
    "index1"
   ]
  },
  {
   "cell_type": "code",
   "execution_count": 137,
   "metadata": {},
   "outputs": [
    {
     "name": "stderr",
     "output_type": "stream",
     "text": [
      "/home/ferroelectric/Documents/m3_learning/m3_learning/papers/2023_Rapid_Fitting/../../src/m3_learning/be/viz.py:1034: UserWarning: To copy construct from a tensor, it is recommended to use sourceTensor.clone().detach() or sourceTensor.clone().detach().requires_grad_(True), rather than torch.tensor(sourceTensor).\n",
      "  data = torch.tensor(true).float()\n"
     ]
    },
    {
     "name": "stdout",
     "output_type": "stream",
     "text": [
      "./Figures/Figure_X_NN_validation_Train.png\n",
      "./Figures/Figure_X_NN_validation_Train.svg\n"
     ]
    },
    {
     "data": {
      "image/png": "[encoded data removed]",
      "text/plain": [
       "<Figure size 615x158 with 3 Axes>"
      ]
     },
     "metadata": {},
     "output_type": "display_data"
    }
   ],
   "source": [
    "data = torch.atleast_3d(torch.tensor(data.reshape(-1,96)))\n",
    "\n",
    "d1, d2, index1, mse1 = BE_viz.bmw_nn(\n",
    "    data,\n",
    "    prediction=model,\n",
    "    returns=True,\n",
    "    fit_type=\"hysteresis\",\n",
    "    filename=\"Figure_X_NN_validation_Train\",\n",
    ")"
   ]
  },
  {
   "cell_type": "code",
   "execution_count": 30,
   "metadata": {},
   "outputs": [
    {
     "name": "stderr",
     "output_type": "stream",
     "text": [
      "/tmp/ipykernel_5374/2178913270.py:1: UserWarning: To copy construct from a tensor, it is recommended to use sourceTensor.clone().detach() or sourceTensor.clone().detach().requires_grad_(True), rather than torch.tensor(sourceTensor).\n",
      "  X_train = torch.atleast_3d(torch.tensor(X_train))\n",
      "/home/ferroelectric/Documents/m3_learning/m3_learning/papers/2023_Rapid_Fitting/../../src/m3_learning/be/viz.py:1034: UserWarning: To copy construct from a tensor, it is recommended to use sourceTensor.clone().detach() or sourceTensor.clone().detach().requires_grad_(True), rather than torch.tensor(sourceTensor).\n",
      "  data = torch.tensor(true).float()\n"
     ]
    },
    {
     "name": "stdout",
     "output_type": "stream",
     "text": [
      "./Figures/Figure_X_NN_validation_Train.png\n",
      "./Figures/Figure_X_NN_validation_Train.svg\n"
     ]
    },
    {
     "data": {
      "image/png": "[encoded data removed]",
      "text/plain": [
       "<Figure size 615x158 with 3 Axes>"
      ]
     },
     "metadata": {},
     "output_type": "display_data"
    }
   ],
   "source": [
    "X_train = torch.atleast_3d(torch.tensor(X_train))\n",
    "\n",
    "d1, d2, index1, mse1 = BE_viz.bmw_nn(\n",
    "    X_train,\n",
    "    prediction=model,\n",
    "    returns=True,\n",
    "    fit_type=\"hysteresis\",\n",
    "    filename=\"Figure_X_NN_validation_Train\",\n",
    ")"
   ]
  },
  {
   "cell_type": "code",
   "execution_count": 216,
   "metadata": {},
   "outputs": [
    {
     "name": "stderr",
     "output_type": "stream",
     "text": [
      "/tmp/ipykernel_5374/3312807486.py:1: UserWarning: To copy construct from a tensor, it is recommended to use sourceTensor.clone().detach() or sourceTensor.clone().detach().requires_grad_(True), rather than torch.tensor(sourceTensor).\n",
      "  X_test = torch.atleast_3d(torch.tensor(X_test))\n",
      "/home/ferroelectric/Documents/m3_learning/m3_learning/papers/2023_Rapid_Fitting/../../src/m3_learning/be/viz.py:1034: UserWarning: To copy construct from a tensor, it is recommended to use sourceTensor.clone().detach() or sourceTensor.clone().detach().requires_grad_(True), rather than torch.tensor(sourceTensor).\n",
      "  data = torch.tensor(true).float()\n"
     ]
    },
    {
     "name": "stdout",
     "output_type": "stream",
     "text": [
      "./Figures/Figure_X_NN_validation_Test.png\n",
      "./Figures/Figure_X_NN_validation_Test.svg\n",
      "[1522  853 1005]\n"
     ]
    },
    {
     "data": {
      "image/png": "[encoded data removed]",
      "text/plain": [
       "<Figure size 615x158 with 3 Axes>"
      ]
     },
     "metadata": {},
     "output_type": "display_data"
    }
   ],
   "source": [
    "X_test = torch.atleast_3d(torch.tensor(X_test))\n",
    "\n",
    "d1, d2, index1, mse1 = BE_viz.bmw_nn(\n",
    "    X_test,\n",
    "    prediction=model,\n",
    "    returns=True,\n",
    "    fit_type=\"hysteresis\",\n",
    "    filename=\"Figure_X_NN_validation_Test\",\n",
    ")\n"
   ]
  },
  {
   "cell_type": "markdown",
   "metadata": {},
   "source": [
    "### Calculate the MSE"
   ]
  },
  {
   "cell_type": "code",
   "execution_count": 32,
   "metadata": {},
   "outputs": [
    {
     "name": "stdout",
     "output_type": "stream",
     "text": [
      "Full Data Mean Squared Error: 0.0069\n",
      "Test Data Mean Squared Error: 0.0066\n",
      "Train Data Mean Squared Error: 0.0070\n"
     ]
    }
   ],
   "source": [
    "data_ = (torch.atleast_3d(torch.tensor(data.reshape(-1, 96))), X_test, X_train)\n",
    "labels = [\"Full Data\", \"Test Data\", \"Train Data\"]\n",
    "\n",
    "model.print_mse(data_, labels, is_SHO=False)"
   ]
  },
  {
   "cell_type": "markdown",
   "metadata": {},
   "source": [
    "## Comparison of LSQF and Neural Network Fits\n",
    "\n",
    "3 graphs, best, median, worst\n",
    "\n",
    "histograms of parameters.\n"
   ]
  },
  {
   "cell_type": "code",
   "execution_count": null,
   "metadata": {},
   "outputs": [],
   "source": [
    "data_raw, voltage = BE_viz.dataset.get_hysteresis(\n",
    "            scaled=True, loop_interpolated=True)\n",
    "\n",
    "d1, d2, v1, v2, index1, mse1, params = BE_viz.get_best_median_worst_hysteresis(\n",
    "            torch.atleast_3d(torch.tensor(data_raw.reshape(-1, 96))),\n",
    "            prediction=model,\n",
    "            n=1\n",
    "            )"
   ]
  },
  {
   "cell_type": "code",
   "execution_count": 223,
   "metadata": {},
   "outputs": [],
   "source": [
    " pred_data, scaled_params, params_nn = nn_model.predict(\n",
    "            data.float(), translate_params=False, is_SHO=False)"
   ]
  },
  {
   "cell_type": "code",
   "execution_count": null,
   "metadata": {},
   "outputs": [],
   "source": []
  },
  {
   "cell_type": "code",
   "execution_count": 33,
   "metadata": {},
   "outputs": [],
   "source": [
    "def get_hysteresis_from_index(self, idx, nn_model):\n",
    "    data, voltage = dataset.get_hysteresis(scaled=True, loop_interpolated = True)\n",
    "    raw_hysteresis_loop, voltage = dataset.get_hysteresis(scaled=False, loop_interpolated = True)\n",
    "\n",
    "    raw_hysteresis_loop = torch.atleast_3d(torch.tensor(raw_hysteresis_loop.reshape(-1,96)))[idx]\n",
    "    data = torch.atleast_3d(torch.tensor(data.reshape(-1,96))).float()\n",
    "    \n",
    "    parms_LSQF = self.dataset.LSQF_hysteresis_params().reshape(-1,9)\n",
    "\n",
    "    LSQF_loop = loop_fitting_function_torch(parms_LSQF, voltage[:, 0].squeeze()).to(\n",
    "                        'cpu').detach().numpy().squeeze()\n",
    "    \n",
    "    LSQF_loop = LSQF_loop[idx]\n",
    "    \n",
    "    pred_data, scaled_params, params_nn = nn_model.predict(\n",
    "            data, translate_params=False, is_SHO=False)\n",
    "    \n",
    "    NN_loop = pred_data\n",
    "    \n",
    "    NN_loop = NN_loop[idx]\n",
    "    \n",
    "    return raw_hysteresis_loop, LSQF_loop, NN_loop\n",
    "    "
   ]
  },
  {
   "cell_type": "code",
   "execution_count": 142,
   "metadata": {},
   "outputs": [
    {
     "name": "stdout",
     "output_type": "stream",
     "text": [
      "No spectroscopic datasets found as attributes of /Measurement_000/Channel_000/Position_Indices\n",
      "No position datasets found as attributes of /Measurement_000/Raw_Data-SHO_Fit_000/Spectroscopic_Values\n",
      "No spectroscopic datasets found as attributes of /Measurement_000/Channel_000/Position_Indices\n",
      "No position datasets found as attributes of /Measurement_000/Raw_Data-SHO_Fit_000/Spectroscopic_Values\n"
     ]
    }
   ],
   "source": [
    "# raw_hysteresis_loop, voltage = self.dataset.get_hysteresis(\n",
    "#             loop_interpolated=True, plotting_values=True)\n",
    "\n",
    "# parms = BE_viz.dataset.LSQF_hysteresis_params().reshape(-1, 9)\n",
    "# loop = loop_fitting_function_torch(parms, voltage[:,0].squeeze()).to(\n",
    "#     'cpu').detach().numpy().squeeze()\n",
    "\n",
    "# raw_hysteresis_loop, voltage = self.dataset.get_hysteresis(\n",
    "#             loop_interpolated=True, plotting_values=True)\n",
    "\n",
    "# raw_hysteresis_loop = raw_hysteresis_loop.reshape(-1,96)"
   ]
  },
  {
   "cell_type": "code",
   "execution_count": 152,
   "metadata": {},
   "outputs": [
    {
     "name": "stdout",
     "output_type": "stream",
     "text": [
      "No spectroscopic datasets found as attributes of /Measurement_000/Channel_000/Position_Indices\n",
      "No position datasets found as attributes of /Measurement_000/Raw_Data-SHO_Fit_000/Spectroscopic_Values\n"
     ]
    }
   ],
   "source": [
    "loops, raw_hysteresis_loop, voltage = BE_viz.dataset.get_LSQF_hysteresis_fits(compare=True)\n",
    "\n"
   ]
  },
  {
   "cell_type": "code",
   "execution_count": 224,
   "metadata": {},
   "outputs": [
    {
     "data": {
      "text/plain": [
       "[<matplotlib.lines.Line2D at 0x7faa7d070190>]"
      ]
     },
     "execution_count": 224,
     "metadata": {},
     "output_type": "execute_result"
    },
    {
     "data": {
      "image/png": "[encoded data removed]",
      "text/plain": [
       "<Figure size 640x480 with 1 Axes>"
      ]
     },
     "metadata": {},
     "output_type": "display_data"
    }
   ],
   "source": [
    "\n",
    "index = np.random.randint(0,14400)\n",
    "index = 10829\n",
    "plt.plot(voltage,raw_hysteresis_loop[index])\n",
    "plt.plot(voltage, pred_data[index])"
   ]
  },
  {
   "cell_type": "code",
   "execution_count": 121,
   "metadata": {},
   "outputs": [
    {
     "name": "stdout",
     "output_type": "stream",
     "text": [
      "No spectroscopic datasets found as attributes of /Measurement_000/Channel_000/Position_Indices\n",
      "No position datasets found as attributes of /Measurement_000/Raw_Data-SHO_Fit_000/Spectroscopic_Values\n",
      "No spectroscopic datasets found as attributes of /Measurement_000/Channel_000/Position_Indices\n",
      "No position datasets found as attributes of /Measurement_000/Raw_Data-SHO_Fit_000/Spectroscopic_Values\n"
     ]
    }
   ],
   "source": [
    "nn_model = model\n",
    "\n",
    "_data, voltage = dataset.get_hysteresis(scaled=True, loop_interpolated = True)\n",
    "_data = torch.atleast_3d(torch.tensor(_data.reshape(-1,96))).float()\n",
    "\n",
    "NN_pred_data, NN_scaled_params, NN_params = nn_model.predict(\n",
    "        _data, translate_params=False, is_SHO=False)\n",
    "NN_loops = loop_fitting_function_torch(NN_params, voltage[:, 0].squeeze()).to(\n",
    "            'cpu').detach().numpy().squeeze()\n",
    "\n",
    "\n",
    "# gets the LSQF Hysteresis Loops from the Dataset\n",
    "loops, raw_hysteresis_loop, voltage = self.dataset.get_LSQF_hysteresis_fits(compare=True)\n",
    "\n"
   ]
  },
  {
   "cell_type": "code",
   "execution_count": 218,
   "metadata": {},
   "outputs": [
    {
     "name": "stdout",
     "output_type": "stream",
     "text": [
      "No spectroscopic datasets found as attributes of /Measurement_000/Channel_000/Position_Indices\n",
      "No position datasets found as attributes of /Measurement_000/Raw_Data-SHO_Fit_000/Spectroscopic_Values\n"
     ]
    },
    {
     "data": {
      "text/plain": [
       "(60, 60, 4, 96)"
      ]
     },
     "execution_count": 218,
     "metadata": {},
     "output_type": "execute_result"
    }
   ],
   "source": [
    "_data, voltage = dataset.get_hysteresis(scaled=True, loop_interpolated = True)\n",
    "_data.shape"
   ]
  },
  {
   "cell_type": "code",
   "execution_count": 131,
   "metadata": {},
   "outputs": [
    {
     "name": "stdout",
     "output_type": "stream",
     "text": [
      "No spectroscopic datasets found as attributes of /Measurement_000/Channel_000/Position_Indices\n",
      "No position datasets found as attributes of /Measurement_000/Raw_Data-SHO_Fit_000/Spectroscopic_Values\n"
     ]
    }
   ],
   "source": [
    "# gets the LSQF Hysteresis Loops from the Dataset\n",
    "loops, raw_hysteresis_loop, voltage = self.dataset.get_LSQF_hysteresis_fits(compare=True)"
   ]
  },
  {
   "cell_type": "code",
   "execution_count": 181,
   "metadata": {},
   "outputs": [
    {
     "data": {
      "text/plain": [
       "[<matplotlib.lines.Line2D at 0x7faa76b9e690>]"
      ]
     },
     "execution_count": 181,
     "metadata": {},
     "output_type": "execute_result"
    },
    {
     "data": {
      "image/png": "[encoded data removed]",
      "text/plain": [
       "<Figure size 640x480 with 1 Axes>"
      ]
     },
     "metadata": {},
     "output_type": "display_data"
    }
   ],
   "source": []
  },
  {
   "cell_type": "code",
   "execution_count": 247,
   "metadata": {},
   "outputs": [
    {
     "data": {
      "text/plain": [
       "(60, 60, 4, 9)"
      ]
     },
     "execution_count": 247,
     "metadata": {},
     "output_type": "execute_result"
    }
   ],
   "source": [
    "params.shape"
   ]
  },
  {
   "cell_type": "code",
   "execution_count": 255,
   "metadata": {},
   "outputs": [
    {
     "data": {
      "text/plain": [
       "(14400, 96)"
      ]
     },
     "execution_count": 255,
     "metadata": {},
     "output_type": "execute_result"
    }
   ],
   "source": [
    "loops_scaled.shape"
   ]
  },
  {
   "cell_type": "code",
   "execution_count": null,
   "metadata": {},
   "outputs": [],
   "source": []
  },
  {
   "cell_type": "code",
   "execution_count": 278,
   "metadata": {},
   "outputs": [
    {
     "name": "stdout",
     "output_type": "stream",
     "text": [
      "No spectroscopic datasets found as attributes of /Measurement_000/Channel_000/Position_Indices\n",
      "No position datasets found as attributes of /Measurement_000/Raw_Data-SHO_Fit_000/Spectroscopic_Values\n",
      "No spectroscopic datasets found as attributes of /Measurement_000/Channel_000/Position_Indices\n",
      "No position datasets found as attributes of /Measurement_000/Raw_Data-SHO_Fit_000/Spectroscopic_Values\n"
     ]
    }
   ],
   "source": [
    "# data, voltage = dataset.get_hysteresis(scaled=True, loop_interpolated = True)\n",
    "# data = data.reshape(-1,96)\n",
    "# gets the LSQF Hysteresis Loops from the Dataset\n",
    "loops, raw_hysteresis_loop_scaled, voltage = self.dataset.get_LSQF_hysteresis_fits(compare=True)\n",
    "\n",
    "# scales the loops for comparison \n",
    "loops_scaled = self.dataset.hysteresis_scaler.transform(loops)\n",
    "raw_hysteresis_loop = self.dataset.hysteresis_scaler.transform(raw_hysteresis_loop_scaled)\n",
    "\n",
    "# gets the NN data for comparison\n",
    "if nn_model is not None:\n",
    "    # gets the data for model prediction with the NN\n",
    "    _data, voltage = dataset.get_hysteresis(scaled=True, loop_interpolated = True)\n",
    "    _data = torch.atleast_3d(torch.tensor(_data.reshape(-1,96))).float()\n",
    "    \n",
    "    NN_pred_data, NN_scaled_params, NN_params = nn_model.predict(\n",
    "            _data, translate_params=False, is_SHO=False)\n",
    "    NN_loops = loop_fitting_function_torch(NN_params, voltage[:, 0].squeeze()).to(\n",
    "                'cpu').detach().numpy().squeeze()\n",
    "    NN_loops_scaled = self.dataset.hysteresis_scaler.transform(NN_loops)"
   ]
  },
  {
   "cell_type": "code",
   "execution_count": null,
   "metadata": {},
   "outputs": [],
   "source": []
  },
  {
   "cell_type": "code",
   "execution_count": 283,
   "metadata": {},
   "outputs": [
    {
     "data": {
      "text/plain": [
       "[<matplotlib.lines.Line2D at 0x7fa81834c4d0>]"
      ]
     },
     "execution_count": 283,
     "metadata": {},
     "output_type": "execute_result"
    },
    {
     "data": {
      "image/png": "[encoded data removed]",
      "text/plain": [
       "<Figure size 640x480 with 1 Axes>"
      ]
     },
     "metadata": {},
     "output_type": "display_data"
    }
   ],
   "source": [
    "i = np.random.randint(0,14400)\n",
    "\n",
    "plt.plot(voltage, raw_hysteresis_loop_scaled[i])\n",
    "plt.plot(voltage, NN_loops_scaled[i])\n",
    "plt.plot(voltage, loops_scaled[i])"
   ]
  },
  {
   "cell_type": "code",
   "execution_count": 325,
   "metadata": {},
   "outputs": [
    {
     "data": {
      "text/plain": [
       "(  Dataset       MSE\n",
       " 0      NN  0.006897\n",
       " 1    LSQF  0.143808,\n",
       " 0.14380770124655312)"
      ]
     },
     "execution_count": 325,
     "metadata": {},
     "output_type": "execute_result"
    }
   ],
   "source": [
    "out = ranked_mse(raw_hysteresis_loop_scaled, {'LSQF':loops_scaled, 'NN':NN_loops_scaled}, 'LSQF')\n",
    "\n",
    "out"
   ]
  },
  {
   "cell_type": "code",
   "execution_count": null,
   "metadata": {},
   "outputs": [],
   "source": []
  },
  {
   "cell_type": "code",
   "execution_count": 322,
   "metadata": {},
   "outputs": [],
   "source": [
    "def ranked_mse(true, samples_dict, selected_key):\n",
    "    \"\"\"\n",
    "    Compute Mean Squared Error (MSE) between a true dataset and multiple sample datasets\n",
    "    contained in a dictionary. Rank the samples based on the MSE of the dataset selected by the key.\n",
    "\n",
    "    :param true: The true dataset (array-like).\n",
    "    :param samples_dict: A dictionary where each key is a string and each value is an array-like dataset.\n",
    "    :param selected_key: The key in samples_dict to use for ranking.\n",
    "    :return: A DataFrame with MSE for all datasets and a ranked list based on the selected dataset.\n",
    "    \"\"\"\n",
    "    # Ensure inputs are numpy arrays\n",
    "    true = np.array(true)\n",
    "    samples_dict = {key: np.array(value) for key, value in samples_dict.items()}\n",
    "    \n",
    "    # Calculate MSE for each dataset in the dictionary\n",
    "    mse_dict = {key: np.mean((true - value) ** 2) for key, value in samples_dict.items()}\n",
    "    \n",
    "    # Convert the MSE dictionary to a DataFrame\n",
    "    mse_df = pd.DataFrame(list(mse_dict.items()), columns=['Dataset', 'MSE'])\n",
    "    \n",
    "    # Rank the DataFrame by MSE based on the selected dataset key\n",
    "    ranked_df = mse_df.sort_values('MSE').reset_index(drop=True)\n",
    "    \n",
    "    # Get the MSE for the selected dataset\n",
    "    selected_mse = mse_df[mse_df['Dataset'] == selected_key]['MSE'].values[0]\n",
    "    \n",
    "    return ranked_df, selected_mse"
   ]
  },
  {
   "cell_type": "code",
   "execution_count": 351,
   "metadata": {
    "editable": true,
    "slideshow": {
     "slide_type": ""
    },
    "tags": []
   },
   "outputs": [],
   "source": [
    "import numpy as np\n",
    "import pandas as pd\n",
    "from m3_learning.viz.layout import get_axis_pos_inches, add_text_to_figure\n",
    "\n",
    "def ranked_mse(true, sample_a, other_samples = None):\n",
    "    \"\"\"\n",
    "    Compute Mean Squared Error (MSE) between two datasets of samples.\n",
    "    \n",
    "    :param true: First dataset (array-like) of samples.\n",
    "    :param sample_a_value: Second dataset (array-like) of samples.\n",
    "    :return: DataFrame with original index and computed MSE for each sample.\n",
    "    \"\"\"\n",
    "\n",
    "    # Extract the key and value\n",
    "    sample_a_key, sample_a_value = list(sample_a.items())[0]\n",
    "\n",
    "    # Ensure inputs are numpy arrays\n",
    "    true = np.array(true)\n",
    "    sample_a_value = np.array(sample_a_value)\n",
    "    \n",
    "    # Calculate MSE for each sample\n",
    "    mse = np.mean((true - sample_a_value) ** 2, axis=1)\n",
    "\n",
    "    \n",
    "    # Create a DataFrame with original index and MSE\n",
    "    df = pd.DataFrame({\n",
    "        'Original Index': np.arange(len(mse), dtype=int),\n",
    "        f'MSE_{sample_a_key}': mse\n",
    "    })\n",
    "\n",
    "    if other_samples is not None:\n",
    "        other_sample_key, other_sample_value = list(other_samples.items())[0]\n",
    "        # Calculate MSE for each sample\n",
    "        mse_other_sample = np.mean((true - other_sample_value) ** 2, axis=1)\n",
    "        # Add the new column to the DataFrame\n",
    "        df[f'MSE_{other_sample_key}'] = mse_other_sample\n",
    "    \n",
    "    # Sort the DataFrame by MSE to find best, worst, and middle examples\n",
    "    sorted_df = df.sort_values(f'MSE_{sample_a_key}').reset_index(drop=True)\n",
    "    \n",
    "    # Identify best, worst, and middle examples and ensure index remains int\n",
    "    best_example = sorted_df.iloc[0]\n",
    "    best_example['Original Index'] = int(best_example['Original Index'])\n",
    "    \n",
    "    worst_example = sorted_df.iloc[-1]\n",
    "    worst_example['Original Index'] = int(worst_example['Original Index'])\n",
    "    \n",
    "    middle_example = sorted_df.iloc[len(sorted_df) // 2]\n",
    "    middle_example['Original Index'] = int(middle_example['Original Index'])\n",
    "    \n",
    "    return best_example, middle_example, worst_example\n",
    "\n",
    "def hysteresis_comparison(self,\n",
    "                              data,\n",
    "                              row=None,\n",
    "                              col=None,\n",
    "                              cycle=None,\n",
    "                              size=(1.25, 1.25),\n",
    "                              gaps=(1, 0.66),\n",
    "                              nn_model=None,\n",
    "                              measurement_state=None,\n",
    "                              filename=\"hysteresis_comparison\"):\n",
    "        \"\"\"\n",
    "        hysteresis_comparison function to plot a comparison of the hysteresis loop\n",
    "\n",
    "        Args:\n",
    "            data (list): List of data types to plot\n",
    "            row (int, optional): row to plot. Defaults to None.\n",
    "            col (int, optional): column to plot. Defaults to None.\n",
    "            cycle (int, optional): cycle to plot. Defaults to None.\n",
    "            size (tuple, optional): size of the image to plot. Defaults to (1.25,1.25).\n",
    "            measurement_state (str, optional): measurement state to plot. Defaults to None.\n",
    "        \"\"\"\n",
    "\n",
    "        # if not isinstance(models, list):\n",
    "        #     models = [models]\n",
    "\n",
    "        # sets the measurement state\n",
    "        if self.dataset.measurement_state is not None:\n",
    "            self.dataset.measurement_state = measurement_state\n",
    "\n",
    "        # gets the LSQF Hysteresis Loops from the Dataset\n",
    "        loops, raw_hysteresis_loop_scaled, voltage = self.dataset.get_LSQF_hysteresis_fits(compare=True)\n",
    "        \n",
    "        # scales the loops for comparison \n",
    "        loops_scaled = self.dataset.hysteresis_scaler.transform(loops)\n",
    "        raw_hysteresis_loop = self.dataset.hysteresis_scaler.inverse_transform(raw_hysteresis_loop_scaled)\n",
    "        \n",
    "        # gets the NN data for comparison\n",
    "        if nn_model is not None:\n",
    "            # gets the data for model prediction with the NN\n",
    "            _data, voltage = dataset.get_hysteresis(scaled=True, loop_interpolated = True)\n",
    "            _data = torch.atleast_3d(torch.tensor(_data.reshape(-1,96))).float()\n",
    "            \n",
    "            NN_pred_data, NN_scaled_params, NN_params = nn_model.predict(\n",
    "                    _data, translate_params=False, is_SHO=False)\n",
    "            NN_loops = loop_fitting_function_torch(NN_params, voltage[:, 0].squeeze()).to(\n",
    "                        'cpu').detach().numpy().squeeze()\n",
    "            NN_loops_scaled = self.dataset.hysteresis_scaler.transform(NN_loops)\n",
    "\n",
    "        # if only the LSQF is to be plotted\n",
    "        if 'LSQF' in data and 'NN' not in data:\n",
    "\n",
    "            # selects a point to plot\n",
    "            row, col, cycle = self.get_selected_hysteresis(\n",
    "                raw_hysteresis_loop, row, col, cycle)\n",
    "    \n",
    "            self.random_hysteresis(raw_hysteresis_loop,\n",
    "                          voltage,\n",
    "                          filename,\n",
    "                          size,\n",
    "                          row, col, cycle)\n",
    "            return\n",
    "\n",
    "        # if we are plotting the NN and LSQF results\n",
    "        fig, ax = subfigures(3, len(data), gaps=gaps, size=size)\n",
    "\n",
    "        # loops around the models provided\n",
    "        for j, model in enumerate(data):\n",
    "\n",
    "            if model == 'LSQF':\n",
    "                out = ranked_mse(raw_hysteresis_loop_scaled, \n",
    "                                {'LSQF':loops_scaled},\n",
    "                                {'NN':NN_loops_scaled})\n",
    "\n",
    "            elif model == 'NN':\n",
    "                out = ranked_mse(raw_hysteresis_loop_scaled, \n",
    "                                                {'NN':NN_loops_scaled},\n",
    "                                                {'LSQF':loops_scaled})\n",
    "            \n",
    "            for i, results in enumerate(out):\n",
    "\n",
    "                # sets the index for the plots\n",
    "                plot_idx = i * 2 + j\n",
    "\n",
    "                index = int(results['Original Index'])\n",
    "\n",
    "                ax[plot_idx].plot(voltage,\n",
    "                                 raw_hysteresis_loop[index], 'o', label=\"Raw Data\")\n",
    "\n",
    "                ax[plot_idx].plot(voltage,\n",
    "                                 loops[index], 'r', label='LSQF')\n",
    "\n",
    "                ax[plot_idx].plot(voltage,\n",
    "                                 NN_loops[index], 'g', label='NN')\n",
    "\n",
    "                \n",
    "                # Position text at (1 inch, 2 inches) from the bottom left corner of the figure\n",
    "                text_position_in_inches = (\n",
    "                    -1 * (gaps[0] + size[0]) * ((2 - i) % 3) + size[0] / 2,\n",
    "                    (gaps[1] + size[1]) * (1.25 - i // 3 - 1.25) - gaps[1],\n",
    "                )\n",
    "        \n",
    "                # gets the axis position in inches - gets the bottom center\n",
    "                center = get_axis_pos_inches(fig, ax[plot_idx])\n",
    "        \n",
    "                # selects the text position as an offset from the bottom center\n",
    "                text_position_in_inches = (center[0], center[1] - 0.33 + .125)\n",
    "\n",
    "                error = results['MSE_LSQF']\n",
    "        \n",
    "                error_string = f\"LSQF MSE: {error:0.4f}\"\n",
    "        \n",
    "                add_text_to_figure(\n",
    "                    fig,\n",
    "                    error_string,\n",
    "                    text_position_in_inches,\n",
    "                    fontsize=6,\n",
    "                    ha=\"center\",\n",
    "                        # va=\"top\",\n",
    "                    )\n",
    "\n",
    "                # selects the text position as an offset from the bottom center\n",
    "                text_position_in_inches = (center[0], center[1] - 0.33)\n",
    "\n",
    "                error = results['MSE_NN']\n",
    "        \n",
    "                error_string = f\"NN MSE: {error:0.4f}\"\n",
    "        \n",
    "                add_text_to_figure(\n",
    "                    fig,\n",
    "                    error_string,\n",
    "                    text_position_in_inches,\n",
    "                    fontsize=6,\n",
    "                    ha=\"center\",\n",
    "                        # va=\"top\",\n",
    "                    )\n",
    "\n",
    "                ax[plot_idx-1].set_ylabel(\"(Arb. U.)\")\n",
    "                ax[plot_idx].set_ylabel(\"(Arb. U.)\")\n",
    "\n",
    "        # add a legend just for the last one\n",
    "        lines, labels = ax[plot_idx-1].get_legend_handles_labels()\n",
    "        ax[plot_idx-1].legend(lines, labels, loc=\"upper right\")\n",
    "        lines, labels = ax[plot_idx].get_legend_handles_labels()\n",
    "        ax[plot_idx].legend(lines, labels, loc=\"upper right\")\n",
    "\n",
    "        ax[plot_idx-1].set_xlabel(\"Voltage (V)\")\n",
    "        ax[plot_idx].set_xlabel(\"Voltage (V)\")\n",
    "\n",
    "            # # prints the figure\n",
    "            # if self.Printer is not None and filename is not None:\n",
    "            #     self.Printer.savefig(fig, filename, label_figs=ax, style=\"b\")"
   ]
  },
  {
   "cell_type": "code",
   "execution_count": null,
   "metadata": {},
   "outputs": [],
   "source": []
  },
  {
   "cell_type": "code",
   "execution_count": null,
   "metadata": {},
   "outputs": [],
   "source": []
  },
  {
   "cell_type": "code",
   "execution_count": 352,
   "metadata": {},
   "outputs": [
    {
     "name": "stdout",
     "output_type": "stream",
     "text": [
      "No spectroscopic datasets found as attributes of /Measurement_000/Channel_000/Position_Indices\n",
      "No position datasets found as attributes of /Measurement_000/Raw_Data-SHO_Fit_000/Spectroscopic_Values\n",
      "No spectroscopic datasets found as attributes of /Measurement_000/Channel_000/Position_Indices\n",
      "No position datasets found as attributes of /Measurement_000/Raw_Data-SHO_Fit_000/Spectroscopic_Values\n"
     ]
    },
    {
     "name": "stderr",
     "output_type": "stream",
     "text": [
      "/tmp/ipykernel_5374/1876408560.py:43: SettingWithCopyWarning: \n",
      "A value is trying to be set on a copy of a slice from a DataFrame\n",
      "\n",
      "See the caveats in the documentation: https://pandas.pydata.org/pandas-docs/stable/user_guide/indexing.html#returning-a-view-versus-a-copy\n",
      "  best_example['Original Index'] = int(best_example['Original Index'])\n",
      "/tmp/ipykernel_5374/1876408560.py:46: SettingWithCopyWarning: \n",
      "A value is trying to be set on a copy of a slice from a DataFrame\n",
      "\n",
      "See the caveats in the documentation: https://pandas.pydata.org/pandas-docs/stable/user_guide/indexing.html#returning-a-view-versus-a-copy\n",
      "  worst_example['Original Index'] = int(worst_example['Original Index'])\n",
      "/tmp/ipykernel_5374/1876408560.py:49: SettingWithCopyWarning: \n",
      "A value is trying to be set on a copy of a slice from a DataFrame\n",
      "\n",
      "See the caveats in the documentation: https://pandas.pydata.org/pandas-docs/stable/user_guide/indexing.html#returning-a-view-versus-a-copy\n",
      "  middle_example['Original Index'] = int(middle_example['Original Index'])\n",
      "/tmp/ipykernel_5374/1876408560.py:43: SettingWithCopyWarning: \n",
      "A value is trying to be set on a copy of a slice from a DataFrame\n",
      "\n",
      "See the caveats in the documentation: https://pandas.pydata.org/pandas-docs/stable/user_guide/indexing.html#returning-a-view-versus-a-copy\n",
      "  best_example['Original Index'] = int(best_example['Original Index'])\n",
      "/tmp/ipykernel_5374/1876408560.py:46: SettingWithCopyWarning: \n",
      "A value is trying to be set on a copy of a slice from a DataFrame\n",
      "\n",
      "See the caveats in the documentation: https://pandas.pydata.org/pandas-docs/stable/user_guide/indexing.html#returning-a-view-versus-a-copy\n",
      "  worst_example['Original Index'] = int(worst_example['Original Index'])\n",
      "/tmp/ipykernel_5374/1876408560.py:49: SettingWithCopyWarning: \n",
      "A value is trying to be set on a copy of a slice from a DataFrame\n",
      "\n",
      "See the caveats in the documentation: https://pandas.pydata.org/pandas-docs/stable/user_guide/indexing.html#returning-a-view-versus-a-copy\n",
      "  middle_example['Original Index'] = int(middle_example['Original Index'])\n"
     ]
    },
    {
     "data": {
      "image/png": "[encoded data removed]",
      "text/plain": [
       "<Figure size 410x474 with 6 Axes>"
      ]
     },
     "metadata": {},
     "output_type": "display_data"
    }
   ],
   "source": [
    "self = BE_viz\n",
    "\n",
    "hysteresis_comparison(self,\n",
    "                      ['LSQF','NN'],\n",
    "                      row=None,\n",
    "                      col=None,\n",
    "                      cycle=None,\n",
    "                      size=(1.25, 1.25),\n",
    "                      gaps=(0.8, 0.33),\n",
    "                      nn_model=model,\n",
    "                      measurement_state=None,\n",
    "                      filename=\"hysteresis_comparison\")"
   ]
  },
  {
   "cell_type": "code",
   "execution_count": 67,
   "metadata": {},
   "outputs": [],
   "source": [
    "# self = BE_viz\n",
    "\n",
    "# def get_hysteresis_prediction_from_ind(idx, model):\n",
    "#     # gets the raw data\n",
    "#     raw_hysteresis_loop, voltage = self.dataset.get_hysteresis(\n",
    "#         loop_interpolated=True, plotting_values=True)\n",
    "    \n",
    "#     raw_hysteresis_loop = raw_hysteresis_loop.reshape(-1, 96)[idx, :]\n",
    "    \n",
    "#     parms_lsqf = self.dataset.LSQF_hysteresis_params(\n",
    "#                 ).reshape(-1, 9)[idx, :]\n",
    "    \n",
    "#     data_raw, voltage = self.dataset.get_hysteresis(\n",
    "#         loop_interpolated=True, plotting_values=True)\n",
    "    \n",
    "#     pred_data, scaled_params, params = model.predict(\n",
    "#             torch.atleast_3d(torch.tensor(data_raw.reshape(-1, 96))).float(), translate_params=False, is_SHO=False)\n",
    "    \n",
    "#     params = params[idx, :].to(\n",
    "#                     'cpu').detach().numpy().squeeze()\n",
    "#     print(params.shape)\n",
    "#     print(type(parms_lsqf))\n",
    "    \n",
    "#     LSQF_loop = loop_fitting_function_torch(parms_lsqf, voltage[:, 0].squeeze()).to(\n",
    "#                     'cpu').detach().numpy().squeeze()\n",
    "    \n",
    "#     NN_loop = loop_fitting_function_torch(params, voltage[:, 0].squeeze()).to(\n",
    "#                     'cpu').detach().numpy().squeeze()\n",
    "    \n",
    "#     return raw_hysteresis_loop, LSQF_loop, NN_loop"
   ]
  },
  {
   "cell_type": "markdown",
   "metadata": {},
   "source": [
    "### Statistics of the Results for Training, Validation, and Entire Dataset"
   ]
  },
  {
   "cell_type": "code",
   "execution_count": 355,
   "metadata": {},
   "outputs": [
    {
     "name": "stdout",
     "output_type": "stream",
     "text": [
      "No spectroscopic datasets found as attributes of /Measurement_000/Channel_000/Position_Indices\n",
      "No position datasets found as attributes of /Measurement_000/Raw_Data-SHO_Fit_000/Spectroscopic_Values\n",
      "./Figures/Figure_XX_Violin.png\n",
      "./Figures/Figure_XX_Violin.svg\n"
     ]
    },
    {
     "data": {
      "image/png": "[encoded data removed]",
      "text/plain": [
       "<Figure size 400x400 with 1 Axes>"
      ]
     },
     "execution_count": 355,
     "metadata": {},
     "output_type": "execute_result"
    },
    {
     "data": {
      "image/png": "[encoded data removed]",
      "text/plain": [
       "<Figure size 400x400 with 1 Axes>"
      ]
     },
     "metadata": {},
     "output_type": "display_data"
    }
   ],
   "source": [
    "data, voltage = dataset.get_hysteresis(scaled=True, loop_interpolated = True)\n",
    "\n",
    "BE_viz.violin_plot_comparison_hysteresis(model,\n",
    "                                         torch.atleast_3d(torch.tensor(data.reshape(-1, 96))).float(),\n",
    "                                         filename=\"Figure_XX_Violin\") "
   ]
  },
  {
   "cell_type": "markdown",
   "metadata": {},
   "source": [
    "### Color Maps of Parameters"
   ]
  },
  {
   "cell_type": "code",
   "execution_count": 356,
   "metadata": {},
   "outputs": [
    {
     "name": "stdout",
     "output_type": "stream",
     "text": [
      "No spectroscopic datasets found as attributes of /Measurement_000/Channel_000/Position_Indices\n",
      "No position datasets found as attributes of /Measurement_000/Raw_Data-SHO_Fit_000/Spectroscopic_Values\n"
     ]
    },
    {
     "ename": "RuntimeError",
     "evalue": "Input type (double) and bias type (float) should be the same",
     "output_type": "error",
     "traceback": [
      "\u001b[0;31m---------------------------------------------------------------------------\u001b[0m",
      "\u001b[0;31mRuntimeError\u001b[0m                              Traceback (most recent call last)",
      "Cell \u001b[0;32mIn[356], line 4\u001b[0m\n\u001b[1;32m      1\u001b[0m data, voltage \u001b[38;5;241m=\u001b[39m dataset\u001b[38;5;241m.\u001b[39mget_hysteresis(scaled\u001b[38;5;241m=\u001b[39m\u001b[38;5;28;01mTrue\u001b[39;00m, loop_interpolated \u001b[38;5;241m=\u001b[39m \u001b[38;5;28;01mTrue\u001b[39;00m)\n\u001b[1;32m      2\u001b[0m data \u001b[38;5;241m=\u001b[39m torch\u001b[38;5;241m.\u001b[39matleast_3d(torch\u001b[38;5;241m.\u001b[39mtensor(data\u001b[38;5;241m.\u001b[39mreshape(\u001b[38;5;241m-\u001b[39m\u001b[38;5;241m1\u001b[39m, \u001b[38;5;241m96\u001b[39m)))\n\u001b[0;32m----> 4\u001b[0m pred_recon, pred_params_scaled, pred_params \u001b[38;5;241m=\u001b[39m \u001b[43mmodel\u001b[49m\u001b[38;5;241;43m.\u001b[39;49m\u001b[43mpredict\u001b[49m\u001b[43m(\u001b[49m\n\u001b[1;32m      5\u001b[0m \u001b[43m    \u001b[49m\u001b[43mdata\u001b[49m\u001b[43m,\u001b[49m\n\u001b[1;32m      6\u001b[0m \u001b[43m    \u001b[49m\u001b[38;5;241;43m1024\u001b[39;49m\u001b[43m,\u001b[49m\n\u001b[1;32m      7\u001b[0m \u001b[43m    \u001b[49m\u001b[43mtranslate_params\u001b[49m\u001b[38;5;241;43m=\u001b[39;49m\u001b[38;5;28;43;01mFalse\u001b[39;49;00m\u001b[43m,\u001b[49m\n\u001b[1;32m      8\u001b[0m \u001b[43m    \u001b[49m\u001b[43mis_SHO\u001b[49m\u001b[38;5;241;43m=\u001b[39;49m\u001b[38;5;28;43;01mFalse\u001b[39;49;00m\n\u001b[1;32m      9\u001b[0m \u001b[43m)\u001b[49m\n\u001b[1;32m     11\u001b[0m BE_viz\u001b[38;5;241m.\u001b[39mhysteresis_maps(pred_params, filename\u001b[38;5;241m=\u001b[39m\u001b[38;5;124m\"\u001b[39m\u001b[38;5;124mFigure_XX_NN_Hysteresis_Maps\u001b[39m\u001b[38;5;124m\"\u001b[39m)\n",
      "File \u001b[0;32m~/Documents/m3_learning/m3_learning/papers/2023_Rapid_Fitting/../../src/m3_learning/nn/Fitter1D/Fitter1D.py:515\u001b[0m, in \u001b[0;36mModel.predict\u001b[0;34m(self, data, batch_size, single, translate_params, is_SHO)\u001b[0m\n\u001b[1;32m    512\u001b[0m \u001b[38;5;28;01mif\u001b[39;00m i \u001b[38;5;241m==\u001b[39m num_batches \u001b[38;5;241m-\u001b[39m \u001b[38;5;241m1\u001b[39m:\n\u001b[1;32m    513\u001b[0m     end \u001b[38;5;241m=\u001b[39m num_elements\n\u001b[0;32m--> 515\u001b[0m pred_batch, params_scaled_, params_ \u001b[38;5;241m=\u001b[39m \u001b[38;5;28;43mself\u001b[39;49m\u001b[38;5;241;43m.\u001b[39;49m\u001b[43mmodel\u001b[49m\u001b[43m(\u001b[49m\n\u001b[1;32m    516\u001b[0m \u001b[43m    \u001b[49m\u001b[43mtrain_batch\u001b[49m\u001b[38;5;241;43m.\u001b[39;49m\u001b[43mto\u001b[49m\u001b[43m(\u001b[49m\u001b[38;5;28;43mself\u001b[39;49m\u001b[38;5;241;43m.\u001b[39;49m\u001b[43mdevice\u001b[49m\u001b[43m)\u001b[49m\u001b[43m)\u001b[49m\n\u001b[1;32m    518\u001b[0m \u001b[38;5;28;01mif\u001b[39;00m is_SHO:\n\u001b[1;32m    519\u001b[0m     predictions[start:end] \u001b[38;5;241m=\u001b[39m pred_batch\u001b[38;5;241m.\u001b[39mcpu()\u001b[38;5;241m.\u001b[39mdetach()\n",
      "File \u001b[0;32m~/anaconda3/envs/paper/lib/python3.11/site-packages/torch/nn/modules/module.py:1532\u001b[0m, in \u001b[0;36mModule._wrapped_call_impl\u001b[0;34m(self, *args, **kwargs)\u001b[0m\n\u001b[1;32m   1530\u001b[0m     \u001b[38;5;28;01mreturn\u001b[39;00m \u001b[38;5;28mself\u001b[39m\u001b[38;5;241m.\u001b[39m_compiled_call_impl(\u001b[38;5;241m*\u001b[39margs, \u001b[38;5;241m*\u001b[39m\u001b[38;5;241m*\u001b[39mkwargs)  \u001b[38;5;66;03m# type: ignore[misc]\u001b[39;00m\n\u001b[1;32m   1531\u001b[0m \u001b[38;5;28;01melse\u001b[39;00m:\n\u001b[0;32m-> 1532\u001b[0m     \u001b[38;5;28;01mreturn\u001b[39;00m \u001b[38;5;28;43mself\u001b[39;49m\u001b[38;5;241;43m.\u001b[39;49m\u001b[43m_call_impl\u001b[49m\u001b[43m(\u001b[49m\u001b[38;5;241;43m*\u001b[39;49m\u001b[43margs\u001b[49m\u001b[43m,\u001b[49m\u001b[43m \u001b[49m\u001b[38;5;241;43m*\u001b[39;49m\u001b[38;5;241;43m*\u001b[39;49m\u001b[43mkwargs\u001b[49m\u001b[43m)\u001b[49m\n",
      "File \u001b[0;32m~/anaconda3/envs/paper/lib/python3.11/site-packages/torch/nn/modules/module.py:1541\u001b[0m, in \u001b[0;36mModule._call_impl\u001b[0;34m(self, *args, **kwargs)\u001b[0m\n\u001b[1;32m   1536\u001b[0m \u001b[38;5;66;03m# If we don't have any hooks, we want to skip the rest of the logic in\u001b[39;00m\n\u001b[1;32m   1537\u001b[0m \u001b[38;5;66;03m# this function, and just call forward.\u001b[39;00m\n\u001b[1;32m   1538\u001b[0m \u001b[38;5;28;01mif\u001b[39;00m \u001b[38;5;129;01mnot\u001b[39;00m (\u001b[38;5;28mself\u001b[39m\u001b[38;5;241m.\u001b[39m_backward_hooks \u001b[38;5;129;01mor\u001b[39;00m \u001b[38;5;28mself\u001b[39m\u001b[38;5;241m.\u001b[39m_backward_pre_hooks \u001b[38;5;129;01mor\u001b[39;00m \u001b[38;5;28mself\u001b[39m\u001b[38;5;241m.\u001b[39m_forward_hooks \u001b[38;5;129;01mor\u001b[39;00m \u001b[38;5;28mself\u001b[39m\u001b[38;5;241m.\u001b[39m_forward_pre_hooks\n\u001b[1;32m   1539\u001b[0m         \u001b[38;5;129;01mor\u001b[39;00m _global_backward_pre_hooks \u001b[38;5;129;01mor\u001b[39;00m _global_backward_hooks\n\u001b[1;32m   1540\u001b[0m         \u001b[38;5;129;01mor\u001b[39;00m _global_forward_hooks \u001b[38;5;129;01mor\u001b[39;00m _global_forward_pre_hooks):\n\u001b[0;32m-> 1541\u001b[0m     \u001b[38;5;28;01mreturn\u001b[39;00m \u001b[43mforward_call\u001b[49m\u001b[43m(\u001b[49m\u001b[38;5;241;43m*\u001b[39;49m\u001b[43margs\u001b[49m\u001b[43m,\u001b[49m\u001b[43m \u001b[49m\u001b[38;5;241;43m*\u001b[39;49m\u001b[38;5;241;43m*\u001b[39;49m\u001b[43mkwargs\u001b[49m\u001b[43m)\u001b[49m\n\u001b[1;32m   1543\u001b[0m \u001b[38;5;28;01mtry\u001b[39;00m:\n\u001b[1;32m   1544\u001b[0m     result \u001b[38;5;241m=\u001b[39m \u001b[38;5;28;01mNone\u001b[39;00m\n",
      "File \u001b[0;32m~/Documents/m3_learning/m3_learning/papers/2023_Rapid_Fitting/../../src/m3_learning/nn/Fitter1D/Fitter1D.py:156\u001b[0m, in \u001b[0;36mMultiscale1DFitter.forward\u001b[0;34m(self, x, n)\u001b[0m\n\u001b[1;32m    153\u001b[0m \u001b[38;5;28;01mdef\u001b[39;00m \u001b[38;5;21mforward\u001b[39m(\u001b[38;5;28mself\u001b[39m, x, n\u001b[38;5;241m=\u001b[39m\u001b[38;5;241m-\u001b[39m\u001b[38;5;241m1\u001b[39m):\n\u001b[1;32m    154\u001b[0m     \u001b[38;5;66;03m# output shape - samples, (real, imag), frequency\u001b[39;00m\n\u001b[1;32m    155\u001b[0m     x \u001b[38;5;241m=\u001b[39m torch\u001b[38;5;241m.\u001b[39mswapaxes(x, \u001b[38;5;241m1\u001b[39m, \u001b[38;5;241m2\u001b[39m)\n\u001b[0;32m--> 156\u001b[0m     x \u001b[38;5;241m=\u001b[39m \u001b[38;5;28;43mself\u001b[39;49m\u001b[38;5;241;43m.\u001b[39;49m\u001b[43mhidden_x1\u001b[49m\u001b[43m(\u001b[49m\u001b[43mx\u001b[49m\u001b[43m)\u001b[49m\n\u001b[1;32m    157\u001b[0m     xfc \u001b[38;5;241m=\u001b[39m torch\u001b[38;5;241m.\u001b[39mreshape(x, (n, \u001b[38;5;241m256\u001b[39m))  \u001b[38;5;66;03m# batch size, features\u001b[39;00m\n\u001b[1;32m    158\u001b[0m     xfc \u001b[38;5;241m=\u001b[39m \u001b[38;5;28mself\u001b[39m\u001b[38;5;241m.\u001b[39mhidden_xfc(xfc)\n",
      "File \u001b[0;32m~/anaconda3/envs/paper/lib/python3.11/site-packages/torch/nn/modules/module.py:1532\u001b[0m, in \u001b[0;36mModule._wrapped_call_impl\u001b[0;34m(self, *args, **kwargs)\u001b[0m\n\u001b[1;32m   1530\u001b[0m     \u001b[38;5;28;01mreturn\u001b[39;00m \u001b[38;5;28mself\u001b[39m\u001b[38;5;241m.\u001b[39m_compiled_call_impl(\u001b[38;5;241m*\u001b[39margs, \u001b[38;5;241m*\u001b[39m\u001b[38;5;241m*\u001b[39mkwargs)  \u001b[38;5;66;03m# type: ignore[misc]\u001b[39;00m\n\u001b[1;32m   1531\u001b[0m \u001b[38;5;28;01melse\u001b[39;00m:\n\u001b[0;32m-> 1532\u001b[0m     \u001b[38;5;28;01mreturn\u001b[39;00m \u001b[38;5;28;43mself\u001b[39;49m\u001b[38;5;241;43m.\u001b[39;49m\u001b[43m_call_impl\u001b[49m\u001b[43m(\u001b[49m\u001b[38;5;241;43m*\u001b[39;49m\u001b[43margs\u001b[49m\u001b[43m,\u001b[49m\u001b[43m \u001b[49m\u001b[38;5;241;43m*\u001b[39;49m\u001b[38;5;241;43m*\u001b[39;49m\u001b[43mkwargs\u001b[49m\u001b[43m)\u001b[49m\n",
      "File \u001b[0;32m~/anaconda3/envs/paper/lib/python3.11/site-packages/torch/nn/modules/module.py:1541\u001b[0m, in \u001b[0;36mModule._call_impl\u001b[0;34m(self, *args, **kwargs)\u001b[0m\n\u001b[1;32m   1536\u001b[0m \u001b[38;5;66;03m# If we don't have any hooks, we want to skip the rest of the logic in\u001b[39;00m\n\u001b[1;32m   1537\u001b[0m \u001b[38;5;66;03m# this function, and just call forward.\u001b[39;00m\n\u001b[1;32m   1538\u001b[0m \u001b[38;5;28;01mif\u001b[39;00m \u001b[38;5;129;01mnot\u001b[39;00m (\u001b[38;5;28mself\u001b[39m\u001b[38;5;241m.\u001b[39m_backward_hooks \u001b[38;5;129;01mor\u001b[39;00m \u001b[38;5;28mself\u001b[39m\u001b[38;5;241m.\u001b[39m_backward_pre_hooks \u001b[38;5;129;01mor\u001b[39;00m \u001b[38;5;28mself\u001b[39m\u001b[38;5;241m.\u001b[39m_forward_hooks \u001b[38;5;129;01mor\u001b[39;00m \u001b[38;5;28mself\u001b[39m\u001b[38;5;241m.\u001b[39m_forward_pre_hooks\n\u001b[1;32m   1539\u001b[0m         \u001b[38;5;129;01mor\u001b[39;00m _global_backward_pre_hooks \u001b[38;5;129;01mor\u001b[39;00m _global_backward_hooks\n\u001b[1;32m   1540\u001b[0m         \u001b[38;5;129;01mor\u001b[39;00m _global_forward_hooks \u001b[38;5;129;01mor\u001b[39;00m _global_forward_pre_hooks):\n\u001b[0;32m-> 1541\u001b[0m     \u001b[38;5;28;01mreturn\u001b[39;00m \u001b[43mforward_call\u001b[49m\u001b[43m(\u001b[49m\u001b[38;5;241;43m*\u001b[39;49m\u001b[43margs\u001b[49m\u001b[43m,\u001b[49m\u001b[43m \u001b[49m\u001b[38;5;241;43m*\u001b[39;49m\u001b[38;5;241;43m*\u001b[39;49m\u001b[43mkwargs\u001b[49m\u001b[43m)\u001b[49m\n\u001b[1;32m   1543\u001b[0m \u001b[38;5;28;01mtry\u001b[39;00m:\n\u001b[1;32m   1544\u001b[0m     result \u001b[38;5;241m=\u001b[39m \u001b[38;5;28;01mNone\u001b[39;00m\n",
      "File \u001b[0;32m~/anaconda3/envs/paper/lib/python3.11/site-packages/torch/nn/modules/container.py:217\u001b[0m, in \u001b[0;36mSequential.forward\u001b[0;34m(self, input)\u001b[0m\n\u001b[1;32m    215\u001b[0m \u001b[38;5;28;01mdef\u001b[39;00m \u001b[38;5;21mforward\u001b[39m(\u001b[38;5;28mself\u001b[39m, \u001b[38;5;28minput\u001b[39m):\n\u001b[1;32m    216\u001b[0m     \u001b[38;5;28;01mfor\u001b[39;00m module \u001b[38;5;129;01min\u001b[39;00m \u001b[38;5;28mself\u001b[39m:\n\u001b[0;32m--> 217\u001b[0m         \u001b[38;5;28minput\u001b[39m \u001b[38;5;241m=\u001b[39m \u001b[43mmodule\u001b[49m\u001b[43m(\u001b[49m\u001b[38;5;28;43minput\u001b[39;49m\u001b[43m)\u001b[49m\n\u001b[1;32m    218\u001b[0m     \u001b[38;5;28;01mreturn\u001b[39;00m \u001b[38;5;28minput\u001b[39m\n",
      "File \u001b[0;32m~/anaconda3/envs/paper/lib/python3.11/site-packages/torch/nn/modules/module.py:1532\u001b[0m, in \u001b[0;36mModule._wrapped_call_impl\u001b[0;34m(self, *args, **kwargs)\u001b[0m\n\u001b[1;32m   1530\u001b[0m     \u001b[38;5;28;01mreturn\u001b[39;00m \u001b[38;5;28mself\u001b[39m\u001b[38;5;241m.\u001b[39m_compiled_call_impl(\u001b[38;5;241m*\u001b[39margs, \u001b[38;5;241m*\u001b[39m\u001b[38;5;241m*\u001b[39mkwargs)  \u001b[38;5;66;03m# type: ignore[misc]\u001b[39;00m\n\u001b[1;32m   1531\u001b[0m \u001b[38;5;28;01melse\u001b[39;00m:\n\u001b[0;32m-> 1532\u001b[0m     \u001b[38;5;28;01mreturn\u001b[39;00m \u001b[38;5;28;43mself\u001b[39;49m\u001b[38;5;241;43m.\u001b[39;49m\u001b[43m_call_impl\u001b[49m\u001b[43m(\u001b[49m\u001b[38;5;241;43m*\u001b[39;49m\u001b[43margs\u001b[49m\u001b[43m,\u001b[49m\u001b[43m \u001b[49m\u001b[38;5;241;43m*\u001b[39;49m\u001b[38;5;241;43m*\u001b[39;49m\u001b[43mkwargs\u001b[49m\u001b[43m)\u001b[49m\n",
      "File \u001b[0;32m~/anaconda3/envs/paper/lib/python3.11/site-packages/torch/nn/modules/module.py:1541\u001b[0m, in \u001b[0;36mModule._call_impl\u001b[0;34m(self, *args, **kwargs)\u001b[0m\n\u001b[1;32m   1536\u001b[0m \u001b[38;5;66;03m# If we don't have any hooks, we want to skip the rest of the logic in\u001b[39;00m\n\u001b[1;32m   1537\u001b[0m \u001b[38;5;66;03m# this function, and just call forward.\u001b[39;00m\n\u001b[1;32m   1538\u001b[0m \u001b[38;5;28;01mif\u001b[39;00m \u001b[38;5;129;01mnot\u001b[39;00m (\u001b[38;5;28mself\u001b[39m\u001b[38;5;241m.\u001b[39m_backward_hooks \u001b[38;5;129;01mor\u001b[39;00m \u001b[38;5;28mself\u001b[39m\u001b[38;5;241m.\u001b[39m_backward_pre_hooks \u001b[38;5;129;01mor\u001b[39;00m \u001b[38;5;28mself\u001b[39m\u001b[38;5;241m.\u001b[39m_forward_hooks \u001b[38;5;129;01mor\u001b[39;00m \u001b[38;5;28mself\u001b[39m\u001b[38;5;241m.\u001b[39m_forward_pre_hooks\n\u001b[1;32m   1539\u001b[0m         \u001b[38;5;129;01mor\u001b[39;00m _global_backward_pre_hooks \u001b[38;5;129;01mor\u001b[39;00m _global_backward_hooks\n\u001b[1;32m   1540\u001b[0m         \u001b[38;5;129;01mor\u001b[39;00m _global_forward_hooks \u001b[38;5;129;01mor\u001b[39;00m _global_forward_pre_hooks):\n\u001b[0;32m-> 1541\u001b[0m     \u001b[38;5;28;01mreturn\u001b[39;00m \u001b[43mforward_call\u001b[49m\u001b[43m(\u001b[49m\u001b[38;5;241;43m*\u001b[39;49m\u001b[43margs\u001b[49m\u001b[43m,\u001b[49m\u001b[43m \u001b[49m\u001b[38;5;241;43m*\u001b[39;49m\u001b[38;5;241;43m*\u001b[39;49m\u001b[43mkwargs\u001b[49m\u001b[43m)\u001b[49m\n\u001b[1;32m   1543\u001b[0m \u001b[38;5;28;01mtry\u001b[39;00m:\n\u001b[1;32m   1544\u001b[0m     result \u001b[38;5;241m=\u001b[39m \u001b[38;5;28;01mNone\u001b[39;00m\n",
      "File \u001b[0;32m~/anaconda3/envs/paper/lib/python3.11/site-packages/torch/nn/modules/conv.py:310\u001b[0m, in \u001b[0;36mConv1d.forward\u001b[0;34m(self, input)\u001b[0m\n\u001b[1;32m    309\u001b[0m \u001b[38;5;28;01mdef\u001b[39;00m \u001b[38;5;21mforward\u001b[39m(\u001b[38;5;28mself\u001b[39m, \u001b[38;5;28minput\u001b[39m: Tensor) \u001b[38;5;241m-\u001b[39m\u001b[38;5;241m>\u001b[39m Tensor:\n\u001b[0;32m--> 310\u001b[0m     \u001b[38;5;28;01mreturn\u001b[39;00m \u001b[38;5;28;43mself\u001b[39;49m\u001b[38;5;241;43m.\u001b[39;49m\u001b[43m_conv_forward\u001b[49m\u001b[43m(\u001b[49m\u001b[38;5;28;43minput\u001b[39;49m\u001b[43m,\u001b[49m\u001b[43m \u001b[49m\u001b[38;5;28;43mself\u001b[39;49m\u001b[38;5;241;43m.\u001b[39;49m\u001b[43mweight\u001b[49m\u001b[43m,\u001b[49m\u001b[43m \u001b[49m\u001b[38;5;28;43mself\u001b[39;49m\u001b[38;5;241;43m.\u001b[39;49m\u001b[43mbias\u001b[49m\u001b[43m)\u001b[49m\n",
      "File \u001b[0;32m~/anaconda3/envs/paper/lib/python3.11/site-packages/torch/nn/modules/conv.py:306\u001b[0m, in \u001b[0;36mConv1d._conv_forward\u001b[0;34m(self, input, weight, bias)\u001b[0m\n\u001b[1;32m    302\u001b[0m \u001b[38;5;28;01mif\u001b[39;00m \u001b[38;5;28mself\u001b[39m\u001b[38;5;241m.\u001b[39mpadding_mode \u001b[38;5;241m!=\u001b[39m \u001b[38;5;124m'\u001b[39m\u001b[38;5;124mzeros\u001b[39m\u001b[38;5;124m'\u001b[39m:\n\u001b[1;32m    303\u001b[0m     \u001b[38;5;28;01mreturn\u001b[39;00m F\u001b[38;5;241m.\u001b[39mconv1d(F\u001b[38;5;241m.\u001b[39mpad(\u001b[38;5;28minput\u001b[39m, \u001b[38;5;28mself\u001b[39m\u001b[38;5;241m.\u001b[39m_reversed_padding_repeated_twice, mode\u001b[38;5;241m=\u001b[39m\u001b[38;5;28mself\u001b[39m\u001b[38;5;241m.\u001b[39mpadding_mode),\n\u001b[1;32m    304\u001b[0m                     weight, bias, \u001b[38;5;28mself\u001b[39m\u001b[38;5;241m.\u001b[39mstride,\n\u001b[1;32m    305\u001b[0m                     _single(\u001b[38;5;241m0\u001b[39m), \u001b[38;5;28mself\u001b[39m\u001b[38;5;241m.\u001b[39mdilation, \u001b[38;5;28mself\u001b[39m\u001b[38;5;241m.\u001b[39mgroups)\n\u001b[0;32m--> 306\u001b[0m \u001b[38;5;28;01mreturn\u001b[39;00m \u001b[43mF\u001b[49m\u001b[38;5;241;43m.\u001b[39;49m\u001b[43mconv1d\u001b[49m\u001b[43m(\u001b[49m\u001b[38;5;28;43minput\u001b[39;49m\u001b[43m,\u001b[49m\u001b[43m \u001b[49m\u001b[43mweight\u001b[49m\u001b[43m,\u001b[49m\u001b[43m \u001b[49m\u001b[43mbias\u001b[49m\u001b[43m,\u001b[49m\u001b[43m \u001b[49m\u001b[38;5;28;43mself\u001b[39;49m\u001b[38;5;241;43m.\u001b[39;49m\u001b[43mstride\u001b[49m\u001b[43m,\u001b[49m\n\u001b[1;32m    307\u001b[0m \u001b[43m                \u001b[49m\u001b[38;5;28;43mself\u001b[39;49m\u001b[38;5;241;43m.\u001b[39;49m\u001b[43mpadding\u001b[49m\u001b[43m,\u001b[49m\u001b[43m \u001b[49m\u001b[38;5;28;43mself\u001b[39;49m\u001b[38;5;241;43m.\u001b[39;49m\u001b[43mdilation\u001b[49m\u001b[43m,\u001b[49m\u001b[43m \u001b[49m\u001b[38;5;28;43mself\u001b[39;49m\u001b[38;5;241;43m.\u001b[39;49m\u001b[43mgroups\u001b[49m\u001b[43m)\u001b[49m\n",
      "\u001b[0;31mRuntimeError\u001b[0m: Input type (double) and bias type (float) should be the same"
     ]
    }
   ],
   "source": [
    "data, voltage = dataset.get_hysteresis(scaled=True, loop_interpolated = True)\n",
    "data = torch.atleast_3d(torch.tensor(data.reshape(-1, 96)))\n",
    "\n",
    "pred_recon, pred_params_scaled, pred_params = model.predict(\n",
    "    data,\n",
    "    1024,\n",
    "    translate_params=False,\n",
    "    is_SHO=False\n",
    ")\n",
    "\n",
    "BE_viz.hysteresis_maps(pred_params, filename=\"Figure_XX_NN_Hysteresis_Maps\")"
   ]
  },
  {
   "cell_type": "code",
   "execution_count": null,
   "metadata": {},
   "outputs": [],
   "source": []
  },
  {
   "cell_type": "code",
   "execution_count": null,
   "metadata": {},
   "outputs": [],
   "source": []
  }
 ],
 "metadata": {
  "kernelspec": {
   "display_name": "Python 3 (ipykernel)",
   "language": "python",
   "name": "python3"
  },
  "language_info": {
   "codemirror_mode": {
    "name": "ipython",
    "version": 3
   },
   "file_extension": ".py",
   "mimetype": "text/x-python",
   "name": "python",
   "nbconvert_exporter": "python",
   "pygments_lexer": "ipython3",
   "version": "3.11.9"
  }
 },
 "nbformat": 4,
 "nbformat_minor": 4
}
