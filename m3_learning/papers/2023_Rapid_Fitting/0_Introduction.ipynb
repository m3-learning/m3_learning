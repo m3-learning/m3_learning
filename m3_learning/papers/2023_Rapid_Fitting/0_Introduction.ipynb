{
 "cells": [
  {
   "attachments": {},
   "cell_type": "markdown",
   "id": "13ab5645",
   "metadata": {
    "id": "tixss8keJzIz"
   },
   "source": [
    "# Rapid Fitting of Band-Excitation Piezoresponse Force Microscopy Using Physics Constrained Unsupervised Neural Networks\n",
    "\n",
    "---\n",
    "\n",
    "Alibek T. Kaliyev<sup>1,2</sup>,\n",
    "Ryan Forelli<sup>5</sup>,\n",
    "Pedro Sales<sup>7</sup>,\n",
    "Shuyu Qin<sup>1</sup>,\n",
    "Yichen Guo<sup>3</sup>,\n",
    "Olugbodi (FJ) Oluwafolajinmi<sup>5</sup>,\n",
    "Seda Ogrenci Memik<sup>12</sup>,\n",
    "Michael W. Mahoney<sup>11</sup>,\n",
    "Amir Gholami<sup>11</sup>,\n",
    "Rama K. Vasudevan<sup>9</sup>,\n",
    "Stephen Jesse<sup>9</sup>,\n",
    "Nhan Tran<sup>10</sup>,\n",
    "Philip Harris<sup>8</sup>,\n",
    "Martin Takáč<sup>4</sup>,\n",
    "Joshua C. Agar<sup>6\\*</sup>\n",
    "\n",
    "---\n",
    "\n",
    "<sup>1</sup> Department of Computer Science and Engineering, Lehigh University, Bethlehem, Pennsylvania\n",
    "\n",
    "<sup>2</sup> College of Business, Lehigh University, Bethlehem, Pennsylvania\n",
    "\n",
    "<sup>3</sup> Department of Materials Science and Engineering, Lehigh University, Bethlehem, Pennsylvania\n",
    "\n",
    "<sup>4</sup> Department of Industrial and Systems Engineering, Lehigh University, Bethlehem, Pennsylvania\n",
    "\n",
    "<sup>5</sup> Department of Electrical and Computer Engineering, Lehigh University, Bethlehem, Pennsylvania\n",
    "\n",
    "<sup>6</sup> Department of Mechanical Engineering and Mechanics, Drexel University, Philadelphia, Pennsylvania\n",
    "\n",
    "<sup>7</sup> Department of Electrical Engineering and Computer Science, Massachusetts Institute of Technology (MIT), Cambridge, Massachusetts\n",
    "\n",
    "<sup>8</sup> Department of Physics, Massachusetts Institute of Technology (MIT), Cambridge, Massachusetts\n",
    "\n",
    "<sup>9</sup> Center for Nanophase Materials Sciences, Oak Ridge National Laboratory, Oak Ridge, Tennessee\n",
    "\n",
    "<sup>10</sup> Fermi National Accelerator Laboratory, Batavia, Illinois\n",
    "\n",
    "<sup>11</sup> Department of Electrical Engineering and Computer Sciences, University of California, Berkeley, Berkeley, California\n",
    "\n",
    "<sup>12</sup> Department of Electrical and Computer Engineering, Northwestern University, Illinois\n",
    "\n",
    "\\*Address correspondence to: jca92@drexel.edu\n"
   ]
  },
  {
   "cell_type": "markdown",
   "id": "750fbbe3",
   "metadata": {
    "id": "C1czMlqNTNWD"
   },
   "source": [
    "# Abstract (text)\n"
   ]
  },
  {
   "cell_type": "markdown",
   "id": "7f56ab76",
   "metadata": {
    "id": "dJo_I4EHb2ek"
   },
   "source": [
    "For nearly a decade, band-excitation piezoresponse force-based switching spectroscopy (BEPS) has been used to characterize ferroelectric switching and dynamic electromechanical responses of materials with nanoscale resolution. One of the key outputs of this technique is hyperspectral images of piezoelectric hysteresis loops, wherein there are one or more hysteresis loops at every pixel position. The challenge and dedication required to properly analyze data from these experiments have throttled the impact and widespread use of BEPS. To simplify the extraction of information from these datasets, a common approach involves fitting the piezoelectric hysteresis loops to an empirical function to parameterize the loops. This technique has several shortcomings:\n",
    "\n",
    "It is computationally intensive, requiring more than 24 hours to process a single experiment on a single workstation with parallel processing.\n",
    "It is highly dependent on prior estimates, which are difficult to compute to ensure optimization close to the global minimum.\n",
    "It is unable to accommodate some of the complex features observed in piezoelectric hysteresis loops.\n",
    "\n",
    "In an alternative approach, researchers have applied machine learning algorithms including principal component analysis, clustering algorithms, and non-negative matrix factorization to statistically address this problem. These algorithms are limited by their linear constraints, computational efficiency, and interpretability.\n",
    "\n",
    "Our goal is to develop a fully unsupervised approach based on deep recurrent neural networks in the form of an autoencoder. This autoencoder will be able to learn a sparse and thus interpretable latent space of piezoelectric hysteresis loops, revealing detailed physical insight that will allude to results from other analysis techniques. This approach, however, is generally not applied due to the computational resources required for training. Here, we address this problem by developing generalized pre-trained models which can conduct feature extraction from piezoelectric hysteresis loops with minimal or potentially no training. We will achieve this by feeding a large database of noisy real piezoelectric hysteresis loops into the unsupervised model, with Residual Network architecture and Attention layers (widely used in Natural Language Processing), which will reproduce loops using the empirical function. After the training, we will extract the intermediate layer responsible for predicting parameters of loops. We will then benchmark the performance by validating the model on example open experimental datasets. We will determine how to best fine-tune these models using minimal computational resources to improve their efficacy on experimental data. By developing pre-trained models, we can significantly decrease the computational complexity of using these techniques.\n",
    "\n",
    "Using this approach, it might be possible to deploy these methods for real-time analysis of BEPS, thus enabling experimentalists to improve their experimental efficiency and extract more information from these experiments. While our work focuses on developing models and benchmarking their efficacy in BEPS, this methodology could be adapted to other spectroscopic imaging techniques.\n"
   ]
  },
  {
   "cell_type": "code",
   "execution_count": null,
   "id": "e4a07c0b",
   "metadata": {},
   "outputs": [],
   "source": []
  }
 ],
 "metadata": {
  "kernelspec": {
   "display_name": "Python 3 (ipykernel)",
   "language": "python",
   "name": "python3"
  },
  "language_info": {
   "codemirror_mode": {
    "name": "ipython",
    "version": 3
   },
   "file_extension": ".py",
   "mimetype": "text/x-python",
   "name": "python",
   "nbconvert_exporter": "python",
   "pygments_lexer": "ipython3",
   "version": "3.11.9"
  },
  "varInspector": {
   "cols": {
    "lenName": 16,
    "lenType": 16,
    "lenVar": 40
   },
   "kernels_config": {
    "python": {
     "delete_cmd_postfix": "",
     "delete_cmd_prefix": "del ",
     "library": "var_list.py",
     "varRefreshCmd": "print(var_dic_list())"
    },
    "r": {
     "delete_cmd_postfix": ") ",
     "delete_cmd_prefix": "rm(",
     "library": "var_list.r",
     "varRefreshCmd": "cat(var_dic_list()) "
    }
   },
   "types_to_exclude": [
    "module",
    "function",
    "builtin_function_or_method",
    "instance",
    "_Feature"
   ],
   "window_display": false
  },
  "vscode": {
   "interpreter": {
    "hash": "c58f42fd11d8ae4df132d3c425059695e86ccc63a852aa66615442730ca8b1fc"
   }
  }
 },
 "nbformat": 4,
 "nbformat_minor": 5
}
