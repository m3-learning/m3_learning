{
 "cells": [
  {
   "cell_type": "code",
   "execution_count": 3,
   "metadata": {},
   "outputs": [
    {
     "ename": "RuntimeError",
     "evalue": "The size of tensor a (16384) must match the size of tensor b (16) at non-singleton dimension 0",
     "output_type": "error",
     "traceback": [
      "\u001b[0;31m---------------------------------------------------------------------------\u001b[0m",
      "\u001b[0;31mRuntimeError\u001b[0m                              Traceback (most recent call last)",
      "Cell \u001b[0;32mIn[3], line 29\u001b[0m\n\u001b[1;32m     26\u001b[0m sigma2 \u001b[38;5;241m=\u001b[39m torch\u001b[38;5;241m.\u001b[39mvar(conv_output, dim\u001b[38;5;241m=\u001b[39m(\u001b[38;5;241m0\u001b[39m, \u001b[38;5;241m2\u001b[39m, \u001b[38;5;241m3\u001b[39m), keepdim\u001b[38;5;241m=\u001b[39m\u001b[38;5;28;01mTrue\u001b[39;00m, unbiased\u001b[38;5;241m=\u001b[39m\u001b[38;5;28;01mFalse\u001b[39;00m)\n\u001b[1;32m     28\u001b[0m \u001b[38;5;66;03m# Compute new weights and biases\u001b[39;00m\n\u001b[0;32m---> 29\u001b[0m W_prime \u001b[38;5;241m=\u001b[39m \u001b[43mgamma\u001b[49m\u001b[38;5;241;43m.\u001b[39;49m\u001b[43mview\u001b[49m\u001b[43m(\u001b[49m\u001b[38;5;241;43m-\u001b[39;49m\u001b[38;5;241;43m1\u001b[39;49m\u001b[43m,\u001b[49m\u001b[43m \u001b[49m\u001b[38;5;241;43m1\u001b[39;49m\u001b[43m,\u001b[49m\u001b[43m \u001b[49m\u001b[38;5;241;43m1\u001b[39;49m\u001b[43m,\u001b[49m\u001b[43m \u001b[49m\u001b[38;5;241;43m1\u001b[39;49m\u001b[43m)\u001b[49m\u001b[43m \u001b[49m\u001b[38;5;241;43m*\u001b[39;49m\u001b[43m \u001b[49m\u001b[43mW\u001b[49m \u001b[38;5;241m/\u001b[39m torch\u001b[38;5;241m.\u001b[39msqrt(sigma2 \u001b[38;5;241m+\u001b[39m epsilon)\n\u001b[1;32m     30\u001b[0m b_prime \u001b[38;5;241m=\u001b[39m (b \u001b[38;5;241m-\u001b[39m mu\u001b[38;5;241m.\u001b[39msqueeze()) \u001b[38;5;241m/\u001b[39m \\\n\u001b[1;32m     31\u001b[0m     torch\u001b[38;5;241m.\u001b[39msqrt(sigma2\u001b[38;5;241m.\u001b[39msqueeze() \u001b[38;5;241m+\u001b[39m epsilon) \u001b[38;5;241m*\u001b[39m gamma \u001b[38;5;241m+\u001b[39m beta\n\u001b[1;32m     33\u001b[0m \u001b[38;5;66;03m# Create a new convolutional layer with the merged parameters\u001b[39;00m\n",
      "\u001b[0;31mRuntimeError\u001b[0m: The size of tensor a (16384) must match the size of tensor b (16) at non-singleton dimension 0"
     ]
    }
   ],
   "source": [
    "import torch\n",
    "import torch.nn as nn\n",
    "\n",
    "# Define the convolutional layer and layer normalization\n",
    "conv = nn.Conv2d(in_channels=3, out_channels=16,\n",
    "                 kernel_size=3, stride=1, padding=1)\n",
    "# Assume the output size is [16, 32, 32]\n",
    "layer_norm = nn.LayerNorm([16, 32, 32])\n",
    "\n",
    "# Example input\n",
    "x = torch.randn(1, 3, 32, 32)\n",
    "\n",
    "# Forward pass through the original layers\n",
    "conv_output = conv(x)\n",
    "original_output = layer_norm(conv_output)\n",
    "\n",
    "# Extract parameters\n",
    "W = conv.weight.data\n",
    "b = conv.bias.data\n",
    "gamma = layer_norm.weight.data\n",
    "beta = layer_norm.bias.data\n",
    "epsilon = layer_norm.eps\n",
    "\n",
    "# Compute mean and variance of the convolutional output\n",
    "mu = torch.mean(conv_output, dim=(0, 2, 3), keepdim=True)\n",
    "sigma2 = torch.var(conv_output, dim=(0, 2, 3), keepdim=True, unbiased=False)\n",
    "\n",
    "# Compute new weights and biases\n",
    "W_prime = gamma.view(-1, 1, 1, 1) * W / torch.sqrt(sigma2 + epsilon)\n",
    "b_prime = (b - mu.squeeze()) / \\\n",
    "    torch.sqrt(sigma2.squeeze() + epsilon) * gamma + beta\n",
    "\n",
    "# Create a new convolutional layer with the merged parameters\n",
    "merged_conv = nn.Conv2d(in_channels=3, out_channels=16,\n",
    "                        kernel_size=3, stride=1, padding=1)\n",
    "merged_conv.weight.data = W_prime\n",
    "merged_conv.bias.data = b_prime\n",
    "\n",
    "# Forward pass through the merged convolutional layer\n",
    "merged_output = merged_conv(x)\n",
    "\n",
    "# Verify the outputs are close\n",
    "assert torch.allclose(original_output, merged_output,\n",
    "                      atol=1e-6), \"The outputs are not close enough!\"\n",
    "\n",
    "print(\"Merging was successful!\")"
   ]
  },
  {
   "cell_type": "code",
   "execution_count": 5,
   "metadata": {},
   "outputs": [
    {
     "ename": "RuntimeError",
     "evalue": "The size of tensor a (16384) must match the size of tensor b (16) at non-singleton dimension 0",
     "output_type": "error",
     "traceback": [
      "\u001b[0;31m---------------------------------------------------------------------------\u001b[0m",
      "\u001b[0;31mRuntimeError\u001b[0m                              Traceback (most recent call last)",
      "Cell \u001b[0;32mIn[5], line 28\u001b[0m\n\u001b[1;32m     25\u001b[0m sigma2 \u001b[38;5;241m=\u001b[39m torch\u001b[38;5;241m.\u001b[39mvar(conv_output, dim\u001b[38;5;241m=\u001b[39m(\u001b[38;5;241m0\u001b[39m, \u001b[38;5;241m2\u001b[39m, \u001b[38;5;241m3\u001b[39m), keepdim\u001b[38;5;241m=\u001b[39m\u001b[38;5;28;01mTrue\u001b[39;00m, unbiased\u001b[38;5;241m=\u001b[39m\u001b[38;5;28;01mFalse\u001b[39;00m)\n\u001b[1;32m     27\u001b[0m \u001b[38;5;66;03m# Compute new weights and biases\u001b[39;00m\n\u001b[0;32m---> 28\u001b[0m W_prime \u001b[38;5;241m=\u001b[39m (\u001b[43mgamma\u001b[49m\u001b[38;5;241;43m.\u001b[39;49m\u001b[43mview\u001b[49m\u001b[43m(\u001b[49m\u001b[38;5;241;43m-\u001b[39;49m\u001b[38;5;241;43m1\u001b[39;49m\u001b[43m,\u001b[49m\u001b[43m \u001b[49m\u001b[38;5;241;43m1\u001b[39;49m\u001b[43m,\u001b[49m\u001b[43m \u001b[49m\u001b[38;5;241;43m1\u001b[39;49m\u001b[43m,\u001b[49m\u001b[43m \u001b[49m\u001b[38;5;241;43m1\u001b[39;49m\u001b[43m)\u001b[49m\u001b[43m \u001b[49m\u001b[38;5;241;43m*\u001b[39;49m\u001b[43m \u001b[49m\u001b[43mW\u001b[49m) \u001b[38;5;241m/\u001b[39m torch\u001b[38;5;241m.\u001b[39msqrt(sigma2 \u001b[38;5;241m+\u001b[39m epsilon)\n\u001b[1;32m     29\u001b[0m b_prime \u001b[38;5;241m=\u001b[39m beta \u001b[38;5;241m+\u001b[39m gamma \u001b[38;5;241m*\u001b[39m (b \u001b[38;5;241m-\u001b[39m mu\u001b[38;5;241m.\u001b[39msqueeze()) \u001b[38;5;241m/\u001b[39m \\\n\u001b[1;32m     30\u001b[0m     torch\u001b[38;5;241m.\u001b[39msqrt(sigma2\u001b[38;5;241m.\u001b[39msqueeze() \u001b[38;5;241m+\u001b[39m epsilon)\n\u001b[1;32m     32\u001b[0m \u001b[38;5;66;03m# Create a new convolutional layer with the merged parameters\u001b[39;00m\n",
      "\u001b[0;31mRuntimeError\u001b[0m: The size of tensor a (16384) must match the size of tensor b (16) at non-singleton dimension 0"
     ]
    }
   ],
   "source": [
    "import torch\n",
    "import torch.nn as nn\n",
    "\n",
    "# Define the convolutional layer and layer normalization\n",
    "conv = nn.Conv2d(in_channels=3, out_channels=16,\n",
    "                 kernel_size=3, stride=1, padding=1)\n",
    "layer_norm = nn.LayerNorm([16, 32, 32])\n",
    "\n",
    "# Example input\n",
    "x = torch.randn(1, 3, 32, 32)\n",
    "\n",
    "# Forward pass through the original layers\n",
    "conv_output = conv(x)\n",
    "original_output = layer_norm(conv_output)\n",
    "\n",
    "# Extract parameters\n",
    "W = conv.weight.data\n",
    "b = conv.bias.data\n",
    "gamma = layer_norm.weight.data\n",
    "beta = layer_norm.bias.data\n",
    "epsilon = layer_norm.eps\n",
    "\n",
    "# Compute mean and variance of the convolutional output\n",
    "mu = torch.mean(conv_output, dim=(0, 2, 3), keepdim=True)\n",
    "sigma2 = torch.var(conv_output, dim=(0, 2, 3), keepdim=True, unbiased=False)\n",
    "\n",
    "# Compute new weights and biases\n",
    "W_prime = (gamma.view(-1, 1, 1, 1) * W) / torch.sqrt(sigma2 + epsilon)\n",
    "b_prime = beta + gamma * (b - mu.squeeze()) / \\\n",
    "    torch.sqrt(sigma2.squeeze() + epsilon)\n",
    "\n",
    "# Create a new convolutional layer with the merged parameters\n",
    "merged_conv = nn.Conv2d(in_channels=3, out_channels=16,\n",
    "                        kernel_size=3, stride=1, padding=1)\n",
    "merged_conv.weight.data = W_prime\n",
    "merged_conv.bias.data = b_prime\n",
    "\n",
    "# Forward pass through the merged convolutional layer\n",
    "merged_output = merged_conv(x)\n",
    "\n",
    "# Verify the outputs are close\n",
    "assert torch.allclose(original_output, merged_output,\n",
    "                      atol=1e-6), \"The outputs are not close enough!\"\n",
    "\n",
    "print(\"Merging was successful!\")"
   ]
  },
  {
   "cell_type": "code",
   "execution_count": null,
   "metadata": {},
   "outputs": [],
   "source": []
  }
 ],
 "metadata": {
  "kernelspec": {
   "display_name": "Python 3",
   "language": "python",
   "name": "python3"
  },
  "language_info": {
   "codemirror_mode": {
    "name": "ipython",
    "version": 3
   },
   "file_extension": ".py",
   "mimetype": "text/x-python",
   "name": "python",
   "nbconvert_exporter": "python",
   "pygments_lexer": "ipython3",
   "version": "3.9.16"
  }
 },
 "nbformat": 4,
 "nbformat_minor": 2
}
